{
 "cells": [
  {
   "cell_type": "markdown",
   "metadata": {},
   "source": [
    "# Introductory applied machine learning (INFR10069)"
   ]
  },
  {
   "cell_type": "markdown",
   "metadata": {},
   "source": [
    "# Assignment 3: Object recognition"
   ]
  },
  {
   "cell_type": "markdown",
   "metadata": {},
   "source": [
    "## Marking Breakdown\n",
    "\n",
    "**70-100%** results/answer correct plus extra achievement at understanding or analysis of results. Clear explanations, evidence of creative or deeper thought will contribute to a higher grade.\n",
    "\n",
    "**60-69%** results/answer correct or nearly correct and well explained.\n",
    "\n",
    "**50-59%** results/answer in right direction but significant errors.\n",
    "\n",
    "**40-49%** some evidence that the student has gained some understanding, but not answered the questions\n",
    "properly.\n",
    "\n",
    "**0-39%** serious error or slack work."
   ]
  },
  {
   "cell_type": "markdown",
   "metadata": {},
   "source": [
    "## Mechanics\n",
    "\n",
    "Fill out this notebook, save it, and submit it **and a `.txt` file** (see Part 2) in answer to this assignment.\n",
    "**You need to submit these two files electronically as described below.**\n",
    "\n",
    "On a DICE environment, open the terminal, navigate to the location of this notebook, and submit this notebook file using the following command:\n",
    "\n",
    "`submit iaml cw2 07_Assignment_3.ipynb assignment_3_predictions.txt`\n",
    "\n",
    "What actually happens in the background is that your file is placed in a folder available to markers. If you submit a file with the same name into the same location, **it will *overwrite* your previous submission**. You can check the status of your submissions with the `show_submissions` command.\n",
    "\n",
    "**Distance Learners:** To copy your work up to DICE (such that you can use the `submit` command) you can use `scp` or `rsync` (you may need to install these yourself). You can copy files up using `student.ssh.inf.ed.ac.uk`, then ssh in to submit, e.g. (in a unix terminal):\n",
    "```\n",
    "filename1=07_Assignment_3.ipynb\n",
    "local_scp_filepath1=~/git/iaml2017/${filename1}\n",
    "filename2=assignment_3_predictions.txt\n",
    "local_scp_filepath2=~/git/iaml2017/${filename2}\n",
    "UUN=s0816700\n",
    "server_address=student.ssh.inf.ed.ac.uk\n",
    "scp -r ${local_scp_filepath1} ${UUN}@${server_address}:${filename1}\n",
    "scp -r ${local_scp_filepath2} ${UUN}@${server_address}:${filename2}\n",
    "# rsync -rl ${local_scp_filepath1} ${UUN}@${server_address}:${filename1}\n",
    "# rsync -rl ${local_scp_filepath2} ${UUN}@${server_address}:${filename2}\n",
    "ssh ${UUN}@${server_address}\n",
    "ssh student.login\n",
    "submit iaml cw2 07_Assignment_3.ipynb assignment_3_predictions.txt\n",
    "```\n",
    "\n",
    "**Late submissions:** The policy stated in the School of Informatics MSc Degree Guide is that normally you will not be allowed to submit coursework late. See http://www.inf.ed.ac.uk/teaching/years/msc/courseguide10.html#exam for exceptions to this, e.g. in case of serious medical illness or serious personal problems.\n",
    "\n",
    "**Collaboration:** You may discuss the assignment with your colleagues, provided that the writing that you submit is entirely your own. That is, you should NOT borrow actual text or code from other students. We ask that you provide a list of the people who you've had discussions with (if any).\n",
    "\n",
    "**Resubmission:** If you submit your file again, the previous submission is **overwritten**. We will mark the version that is in the submission folder at the deadline."
   ]
  },
  {
   "cell_type": "markdown",
   "metadata": {},
   "source": [
    "## Important Instructions\n",
    "\n",
    "1. You *MUST* have your environment set up as in the [README](https://github.com/JamesOwers/iaml2017) and you *must activate this environment before running this notebook*:\n",
    "```\n",
    "source activate iaml\n",
    "cd iaml_2017\n",
    "jupyter notebook\n",
    "# Navigate to this file\n",
    "```\n",
    "\n",
    "1. Wherever you are required to produce code you should use code cells, otherwise you should use markdown cells to report results and explain answers.\n",
    "\n",
    "1. The .csv files that you will be using are located at `./datasets` (the `datasets` directory is adjacent to this file).\n",
    "\n",
    "1. **IMPORTANT:** Keep your answers brief and concise. Most written questions can be answered with 2-3 lines of explanation."
   ]
  },
  {
   "cell_type": "markdown",
   "metadata": {},
   "source": [
    "## Imports\n",
    "\n",
    "Include all required imports and execute the cell below. It's typical to include package imports at the top of the file for clarity."
   ]
  },
  {
   "cell_type": "code",
   "execution_count": 111,
   "metadata": {
    "collapsed": false
   },
   "outputs": [],
   "source": [
    "from __future__ import print_function, division\n",
    "%matplotlib inline\n",
    "\n",
    "import os\n",
    "import numpy as np \n",
    "import pandas as pd\n",
    "import matplotlib.pyplot as plt\n",
    "import seaborn as sns\n",
    "from sklearn.model_selection import train_test_split\n",
    "from sklearn.preprocessing import LabelEncoder\n",
    "from sklearn.preprocessing import StandardScaler\n",
    "from sklearn.linear_model import LogisticRegression\n",
    "from sklearn.cross_validation import KFold\n",
    "from sklearn.svm import LinearSVC, SVC\n",
    "from sklearn.linear_model import LogisticRegressionCV\n",
    "from sklearn.neighbors import KNeighborsClassifier\n",
    "from sklearn.ensemble import RandomForestClassifier\n",
    "from sklearn.metrics import log_loss\n",
    "KNeighboursClassifier = KNeighborsClassifier\n",
    "from sklearn.metrics import confusion_matrix, log_loss\n",
    "%matplotlib inline\n",
    "# Your code goes here"
   ]
  },
  {
   "cell_type": "markdown",
   "metadata": {},
   "source": [
    "## Description of the dataset\n",
    "In this assignment our goal is to recognize objects in images of realistic scenes. There are 19 different classes of object e.g. person, dog, cat, car, etc. The dataset derives from several thousands photographs harvested from the web. Each object of a relevant class has been manually annotated with a bounding box. Images can contain none, one or multiple objects of each class. We have prepared a [website](http://www.inf.ed.ac.uk/teaching/courses/iaml/2014/assts/asst3/images.html) where you can view the images.\n",
    "\n",
    "We are going to detect whether images contain a person or not - a binary classification problem. To save you time and to make the problem manageable with limited computational resources, we have preprocessed the dataset. We will use the [Bag of Visual Words](https://en.wikipedia.org/wiki/Bag-of-words_model_in_computer_vision) representation. Each column of the dataset (which is not an lable), refers to a 'visual word'. Each image is represented by a 500 dimensional vector that contains the normalized count for each of 500 different visual words present in the respective image (a similar representation is used for the spambase dataset, just for real words). See the Appendix at the bottom of the notebook for more information. The image data is thus a $N \\times 500$ dimensional matrix where `N` is the number of images.\n",
    "\n",
    "The full dataset has 520 attributes (dimensions). The first attribute (`imgID`) contains the image ID which allows you to associate a data point with an actual image. The next 500 attributes (`dim1`, ..., `dim500`) are a normalized count vector for each visual word. The last 19 attributes (`is_class`) are the labels - 1 means the class is present in the image. In most of the experiments (unless explicitly noted otherwise) you will only need the `is_person` attribute and the 500 dimensional feature vector. **Do not use the additional class indicator attributes as features** unless explicitly told to do so. \n",
    "\n",
    "In Part A we provide you with a training (`train_images partA.csv`) and a validation (`valid_images partA .csv`) dataset. In Part B we provide three data sets: a training set (`train_images partB.csv`), a validation set (`valid_images partB.csv`), and a test set (`test_images partB.csv`). The training and validation set contain valid labels. In the test set the labels are missing. The files are available from the GitHub repository. \n",
    "\n",
    "**Important**: *Throughout the assignment you will be given various versions of the dataset that are relevant\n",
    "to a particular question. Please be careful to use the correct version of the dataset when instructed to do so.\n",
    "If you use the wrong version of the dataset by mistake no marks will be awarded.*"
   ]
  },
  {
   "cell_type": "markdown",
   "metadata": {},
   "source": [
    "## 1. Exploration of the dataset [70%]"
   ]
  },
  {
   "cell_type": "markdown",
   "metadata": {},
   "source": [
    "### ========== Question 1.1 --- [1 mark] ==========\n",
    "Create two Pandas DataFrame objects called `train_A` and `valid_A` by loading the datasets `train_images_partA.csv` and `valid_images_partA.csv`. Display the number of data points and attributes in each of the two datasets."
   ]
  },
  {
   "cell_type": "code",
   "execution_count": 31,
   "metadata": {
    "collapsed": false
   },
   "outputs": [
    {
     "name": "stdout",
     "output_type": "stream",
     "text": [
      "train_A | Number of instances: 2093, number of attributes: 520\n",
      "valid_A | Number of instances: 1113, number of attributes: 520\n"
     ]
    }
   ],
   "source": [
    "data_path = os.path.join(os.getcwd(), 'datasets', 'train_images_partA.csv')\n",
    "train_A = pd.read_csv(data_path, delimiter = ',')\n",
    "print('train_A | Number of instances: {}, number of attributes: {}'.format(train_A.shape[0], train_A.shape[1]))\n",
    "\n",
    "data_path = os.path.join(os.getcwd(), 'datasets', 'valid_images_partA.csv')\n",
    "valid_A = pd.read_csv(data_path, delimiter = ',')\n",
    "print('valid_A | Number of instances: {}, number of attributes: {}'.format(valid_A.shape[0], valid_A.shape[1]))\n"
   ]
  },
  {
   "cell_type": "markdown",
   "metadata": {},
   "source": [
    "### ========== Question 1.2 --- [1 mark] ==========\n",
    "Display and inspect the first 10 instances in the training dataset."
   ]
  },
  {
   "cell_type": "code",
   "execution_count": 32,
   "metadata": {
    "collapsed": false
   },
   "outputs": [
    {
     "data": {
      "text/html": [
       "<div>\n",
       "<table border=\"1\" class=\"dataframe\">\n",
       "  <thead>\n",
       "    <tr style=\"text-align: right;\">\n",
       "      <th></th>\n",
       "      <th>imgId</th>\n",
       "      <th>dim1</th>\n",
       "      <th>dim2</th>\n",
       "      <th>dim3</th>\n",
       "      <th>dim4</th>\n",
       "      <th>dim5</th>\n",
       "      <th>dim6</th>\n",
       "      <th>dim7</th>\n",
       "      <th>dim8</th>\n",
       "      <th>dim9</th>\n",
       "      <th>...</th>\n",
       "      <th>is_cow</th>\n",
       "      <th>is_diningtable</th>\n",
       "      <th>is_dog</th>\n",
       "      <th>is_horse</th>\n",
       "      <th>is_motorbike</th>\n",
       "      <th>is_person</th>\n",
       "      <th>is_pottedplant</th>\n",
       "      <th>is_sheep</th>\n",
       "      <th>is_sofa</th>\n",
       "      <th>is_tvmonitor</th>\n",
       "    </tr>\n",
       "  </thead>\n",
       "  <tbody>\n",
       "    <tr>\n",
       "      <th>0</th>\n",
       "      <td>2008_000008</td>\n",
       "      <td>0.002232</td>\n",
       "      <td>0.000558</td>\n",
       "      <td>0.002790</td>\n",
       "      <td>0.000837</td>\n",
       "      <td>0.001674</td>\n",
       "      <td>0.001953</td>\n",
       "      <td>0.001395</td>\n",
       "      <td>0.002232</td>\n",
       "      <td>0.003627</td>\n",
       "      <td>...</td>\n",
       "      <td>0</td>\n",
       "      <td>0</td>\n",
       "      <td>0</td>\n",
       "      <td>1</td>\n",
       "      <td>0</td>\n",
       "      <td>1</td>\n",
       "      <td>0</td>\n",
       "      <td>0</td>\n",
       "      <td>0</td>\n",
       "      <td>0</td>\n",
       "    </tr>\n",
       "    <tr>\n",
       "      <th>1</th>\n",
       "      <td>2008_000015</td>\n",
       "      <td>0.001563</td>\n",
       "      <td>0.000391</td>\n",
       "      <td>0.007422</td>\n",
       "      <td>0.003516</td>\n",
       "      <td>0.003906</td>\n",
       "      <td>0.005078</td>\n",
       "      <td>0.001953</td>\n",
       "      <td>0.002344</td>\n",
       "      <td>0.001953</td>\n",
       "      <td>...</td>\n",
       "      <td>0</td>\n",
       "      <td>0</td>\n",
       "      <td>0</td>\n",
       "      <td>0</td>\n",
       "      <td>0</td>\n",
       "      <td>0</td>\n",
       "      <td>0</td>\n",
       "      <td>0</td>\n",
       "      <td>0</td>\n",
       "      <td>0</td>\n",
       "    </tr>\n",
       "    <tr>\n",
       "      <th>2</th>\n",
       "      <td>2008_000019</td>\n",
       "      <td>0.000521</td>\n",
       "      <td>0.000000</td>\n",
       "      <td>0.000000</td>\n",
       "      <td>0.001042</td>\n",
       "      <td>0.001563</td>\n",
       "      <td>0.005729</td>\n",
       "      <td>0.000521</td>\n",
       "      <td>0.002083</td>\n",
       "      <td>0.003646</td>\n",
       "      <td>...</td>\n",
       "      <td>0</td>\n",
       "      <td>0</td>\n",
       "      <td>1</td>\n",
       "      <td>0</td>\n",
       "      <td>0</td>\n",
       "      <td>0</td>\n",
       "      <td>0</td>\n",
       "      <td>0</td>\n",
       "      <td>0</td>\n",
       "      <td>0</td>\n",
       "    </tr>\n",
       "    <tr>\n",
       "      <th>3</th>\n",
       "      <td>2008_000023</td>\n",
       "      <td>0.002976</td>\n",
       "      <td>0.002232</td>\n",
       "      <td>0.004464</td>\n",
       "      <td>0.000372</td>\n",
       "      <td>0.000372</td>\n",
       "      <td>0.002232</td>\n",
       "      <td>0.000000</td>\n",
       "      <td>0.003720</td>\n",
       "      <td>0.000000</td>\n",
       "      <td>...</td>\n",
       "      <td>0</td>\n",
       "      <td>0</td>\n",
       "      <td>0</td>\n",
       "      <td>0</td>\n",
       "      <td>0</td>\n",
       "      <td>1</td>\n",
       "      <td>0</td>\n",
       "      <td>0</td>\n",
       "      <td>0</td>\n",
       "      <td>1</td>\n",
       "    </tr>\n",
       "    <tr>\n",
       "      <th>4</th>\n",
       "      <td>2008_000028</td>\n",
       "      <td>0.001359</td>\n",
       "      <td>0.000340</td>\n",
       "      <td>0.001359</td>\n",
       "      <td>0.000340</td>\n",
       "      <td>0.001359</td>\n",
       "      <td>0.002038</td>\n",
       "      <td>0.002378</td>\n",
       "      <td>0.000000</td>\n",
       "      <td>0.003397</td>\n",
       "      <td>...</td>\n",
       "      <td>0</td>\n",
       "      <td>0</td>\n",
       "      <td>0</td>\n",
       "      <td>0</td>\n",
       "      <td>0</td>\n",
       "      <td>0</td>\n",
       "      <td>0</td>\n",
       "      <td>0</td>\n",
       "      <td>0</td>\n",
       "      <td>0</td>\n",
       "    </tr>\n",
       "    <tr>\n",
       "      <th>5</th>\n",
       "      <td>2008_000033</td>\n",
       "      <td>0.000000</td>\n",
       "      <td>0.006324</td>\n",
       "      <td>0.000372</td>\n",
       "      <td>0.000372</td>\n",
       "      <td>0.000372</td>\n",
       "      <td>0.000372</td>\n",
       "      <td>0.000744</td>\n",
       "      <td>0.008185</td>\n",
       "      <td>0.000372</td>\n",
       "      <td>...</td>\n",
       "      <td>0</td>\n",
       "      <td>0</td>\n",
       "      <td>0</td>\n",
       "      <td>0</td>\n",
       "      <td>0</td>\n",
       "      <td>0</td>\n",
       "      <td>0</td>\n",
       "      <td>0</td>\n",
       "      <td>0</td>\n",
       "      <td>0</td>\n",
       "    </tr>\n",
       "    <tr>\n",
       "      <th>6</th>\n",
       "      <td>2008_000036</td>\n",
       "      <td>0.000340</td>\n",
       "      <td>0.000000</td>\n",
       "      <td>0.004416</td>\n",
       "      <td>0.000340</td>\n",
       "      <td>0.000679</td>\n",
       "      <td>0.006114</td>\n",
       "      <td>0.001359</td>\n",
       "      <td>0.002717</td>\n",
       "      <td>0.003057</td>\n",
       "      <td>...</td>\n",
       "      <td>0</td>\n",
       "      <td>0</td>\n",
       "      <td>0</td>\n",
       "      <td>0</td>\n",
       "      <td>0</td>\n",
       "      <td>1</td>\n",
       "      <td>0</td>\n",
       "      <td>0</td>\n",
       "      <td>0</td>\n",
       "      <td>0</td>\n",
       "    </tr>\n",
       "    <tr>\n",
       "      <th>7</th>\n",
       "      <td>2008_000037</td>\n",
       "      <td>0.000837</td>\n",
       "      <td>0.002232</td>\n",
       "      <td>0.000279</td>\n",
       "      <td>0.000279</td>\n",
       "      <td>0.000837</td>\n",
       "      <td>0.000000</td>\n",
       "      <td>0.000279</td>\n",
       "      <td>0.006696</td>\n",
       "      <td>0.000000</td>\n",
       "      <td>...</td>\n",
       "      <td>0</td>\n",
       "      <td>0</td>\n",
       "      <td>0</td>\n",
       "      <td>0</td>\n",
       "      <td>0</td>\n",
       "      <td>0</td>\n",
       "      <td>0</td>\n",
       "      <td>0</td>\n",
       "      <td>0</td>\n",
       "      <td>0</td>\n",
       "    </tr>\n",
       "    <tr>\n",
       "      <th>8</th>\n",
       "      <td>2008_000041</td>\n",
       "      <td>0.002378</td>\n",
       "      <td>0.001359</td>\n",
       "      <td>0.004755</td>\n",
       "      <td>0.001019</td>\n",
       "      <td>0.003736</td>\n",
       "      <td>0.001359</td>\n",
       "      <td>0.001019</td>\n",
       "      <td>0.004076</td>\n",
       "      <td>0.003397</td>\n",
       "      <td>...</td>\n",
       "      <td>0</td>\n",
       "      <td>1</td>\n",
       "      <td>0</td>\n",
       "      <td>0</td>\n",
       "      <td>0</td>\n",
       "      <td>1</td>\n",
       "      <td>0</td>\n",
       "      <td>0</td>\n",
       "      <td>0</td>\n",
       "      <td>0</td>\n",
       "    </tr>\n",
       "    <tr>\n",
       "      <th>9</th>\n",
       "      <td>2008_000045</td>\n",
       "      <td>0.001019</td>\n",
       "      <td>0.000340</td>\n",
       "      <td>0.006454</td>\n",
       "      <td>0.001698</td>\n",
       "      <td>0.001359</td>\n",
       "      <td>0.003736</td>\n",
       "      <td>0.000000</td>\n",
       "      <td>0.004076</td>\n",
       "      <td>0.000000</td>\n",
       "      <td>...</td>\n",
       "      <td>0</td>\n",
       "      <td>0</td>\n",
       "      <td>0</td>\n",
       "      <td>0</td>\n",
       "      <td>0</td>\n",
       "      <td>0</td>\n",
       "      <td>0</td>\n",
       "      <td>0</td>\n",
       "      <td>0</td>\n",
       "      <td>0</td>\n",
       "    </tr>\n",
       "  </tbody>\n",
       "</table>\n",
       "<p>10 rows × 520 columns</p>\n",
       "</div>"
      ],
      "text/plain": [
       "         imgId      dim1      dim2      dim3      dim4      dim5      dim6  \\\n",
       "0  2008_000008  0.002232  0.000558  0.002790  0.000837  0.001674  0.001953   \n",
       "1  2008_000015  0.001563  0.000391  0.007422  0.003516  0.003906  0.005078   \n",
       "2  2008_000019  0.000521  0.000000  0.000000  0.001042  0.001563  0.005729   \n",
       "3  2008_000023  0.002976  0.002232  0.004464  0.000372  0.000372  0.002232   \n",
       "4  2008_000028  0.001359  0.000340  0.001359  0.000340  0.001359  0.002038   \n",
       "5  2008_000033  0.000000  0.006324  0.000372  0.000372  0.000372  0.000372   \n",
       "6  2008_000036  0.000340  0.000000  0.004416  0.000340  0.000679  0.006114   \n",
       "7  2008_000037  0.000837  0.002232  0.000279  0.000279  0.000837  0.000000   \n",
       "8  2008_000041  0.002378  0.001359  0.004755  0.001019  0.003736  0.001359   \n",
       "9  2008_000045  0.001019  0.000340  0.006454  0.001698  0.001359  0.003736   \n",
       "\n",
       "       dim7      dim8      dim9      ...       is_cow  is_diningtable  is_dog  \\\n",
       "0  0.001395  0.002232  0.003627      ...            0               0       0   \n",
       "1  0.001953  0.002344  0.001953      ...            0               0       0   \n",
       "2  0.000521  0.002083  0.003646      ...            0               0       1   \n",
       "3  0.000000  0.003720  0.000000      ...            0               0       0   \n",
       "4  0.002378  0.000000  0.003397      ...            0               0       0   \n",
       "5  0.000744  0.008185  0.000372      ...            0               0       0   \n",
       "6  0.001359  0.002717  0.003057      ...            0               0       0   \n",
       "7  0.000279  0.006696  0.000000      ...            0               0       0   \n",
       "8  0.001019  0.004076  0.003397      ...            0               1       0   \n",
       "9  0.000000  0.004076  0.000000      ...            0               0       0   \n",
       "\n",
       "   is_horse  is_motorbike  is_person  is_pottedplant  is_sheep  is_sofa  \\\n",
       "0         1             0          1               0         0        0   \n",
       "1         0             0          0               0         0        0   \n",
       "2         0             0          0               0         0        0   \n",
       "3         0             0          1               0         0        0   \n",
       "4         0             0          0               0         0        0   \n",
       "5         0             0          0               0         0        0   \n",
       "6         0             0          1               0         0        0   \n",
       "7         0             0          0               0         0        0   \n",
       "8         0             0          1               0         0        0   \n",
       "9         0             0          0               0         0        0   \n",
       "\n",
       "   is_tvmonitor  \n",
       "0             0  \n",
       "1             0  \n",
       "2             0  \n",
       "3             1  \n",
       "4             0  \n",
       "5             0  \n",
       "6             0  \n",
       "7             0  \n",
       "8             0  \n",
       "9             0  \n",
       "\n",
       "[10 rows x 520 columns]"
      ]
     },
     "execution_count": 32,
     "metadata": {},
     "output_type": "execute_result"
    }
   ],
   "source": [
    "train_A.head(10)"
   ]
  },
  {
   "cell_type": "markdown",
   "metadata": {},
   "source": [
    "### ========== Question 1.3 --- [1 mark] ==========\n",
    "Select the attributes (i.e. input features) for training our classifiers. These should be the visual word normalised counts `dim1, dim2, ..., dim500`. Create a list of the **names** of the attributes of interest. "
   ]
  },
  {
   "cell_type": "code",
   "execution_count": 33,
   "metadata": {
    "collapsed": false
   },
   "outputs": [
    {
     "data": {
      "text/plain": [
       "['dim1',\n",
       " 'dim2',\n",
       " 'dim3',\n",
       " 'dim4',\n",
       " 'dim5',\n",
       " 'dim6',\n",
       " 'dim7',\n",
       " 'dim8',\n",
       " 'dim9',\n",
       " 'dim10',\n",
       " 'dim11',\n",
       " 'dim12',\n",
       " 'dim13',\n",
       " 'dim14',\n",
       " 'dim15',\n",
       " 'dim16',\n",
       " 'dim17',\n",
       " 'dim18',\n",
       " 'dim19',\n",
       " 'dim20',\n",
       " 'dim21',\n",
       " 'dim22',\n",
       " 'dim23',\n",
       " 'dim24',\n",
       " 'dim25',\n",
       " 'dim26',\n",
       " 'dim27',\n",
       " 'dim28',\n",
       " 'dim29',\n",
       " 'dim30',\n",
       " 'dim31',\n",
       " 'dim32',\n",
       " 'dim33',\n",
       " 'dim34',\n",
       " 'dim35',\n",
       " 'dim36',\n",
       " 'dim37',\n",
       " 'dim38',\n",
       " 'dim39',\n",
       " 'dim40',\n",
       " 'dim41',\n",
       " 'dim42',\n",
       " 'dim43',\n",
       " 'dim44',\n",
       " 'dim45',\n",
       " 'dim46',\n",
       " 'dim47',\n",
       " 'dim48',\n",
       " 'dim49',\n",
       " 'dim50',\n",
       " 'dim51',\n",
       " 'dim52',\n",
       " 'dim53',\n",
       " 'dim54',\n",
       " 'dim55',\n",
       " 'dim56',\n",
       " 'dim57',\n",
       " 'dim58',\n",
       " 'dim59',\n",
       " 'dim60',\n",
       " 'dim61',\n",
       " 'dim62',\n",
       " 'dim63',\n",
       " 'dim64',\n",
       " 'dim65',\n",
       " 'dim66',\n",
       " 'dim67',\n",
       " 'dim68',\n",
       " 'dim69',\n",
       " 'dim70',\n",
       " 'dim71',\n",
       " 'dim72',\n",
       " 'dim73',\n",
       " 'dim74',\n",
       " 'dim75',\n",
       " 'dim76',\n",
       " 'dim77',\n",
       " 'dim78',\n",
       " 'dim79',\n",
       " 'dim80',\n",
       " 'dim81',\n",
       " 'dim82',\n",
       " 'dim83',\n",
       " 'dim84',\n",
       " 'dim85',\n",
       " 'dim86',\n",
       " 'dim87',\n",
       " 'dim88',\n",
       " 'dim89',\n",
       " 'dim90',\n",
       " 'dim91',\n",
       " 'dim92',\n",
       " 'dim93',\n",
       " 'dim94',\n",
       " 'dim95',\n",
       " 'dim96',\n",
       " 'dim97',\n",
       " 'dim98',\n",
       " 'dim99',\n",
       " 'dim100',\n",
       " 'dim101',\n",
       " 'dim102',\n",
       " 'dim103',\n",
       " 'dim104',\n",
       " 'dim105',\n",
       " 'dim106',\n",
       " 'dim107',\n",
       " 'dim108',\n",
       " 'dim109',\n",
       " 'dim110',\n",
       " 'dim111',\n",
       " 'dim112',\n",
       " 'dim113',\n",
       " 'dim114',\n",
       " 'dim115',\n",
       " 'dim116',\n",
       " 'dim117',\n",
       " 'dim118',\n",
       " 'dim119',\n",
       " 'dim120',\n",
       " 'dim121',\n",
       " 'dim122',\n",
       " 'dim123',\n",
       " 'dim124',\n",
       " 'dim125',\n",
       " 'dim126',\n",
       " 'dim127',\n",
       " 'dim128',\n",
       " 'dim129',\n",
       " 'dim130',\n",
       " 'dim131',\n",
       " 'dim132',\n",
       " 'dim133',\n",
       " 'dim134',\n",
       " 'dim135',\n",
       " 'dim136',\n",
       " 'dim137',\n",
       " 'dim138',\n",
       " 'dim139',\n",
       " 'dim140',\n",
       " 'dim141',\n",
       " 'dim142',\n",
       " 'dim143',\n",
       " 'dim144',\n",
       " 'dim145',\n",
       " 'dim146',\n",
       " 'dim147',\n",
       " 'dim148',\n",
       " 'dim149',\n",
       " 'dim150',\n",
       " 'dim151',\n",
       " 'dim152',\n",
       " 'dim153',\n",
       " 'dim154',\n",
       " 'dim155',\n",
       " 'dim156',\n",
       " 'dim157',\n",
       " 'dim158',\n",
       " 'dim159',\n",
       " 'dim160',\n",
       " 'dim161',\n",
       " 'dim162',\n",
       " 'dim163',\n",
       " 'dim164',\n",
       " 'dim165',\n",
       " 'dim166',\n",
       " 'dim167',\n",
       " 'dim168',\n",
       " 'dim169',\n",
       " 'dim170',\n",
       " 'dim171',\n",
       " 'dim172',\n",
       " 'dim173',\n",
       " 'dim174',\n",
       " 'dim175',\n",
       " 'dim176',\n",
       " 'dim177',\n",
       " 'dim178',\n",
       " 'dim179',\n",
       " 'dim180',\n",
       " 'dim181',\n",
       " 'dim182',\n",
       " 'dim183',\n",
       " 'dim184',\n",
       " 'dim185',\n",
       " 'dim186',\n",
       " 'dim187',\n",
       " 'dim188',\n",
       " 'dim189',\n",
       " 'dim190',\n",
       " 'dim191',\n",
       " 'dim192',\n",
       " 'dim193',\n",
       " 'dim194',\n",
       " 'dim195',\n",
       " 'dim196',\n",
       " 'dim197',\n",
       " 'dim198',\n",
       " 'dim199',\n",
       " 'dim200',\n",
       " 'dim201',\n",
       " 'dim202',\n",
       " 'dim203',\n",
       " 'dim204',\n",
       " 'dim205',\n",
       " 'dim206',\n",
       " 'dim207',\n",
       " 'dim208',\n",
       " 'dim209',\n",
       " 'dim210',\n",
       " 'dim211',\n",
       " 'dim212',\n",
       " 'dim213',\n",
       " 'dim214',\n",
       " 'dim215',\n",
       " 'dim216',\n",
       " 'dim217',\n",
       " 'dim218',\n",
       " 'dim219',\n",
       " 'dim220',\n",
       " 'dim221',\n",
       " 'dim222',\n",
       " 'dim223',\n",
       " 'dim224',\n",
       " 'dim225',\n",
       " 'dim226',\n",
       " 'dim227',\n",
       " 'dim228',\n",
       " 'dim229',\n",
       " 'dim230',\n",
       " 'dim231',\n",
       " 'dim232',\n",
       " 'dim233',\n",
       " 'dim234',\n",
       " 'dim235',\n",
       " 'dim236',\n",
       " 'dim237',\n",
       " 'dim238',\n",
       " 'dim239',\n",
       " 'dim240',\n",
       " 'dim241',\n",
       " 'dim242',\n",
       " 'dim243',\n",
       " 'dim244',\n",
       " 'dim245',\n",
       " 'dim246',\n",
       " 'dim247',\n",
       " 'dim248',\n",
       " 'dim249',\n",
       " 'dim250',\n",
       " 'dim251',\n",
       " 'dim252',\n",
       " 'dim253',\n",
       " 'dim254',\n",
       " 'dim255',\n",
       " 'dim256',\n",
       " 'dim257',\n",
       " 'dim258',\n",
       " 'dim259',\n",
       " 'dim260',\n",
       " 'dim261',\n",
       " 'dim262',\n",
       " 'dim263',\n",
       " 'dim264',\n",
       " 'dim265',\n",
       " 'dim266',\n",
       " 'dim267',\n",
       " 'dim268',\n",
       " 'dim269',\n",
       " 'dim270',\n",
       " 'dim271',\n",
       " 'dim272',\n",
       " 'dim273',\n",
       " 'dim274',\n",
       " 'dim275',\n",
       " 'dim276',\n",
       " 'dim277',\n",
       " 'dim278',\n",
       " 'dim279',\n",
       " 'dim280',\n",
       " 'dim281',\n",
       " 'dim282',\n",
       " 'dim283',\n",
       " 'dim284',\n",
       " 'dim285',\n",
       " 'dim286',\n",
       " 'dim287',\n",
       " 'dim288',\n",
       " 'dim289',\n",
       " 'dim290',\n",
       " 'dim291',\n",
       " 'dim292',\n",
       " 'dim293',\n",
       " 'dim294',\n",
       " 'dim295',\n",
       " 'dim296',\n",
       " 'dim297',\n",
       " 'dim298',\n",
       " 'dim299',\n",
       " 'dim300',\n",
       " 'dim301',\n",
       " 'dim302',\n",
       " 'dim303',\n",
       " 'dim304',\n",
       " 'dim305',\n",
       " 'dim306',\n",
       " 'dim307',\n",
       " 'dim308',\n",
       " 'dim309',\n",
       " 'dim310',\n",
       " 'dim311',\n",
       " 'dim312',\n",
       " 'dim313',\n",
       " 'dim314',\n",
       " 'dim315',\n",
       " 'dim316',\n",
       " 'dim317',\n",
       " 'dim318',\n",
       " 'dim319',\n",
       " 'dim320',\n",
       " 'dim321',\n",
       " 'dim322',\n",
       " 'dim323',\n",
       " 'dim324',\n",
       " 'dim325',\n",
       " 'dim326',\n",
       " 'dim327',\n",
       " 'dim328',\n",
       " 'dim329',\n",
       " 'dim330',\n",
       " 'dim331',\n",
       " 'dim332',\n",
       " 'dim333',\n",
       " 'dim334',\n",
       " 'dim335',\n",
       " 'dim336',\n",
       " 'dim337',\n",
       " 'dim338',\n",
       " 'dim339',\n",
       " 'dim340',\n",
       " 'dim341',\n",
       " 'dim342',\n",
       " 'dim343',\n",
       " 'dim344',\n",
       " 'dim345',\n",
       " 'dim346',\n",
       " 'dim347',\n",
       " 'dim348',\n",
       " 'dim349',\n",
       " 'dim350',\n",
       " 'dim351',\n",
       " 'dim352',\n",
       " 'dim353',\n",
       " 'dim354',\n",
       " 'dim355',\n",
       " 'dim356',\n",
       " 'dim357',\n",
       " 'dim358',\n",
       " 'dim359',\n",
       " 'dim360',\n",
       " 'dim361',\n",
       " 'dim362',\n",
       " 'dim363',\n",
       " 'dim364',\n",
       " 'dim365',\n",
       " 'dim366',\n",
       " 'dim367',\n",
       " 'dim368',\n",
       " 'dim369',\n",
       " 'dim370',\n",
       " 'dim371',\n",
       " 'dim372',\n",
       " 'dim373',\n",
       " 'dim374',\n",
       " 'dim375',\n",
       " 'dim376',\n",
       " 'dim377',\n",
       " 'dim378',\n",
       " 'dim379',\n",
       " 'dim380',\n",
       " 'dim381',\n",
       " 'dim382',\n",
       " 'dim383',\n",
       " 'dim384',\n",
       " 'dim385',\n",
       " 'dim386',\n",
       " 'dim387',\n",
       " 'dim388',\n",
       " 'dim389',\n",
       " 'dim390',\n",
       " 'dim391',\n",
       " 'dim392',\n",
       " 'dim393',\n",
       " 'dim394',\n",
       " 'dim395',\n",
       " 'dim396',\n",
       " 'dim397',\n",
       " 'dim398',\n",
       " 'dim399',\n",
       " 'dim400',\n",
       " 'dim401',\n",
       " 'dim402',\n",
       " 'dim403',\n",
       " 'dim404',\n",
       " 'dim405',\n",
       " 'dim406',\n",
       " 'dim407',\n",
       " 'dim408',\n",
       " 'dim409',\n",
       " 'dim410',\n",
       " 'dim411',\n",
       " 'dim412',\n",
       " 'dim413',\n",
       " 'dim414',\n",
       " 'dim415',\n",
       " 'dim416',\n",
       " 'dim417',\n",
       " 'dim418',\n",
       " 'dim419',\n",
       " 'dim420',\n",
       " 'dim421',\n",
       " 'dim422',\n",
       " 'dim423',\n",
       " 'dim424',\n",
       " 'dim425',\n",
       " 'dim426',\n",
       " 'dim427',\n",
       " 'dim428',\n",
       " 'dim429',\n",
       " 'dim430',\n",
       " 'dim431',\n",
       " 'dim432',\n",
       " 'dim433',\n",
       " 'dim434',\n",
       " 'dim435',\n",
       " 'dim436',\n",
       " 'dim437',\n",
       " 'dim438',\n",
       " 'dim439',\n",
       " 'dim440',\n",
       " 'dim441',\n",
       " 'dim442',\n",
       " 'dim443',\n",
       " 'dim444',\n",
       " 'dim445',\n",
       " 'dim446',\n",
       " 'dim447',\n",
       " 'dim448',\n",
       " 'dim449',\n",
       " 'dim450',\n",
       " 'dim451',\n",
       " 'dim452',\n",
       " 'dim453',\n",
       " 'dim454',\n",
       " 'dim455',\n",
       " 'dim456',\n",
       " 'dim457',\n",
       " 'dim458',\n",
       " 'dim459',\n",
       " 'dim460',\n",
       " 'dim461',\n",
       " 'dim462',\n",
       " 'dim463',\n",
       " 'dim464',\n",
       " 'dim465',\n",
       " 'dim466',\n",
       " 'dim467',\n",
       " 'dim468',\n",
       " 'dim469',\n",
       " 'dim470',\n",
       " 'dim471',\n",
       " 'dim472',\n",
       " 'dim473',\n",
       " 'dim474',\n",
       " 'dim475',\n",
       " 'dim476',\n",
       " 'dim477',\n",
       " 'dim478',\n",
       " 'dim479',\n",
       " 'dim480',\n",
       " 'dim481',\n",
       " 'dim482',\n",
       " 'dim483',\n",
       " 'dim484',\n",
       " 'dim485',\n",
       " 'dim486',\n",
       " 'dim487',\n",
       " 'dim488',\n",
       " 'dim489',\n",
       " 'dim490',\n",
       " 'dim491',\n",
       " 'dim492',\n",
       " 'dim493',\n",
       " 'dim494',\n",
       " 'dim495',\n",
       " 'dim496',\n",
       " 'dim497',\n",
       " 'dim498',\n",
       " 'dim499',\n",
       " 'dim500']"
      ]
     },
     "execution_count": 33,
     "metadata": {},
     "output_type": "execute_result"
    }
   ],
   "source": [
    "X_col = train_A.columns.values.tolist()\n",
    "del X_col[-19:]\n",
    "del X_col[0]\n",
    "X_col"
   ]
  },
  {
   "cell_type": "markdown",
   "metadata": {},
   "source": [
    "### ========== Question 1.4 --- [1 mark] ==========\n",
    "By using the list from Question 1.3 now create 4 numpy arrays `X_tr`, `X_val`, `y_tr` and `y_val` in which to store the training features, validation features, training targets, and validation targets, respectively. Your target vectors should correspond to the `is_person` attribute of the training and validation sets. Display the dimensionalities (i.e shapes) of the 4 arrays. \n",
    "\n",
    "Check this carefully - you will be penalised in following questions if the data is not correct!"
   ]
  },
  {
   "cell_type": "code",
   "execution_count": 34,
   "metadata": {
    "collapsed": false
   },
   "outputs": [],
   "source": [
    "train_A_indexed = train_A.drop(\"imgId\",axis=1)\n"
   ]
  },
  {
   "cell_type": "code",
   "execution_count": 35,
   "metadata": {
    "collapsed": true
   },
   "outputs": [],
   "source": [
    "valid_A_indexed = valid_A.drop(\"imgId\",axis=1)"
   ]
  },
  {
   "cell_type": "code",
   "execution_count": 36,
   "metadata": {
    "collapsed": true
   },
   "outputs": [],
   "source": [
    "X_tr = train_A_indexed[X_col]\n",
    "X_val = valid_A_indexed[X_col]\n",
    "y_tr = train_A_indexed[\"is_person\"]\n",
    "y_val = valid_A_indexed[\"is_person\"]"
   ]
  },
  {
   "cell_type": "code",
   "execution_count": 37,
   "metadata": {
    "collapsed": false
   },
   "outputs": [
    {
     "name": "stdout",
     "output_type": "stream",
     "text": [
      "X_tr shape:  (2093, 500)\n",
      "x_val shape:  (1113, 500)\n",
      "y_tr shape:  (2093,)\n",
      "y_val shape:  (1113,)\n"
     ]
    }
   ],
   "source": [
    "print(\"X_tr shape: \" , X_tr.shape)\n",
    "print(\"x_val shape: \" , X_val.shape)\n",
    "print(\"y_tr shape: \" , y_tr.shape)\n",
    "print(\"y_val shape: \" , y_val.shape)"
   ]
  },
  {
   "cell_type": "markdown",
   "metadata": {},
   "source": [
    "### ========== Question 1.5 --- [2 marks] ==========\n",
    "Create a [countplots](https://seaborn.github.io/generated/seaborn.countplot.html?highlight=countplot#seaborn.countplot) for the training and validation targets. Create a single figure, and put the two plots inside the single figure. Label axes appropriately and add a title to your plot. Use descriptive `xticklabels` instead of the default numeric ones."
   ]
  },
  {
   "cell_type": "code",
   "execution_count": 38,
   "metadata": {
    "collapsed": false
   },
   "outputs": [
    {
     "data": {
      "text/plain": [
       "[<matplotlib.text.Text at 0x1e2cf9d3ba8>,\n",
       " <matplotlib.text.Text at 0x1e2cf9da240>]"
      ]
     },
     "execution_count": 38,
     "metadata": {},
     "output_type": "execute_result"
    },
    {
     "data": {
      "image/png": "[encoded data removed]",
      "text/plain": [
       "<matplotlib.figure.Figure at 0x1e2cd299550>"
      ]
     },
     "metadata": {},
     "output_type": "display_data"
    }
   ],
   "source": [
    "fig,ax = plt.subplots(ncols=2,nrows=1,figsize=[12,7])\n",
    "sns.countplot(y_tr ,ax=ax[0])\n",
    "sns.countplot(y_val , ax=ax[1])\n",
    "ax[0].set_title(\"is_person in training set\")\n",
    "ax[0].set_xticklabels([\"No\",\"Yes\"])\n",
    "\n",
    "ax[1].set_title(\"is_person in validation set\")\n",
    "ax[1].set_xticklabels([\"No\",\"Yes\"])\n"
   ]
  },
  {
   "cell_type": "markdown",
   "metadata": {},
   "source": [
    "### ========== Question 1.6 --- [1 mark] ==========\n",
    "We want to make a baseline classification accuracy to beat. Pick a baseline \"dummy\" classifier, describe in a sentence why you chose it, and report the accuracy it achieves on the validation set?"
   ]
  },
  {
   "cell_type": "markdown",
   "metadata": {},
   "source": [
    "Guess no \"is_person\" every time. Chosen because the likelyhood of a person not exisiting in an instance in a data set is more likely than otherwise. "
   ]
  },
  {
   "cell_type": "code",
   "execution_count": 39,
   "metadata": {
    "collapsed": false
   },
   "outputs": [
    {
     "name": "stdout",
     "output_type": "stream",
     "text": [
      "Accuracy on Validation Set:  0.5265049415992813\n"
     ]
    }
   ],
   "source": [
    "print(\"Accuracy on Validation Set: \" ,1 - y_val.mean())"
   ]
  },
  {
   "cell_type": "markdown",
   "metadata": {},
   "source": [
    "### ========== Question 1.7 --- [3 marks] ==========\n",
    "Train a [`LogisticRegression`](http://scikit-learn.org/0.17/modules/generated/sklearn.linear_model.LogisticRegression.html) classifier using default settings, except for the `solver` parameter which you should set to `lbfgs`. Report the classification accuracy score on the training and validation sets and compare with the baseline. Comment on the results with 1-2 sentences. You may include any additional plot(s) if you wish to justify your explanation."
   ]
  },
  {
   "cell_type": "code",
   "execution_count": 40,
   "metadata": {
    "collapsed": false
   },
   "outputs": [
    {
     "name": "stdout",
     "output_type": "stream",
     "text": [
      "Classification accuracy on training set: 0.551\n",
      "Classification accuracy on test set: 0.527\n"
     ]
    }
   ],
   "source": [
    "lr = LogisticRegression(solver='lbfgs')\n",
    "lr.fit(X_tr, y_tr)\n",
    "print('Classification accuracy on training set: {:.3f}'.format(lr.score(X_tr, y_tr)))\n",
    "print('Classification accuracy on test set: {:.3f}'.format(lr.score(X_val, y_val)))"
   ]
  },
  {
   "cell_type": "markdown",
   "metadata": {},
   "source": [
    "The accuracy (test set) for this model is similar to the baseline dummy classifier, as such this model does not classify new data points well."
   ]
  },
  {
   "cell_type": "code",
   "execution_count": 41,
   "metadata": {
    "collapsed": false
   },
   "outputs": [
    {
     "data": {
      "text/plain": [
       "<matplotlib.text.Text at 0x1e2cfa419b0>"
      ]
     },
     "execution_count": 41,
     "metadata": {},
     "output_type": "execute_result"
    },
    {
     "data": {
      "image/png": "[encoded data removed]",
      "text/plain": [
       "<matplotlib.figure.Figure at 0x1e2d187f438>"
      ]
     },
     "metadata": {},
     "output_type": "display_data"
    }
   ],
   "source": [
    "fig = plt.figure()\n",
    "sns.stripplot(data=X_tr.drop(axis=1, labels=X_col[50:]),orient=0.5)\n",
    "plt.title(\"Distribution of features\")"
   ]
  },
  {
   "cell_type": "markdown",
   "metadata": {},
   "source": [
    "Features are shown to be oddly distributed."
   ]
  },
  {
   "cell_type": "markdown",
   "metadata": {},
   "source": [
    "### ========== Question 1.8 --- [1 mark] ==========\n",
    "Display the means and standard deviations of the first 5 features in the training set. *Hint: you want to compute the means and standard deviations across the columns of your arrays. Make sure you make appropriate use of the `axis` parameter.*"
   ]
  },
  {
   "cell_type": "code",
   "execution_count": 42,
   "metadata": {
    "collapsed": false
   },
   "outputs": [
    {
     "name": "stdout",
     "output_type": "stream",
     "text": [
      "Means:  dim1    0.001751\n",
      "dim2    0.000756\n",
      "dim3    0.004317\n",
      "dim4    0.001853\n",
      "dim5    0.002272\n",
      "dtype: float64\n",
      "STD:  dim1    0.001193\n",
      "dim2    0.001406\n",
      "dim3    0.003693\n",
      "dim4    0.001340\n",
      "dim5    0.001598\n",
      "dtype: float64\n"
     ]
    }
   ],
   "source": [
    "first_five = X_tr.drop(axis=1, labels=X_col[5:])\n",
    "print(\"Means: \" ,first_five.mean(axis=0))\n",
    "print(\"STD: \" ,first_five.std(axis=0))\n"
   ]
  },
  {
   "cell_type": "markdown",
   "metadata": {},
   "source": [
    "### ========== Question 1.9 --- [3 marks] ==========\n",
    "Feature standardisation is a pre-processing technique used to transform data so that they have zero mean and unit standard deviation. For many algorithms, this is a very important step for training models (both regression and classification). Read about [feature standardisation](http://scikit-learn.org/0.17/modules/preprocessing.html) and make sure you understand what kind of transformation this method applies to the data.\n",
    "\n",
    "`Scikit-learn` offers a [class](http://scikit-learn.org/0.17/modules/generated/sklearn.preprocessing.StandardScaler.html) for feature standardisation. Instansiate a StandardScaler object and fit it using the **training features**. Use this fitted object to transform both your training and validation features to have a standard scale. \n",
    "\n",
    "Once your training and validation input data have been transformed, display the means and standard deviations of the first 5 attributes for **both** the training and validation sets. Are the results as you expected? Explain your answer in 2-3 sentences. Why didn't we use the validation set to standardise the data?\n",
    "\n",
    "**IMPORTANT: You should use the transformed data for the rest of this part.**"
   ]
  },
  {
   "cell_type": "code",
   "execution_count": 43,
   "metadata": {
    "collapsed": false
   },
   "outputs": [
    {
     "name": "stdout",
     "output_type": "stream",
     "text": [
      "Mean of Training Set:  dim1    2.206654e-17\n",
      "dim2    2.208246e-16\n",
      "dim3    2.682995e-16\n",
      "dim4    1.608312e-16\n",
      "dim5   -2.693338e-17\n",
      "dtype: float64\n",
      "SD of Training Set:  dim1    1.000239\n",
      "dim2    1.000239\n",
      "dim3    1.000239\n",
      "dim4    1.000239\n",
      "dim5    1.000239\n",
      "dtype: float64\n"
     ]
    }
   ],
   "source": [
    "ss = StandardScaler()\n",
    "ss.fit(X_tr)\n",
    "X_tr_stand = ss.transform(X_tr)\n",
    "X_tr_stand = pd.DataFrame(data=X_tr_stand, columns=X_col)\n",
    "first_five = X_tr_stand.drop(axis=1, labels=X_col[5:])\n",
    "print(\"Mean of Training Set: \", first_five.mean(axis=0))\n",
    "print(\"SD of Training Set: \", first_five.std(axis=0))"
   ]
  },
  {
   "cell_type": "code",
   "execution_count": 44,
   "metadata": {
    "collapsed": false
   },
   "outputs": [
    {
     "name": "stdout",
     "output_type": "stream",
     "text": [
      "Mean of Validation Set:  dim1   -0.005506\n",
      "dim2   -0.038293\n",
      "dim3    0.109151\n",
      "dim4    0.093693\n",
      "dim5    0.030578\n",
      "dtype: float64\n",
      "SD of Validation Set:  dim1    1.013564\n",
      "dim2    0.970255\n",
      "dim3    1.049700\n",
      "dim4    1.057320\n",
      "dim5    0.975152\n",
      "dtype: float64\n"
     ]
    }
   ],
   "source": [
    "X_val_stand = ss.transform(X_val)\n",
    "X_val_stand = pd.DataFrame(data=X_val_stand, columns=X_col)\n",
    "first_five = X_val_stand.drop(axis=1, labels=X_col[5:])\n",
    "print(\"Mean of Validation Set: \", first_five.mean(axis=0))\n",
    "print(\"SD of Validation Set: \", first_five.std(axis=0))"
   ]
  },
  {
   "cell_type": "markdown",
   "metadata": {},
   "source": [
    "Yes they are. Although not exactly the same the transformed features (for the training set) means are ~0 and SD ~1.\n",
    "\n",
    "The means/sd for the validation set are more varied relative to the training set as naturally the validation set is not exactly similar to the test. We do not use the validation set for fitting the transformation as it is not used in training the model, only testing it."
   ]
  },
  {
   "cell_type": "markdown",
   "metadata": {},
   "source": [
    "### ========== Question 1.10 --- [3 marks] ==========\n",
    "By using the transformed input data, train a new `LogisticRegression` classifier. Again, set the `solver` parameter to `lbfgs` and use default settings for the other parameters. Report the classification accuracy on both the training and validation sets.\n",
    "\n",
    "Comment on how your model compares to the baseline classifier from Question 1.6? You may use additional plot(s) to support your explanation."
   ]
  },
  {
   "cell_type": "code",
   "execution_count": 45,
   "metadata": {
    "collapsed": false
   },
   "outputs": [
    {
     "name": "stdout",
     "output_type": "stream",
     "text": [
      "Classification accuracy on training set: 0.651\n",
      "Classification accuracy on test set: 0.650\n"
     ]
    }
   ],
   "source": [
    "lr2 = LogisticRegression(solver='lbfgs')\n",
    "lr2.fit(X_tr_stand, y_tr)\n",
    "print('Classification accuracy on training set: {:.3f}'.format(lr.score(X_tr_stand, y_tr)))\n",
    "print('Classification accuracy on test set: {:.3f}'.format(lr.score(X_val_stand, y_val)))"
   ]
  },
  {
   "cell_type": "markdown",
   "metadata": {},
   "source": [
    "It is more accurate compared to previously - reflected by the accuracy scores on the test set."
   ]
  },
  {
   "cell_type": "code",
   "execution_count": 46,
   "metadata": {
    "collapsed": false
   },
   "outputs": [
    {
     "data": {
      "text/plain": [
       "<matplotlib.text.Text at 0x1e2cfb2d278>"
      ]
     },
     "execution_count": 46,
     "metadata": {},
     "output_type": "execute_result"
    },
    {
     "data": {
      "image/png": "[encoded data removed]",
      "text/plain": [
       "<matplotlib.figure.Figure at 0x1e2d187fb70>"
      ]
     },
     "metadata": {},
     "output_type": "display_data"
    }
   ],
   "source": [
    "fig = plt.figure()\n",
    "sns.stripplot(data=X_tr_stand.drop(axis=1, labels=X_col[50:]),orient=0.5)\n",
    "plt.title(\"Distribution of features\")"
   ]
  },
  {
   "cell_type": "markdown",
   "metadata": {},
   "source": [
    "This plot displays that features are much more evenly distributed as compared to the previous plot. Helping and contributing properlt to the logistic regression"
   ]
  },
  {
   "cell_type": "markdown",
   "metadata": {},
   "source": [
    "### ========== Question 1.11 --- [1 mark] ==========\n",
    "So far we have used default settings for training the logistic regression classifier. Now, we want to use [K-fold cross-validation](http://scikit-learn.org/0.17/modules/generated/sklearn.cross_validation.KFold.html) to optimise the regularisation parameter `C`. The regularisation parameter controls the degree to which we wish to penalise large magnitudes in the weight vector. This can help us prevent overfitting but, if set too high, could lead us to underfit too.\n",
    "\n",
    "Create a 3-fold cross-validation object. Set the `shuffle` parameter to `True` and the `random_state` to `0`. By using the cross-validation iterator, display the number of test samples for each fold."
   ]
  },
  {
   "cell_type": "code",
   "execution_count": 47,
   "metadata": {
    "collapsed": false
   },
   "outputs": [
    {
     "name": "stdout",
     "output_type": "stream",
     "text": [
      "698\n",
      "698\n",
      "697\n"
     ]
    }
   ],
   "source": [
    "kf = KFold(shuffle=True, random_state=0, n=X_tr_stand.shape[0])\n",
    "for train_index, test_index in kf:\n",
    "    print(len(test_index))"
   ]
  },
  {
   "cell_type": "markdown",
   "metadata": {},
   "source": [
    "### ========== Question 1.12 --- [2 marks] ========== \n",
    "Using the cross-validation iterator from the previous question, perform a search for the best value for `C`. \n",
    "\n",
    "We are going to loop over each CV fold, and each value of `C`. The values of `C` to search should be 20 equally-spaced values **in log space** ranging from `1e-5` to `1e5` *(hint: look at the `logspace()` function in numpy)*. \n",
    "\n",
    "Create a 2-dimensional array and, for each cross-validation fold and parameter setting pair, compute and store the classification accuracy score e.g. store the score of fold 0 with parameter setting 1 at score_array[0,1]. As previously, set the `solver` parameter to `lbfgs` and use default settings for the other parameters (except for `C` obviously!).\n",
    "\n",
    "*(hint: you could use two loops in your code; one iterating over CV folds and another one iterating over the values for `C`)*. "
   ]
  },
  {
   "cell_type": "code",
   "execution_count": 48,
   "metadata": {
    "collapsed": false
   },
   "outputs": [],
   "source": [
    "score_array = []\n",
    "n = 0\n",
    "\n",
    "for train_index, test_index in kf:\n",
    "    log_arr = np.logspace(-5,5, num=20)\n",
    "    \n",
    "    score_array.append([])\n",
    "    for i in log_arr:\n",
    "        lr2 = LogisticRegression(solver='lbfgs',C=i)\n",
    "        lr2.fit(X_tr_stand.loc[train_index], y_tr[train_index])\n",
    "        g = lr2.score(X_tr_stand.loc[test_index] ,y_tr[test_index]).item(0)\n",
    "        score_array[n].append(g) \n",
    "        \n",
    "    n += 1"
   ]
  },
  {
   "cell_type": "markdown",
   "metadata": {},
   "source": [
    "### ========== Question 1.13 --- [1 mark] ========== \n",
    "Plot the mean classification performance (across CV folds) of the logistic regression classifier against the regularisation parameter `C` by using the range from Question 1.12. Use a logarithmic scale for the x-axis and label both axes appropriately. "
   ]
  },
  {
   "cell_type": "code",
   "execution_count": 49,
   "metadata": {
    "collapsed": true
   },
   "outputs": [],
   "source": [
    "score_array = pd.DataFrame(score_array)"
   ]
  },
  {
   "cell_type": "code",
   "execution_count": 50,
   "metadata": {
    "collapsed": false
   },
   "outputs": [
    {
     "data": {
      "text/plain": [
       "<matplotlib.axes._subplots.AxesSubplot at 0x1e2cea9d908>"
      ]
     },
     "execution_count": 50,
     "metadata": {},
     "output_type": "execute_result"
    },
    {
     "data": {
      "text/plain": [
       "<matplotlib.figure.Figure at 0x1e2d10da390>"
      ]
     },
     "metadata": {},
     "output_type": "display_data"
    },
    {
     "data": {
      "image/png": "[encoded data removed]",
      "text/plain": [
       "<matplotlib.figure.Figure at 0x1e2cead8f98>"
      ]
     },
     "metadata": {},
     "output_type": "display_data"
    }
   ],
   "source": [
    "y = score_array.mean(axis=0)\n",
    "X = np.logspace(-5,5, num=20)\n",
    "\n",
    "df = pd.DataFrame(data=(y))\n",
    "df.set_index = X\n",
    "\n",
    "\n",
    "fig = plt.figure()\n",
    "df.plot(logx=True,legend=False, title=\"Classification Score with X\")\n"
   ]
  },
  {
   "cell_type": "markdown",
   "metadata": {},
   "source": [
    "### ========== Question 1.14 --- [2 marks] ==========\n",
    "Display the optimal value for the regularisation parameter `C` determined by the search results from Question 1.12. Similarly to Question 1.13, consider the mean classifiation accuracy across CV folds. By using the optimal value (i.e. the one that yields the highest average classification accuracy) train a new `LogisticRegression` classifier and report the classification accuracy on the validation set. *(Hint: Do not pick the optimal value \"by hand\", instead use an appropriate numpy function).*"
   ]
  },
  {
   "cell_type": "code",
   "execution_count": 51,
   "metadata": {
    "collapsed": false,
    "scrolled": true
   },
   "outputs": [
    {
     "name": "stdout",
     "output_type": "stream",
     "text": [
      "Highest Mean Classification C:  0.00428133239872  being  0.710458521238\n"
     ]
    }
   ],
   "source": [
    "high_c = X[y[y==y.max()].index[0]]\n",
    "print(\"Highest Mean Classification C: \", high_c, \" being \", y.max())"
   ]
  },
  {
   "cell_type": "code",
   "execution_count": 52,
   "metadata": {
    "collapsed": false
   },
   "outputs": [
    {
     "name": "stdout",
     "output_type": "stream",
     "text": [
      "Classification Score:  0.696316262354\n"
     ]
    }
   ],
   "source": [
    "lr = LogisticRegression(C=high_c, solver=\"lbfgs\")\n",
    "lr.fit(X_tr_stand,y_tr)\n",
    "print(\"Classification Score: \", lr.score(X_val_stand,y_val))"
   ]
  },
  {
   "cell_type": "markdown",
   "metadata": {},
   "source": [
    "### ========== Question 1.15 --- [1 mark] ========== \n",
    "Scikit-learn offers a [`LogisticRegressionCV`](http://scikit-learn.org/0.17/modules/generated/sklearn.linear_model.LogisticRegressionCV.html) module which implements Logistic Regression with builtin cross-validation to find out the optimal `C` parameter. You can specify the range for the `C` parameter, as well as the cross-validation method you want to use with the `Cs` and `cv` parameters, respectively. Use the `C` range you set up in Question 1.12 and the 3-fold cross-validation iterator from Question 1.11. Once again, train the models by using the `lbfgs` optimisation method and display the optimal value for the parameter `C`. Finally, display the classification accuracy on the validation set. Check your results are consistent with those from Question 1.14!"
   ]
  },
  {
   "cell_type": "code",
   "execution_count": 53,
   "metadata": {
    "collapsed": false
   },
   "outputs": [
    {
     "name": "stdout",
     "output_type": "stream",
     "text": [
      "Best C:  0.00428133239872\n",
      "Classification Score:  0.696316262354\n"
     ]
    }
   ],
   "source": [
    "lrcv = LogisticRegressionCV(solver='lbfgs',Cs=X,cv=kf)\n",
    "lrcv.fit(X_tr_stand,y_tr)\n",
    "print(\"Best C: \", lrcv.C_[0])\n",
    "print(\"Classification Score: \", lrcv.score(X_val_stand,y_val))\n"
   ]
  },
  {
   "cell_type": "markdown",
   "metadata": {},
   "source": [
    "### ========== Question 1.16 --- [1 mark] ==========\n",
    "Now, we want to validate the importance of various features for classification. For this purpose, we will use a [`RandomForestClassifier`](http://scikit-learn.org/0.17/modules/generated/sklearn.ensemble.RandomForestClassifier.html) (you might want to refer to Lab_3 if you are unsure how we can estimate feature importances with decision tree and random forest models).\n",
    "\n",
    "Initialise a random forest classifier and fit the model by using training data only and 500 trees (i.e. `n_estimators`). Set the `RandomState` equal to 42 to ensure reproducible results. Report the accuracy score on both the training and validation sets."
   ]
  },
  {
   "cell_type": "code",
   "execution_count": 54,
   "metadata": {
    "collapsed": true
   },
   "outputs": [],
   "source": [
    "rfc = RandomForestClassifier(n_estimators=500,random_state=42)"
   ]
  },
  {
   "cell_type": "code",
   "execution_count": 55,
   "metadata": {
    "collapsed": false
   },
   "outputs": [
    {
     "data": {
      "text/plain": [
       "RandomForestClassifier(bootstrap=True, class_weight=None, criterion='gini',\n",
       "            max_depth=None, max_features='auto', max_leaf_nodes=None,\n",
       "            min_impurity_split=1e-07, min_samples_leaf=1,\n",
       "            min_samples_split=2, min_weight_fraction_leaf=0.0,\n",
       "            n_estimators=500, n_jobs=1, oob_score=False, random_state=42,\n",
       "            verbose=0, warm_start=False)"
      ]
     },
     "execution_count": 55,
     "metadata": {},
     "output_type": "execute_result"
    }
   ],
   "source": [
    "rfc.fit(X_tr_stand, y_tr)"
   ]
  },
  {
   "cell_type": "code",
   "execution_count": 56,
   "metadata": {
    "collapsed": false
   },
   "outputs": [
    {
     "name": "stdout",
     "output_type": "stream",
     "text": [
      "Score on training set:  1.0\n",
      "Score on validation set:  0.692722371968\n"
     ]
    }
   ],
   "source": [
    "print(\"Score on training set: \", rfc.score(X_tr_stand,y_tr))\n",
    "print(\"Score on validation set: \", rfc.score(X_val_stand,y_val))\n"
   ]
  },
  {
   "cell_type": "markdown",
   "metadata": {},
   "source": [
    "### ========== Question 1.17 --- [2 marks] ==========\n",
    "Comment on the results above. Do you find the discrepancy between training and validation accuracies surprising?"
   ]
  },
  {
   "cell_type": "markdown",
   "metadata": {},
   "source": [
    "Not with the discrepencies. Because in a tree classifier each of the final leaves would point to either class. Making it score/classify well on the training set but possibly overfitting. I am however, suprised that the tree could score 1.0 on the training set, getting every value correct."
   ]
  },
  {
   "cell_type": "markdown",
   "metadata": {},
   "source": [
    "### ========== Question 1.18 --- [2 marks] ==========\n",
    "By using the random forest model from the previous question order the features by descending importance and display the names of the 50 most important features."
   ]
  },
  {
   "cell_type": "code",
   "execution_count": 57,
   "metadata": {
    "collapsed": false
   },
   "outputs": [
    {
     "name": "stdout",
     "output_type": "stream",
     "text": [
      "dim 21 : 0.0075719505701260965\n",
      "dim 51 : 0.00755943221497452\n",
      "dim 360 : 0.00703154028837957\n",
      "dim 4 : 0.006192970537003059\n",
      "dim 479 : 0.006054067504553028\n",
      "dim 76 : 0.0060262086838827065\n",
      "dim 283 : 0.005810561957774252\n",
      "dim 461 : 0.005605848905356331\n",
      "dim 343 : 0.00545133226506582\n",
      "dim 398 : 0.004859161091117008\n",
      "dim 348 : 0.004783230524237722\n",
      "dim 74 : 0.004741927812981814\n",
      "dim 485 : 0.004716045278998716\n",
      "dim 356 : 0.004702218138277496\n",
      "dim 330 : 0.004640095365072787\n",
      "dim 217 : 0.004605837578784847\n",
      "dim 263 : 0.004577404157967961\n",
      "dim 222 : 0.004218132805352372\n",
      "dim 134 : 0.004131365458194301\n",
      "dim 500 : 0.004063794802420198\n",
      "dim 274 : 0.0040416252061222626\n",
      "dim 254 : 0.004001957922205824\n",
      "dim 206 : 0.003889995873521478\n",
      "dim 423 : 0.0038673852895302475\n",
      "dim 347 : 0.0038130599781742995\n",
      "dim 17 : 0.0037277779229481956\n",
      "dim 326 : 0.003704323695578012\n",
      "dim 90 : 0.003703172661177383\n",
      "dim 92 : 0.0037007988101297093\n",
      "dim 329 : 0.003687210362649383\n",
      "dim 214 : 0.0036676459142687113\n",
      "dim 322 : 0.0036134338766544553\n",
      "dim 289 : 0.003595346912535817\n",
      "dim 54 : 0.0035909587517429374\n",
      "dim 440 : 0.003581021369926902\n",
      "dim 427 : 0.0035761205471165495\n",
      "dim 73 : 0.0034617930464178734\n",
      "dim 35 : 0.0034613280076354314\n",
      "dim 77 : 0.0034144246543663707\n",
      "dim 312 : 0.003363117263742803\n",
      "dim 315 : 0.003336966583128944\n",
      "dim 96 : 0.003312229375811566\n",
      "dim 288 : 0.003308017111557446\n",
      "dim 483 : 0.0032585557535926954\n",
      "dim 299 : 0.0032508807562648353\n",
      "dim 48 : 0.0032058471514611947\n",
      "dim 442 : 0.0031713532983600485\n",
      "dim 201 : 0.0030561034829098186\n",
      "dim 344 : 0.0030115927967987893\n",
      "dim 294 : 0.0030056350037862005\n"
     ]
    }
   ],
   "source": [
    "\n",
    "feature_impt= {}\n",
    "x=1\n",
    "for i in rfc.feature_importances_.tolist():\n",
    "    feature_impt[x] = i\n",
    "    x += 1\n",
    "\n",
    "t = range(0,50)\n",
    "\n",
    "for i in t:\n",
    "    z = 0\n",
    "    index = 50000\n",
    "    for key,value in feature_impt.items():\n",
    "        \n",
    "        if (value > z):\n",
    "            index = key\n",
    "            z = value\n",
    "    print(\"dim\",index , \":\", z)\n",
    "    del feature_impt[index]\n",
    "\n"
   ]
  },
  {
   "cell_type": "markdown",
   "metadata": {},
   "source": [
    "### ========== Question 1.19 --- [3 marks] ==========\n",
    "Next, we would like to test the performance of support vector machines. Train three support vector classifiers with the following kernels: linear, radial basis function, and polynomial. Report the classification accuracy of each of the three classifiers on both the training and validation sets."
   ]
  },
  {
   "cell_type": "code",
   "execution_count": 58,
   "metadata": {
    "collapsed": false
   },
   "outputs": [
    {
     "name": "stdout",
     "output_type": "stream",
     "text": [
      "LINEAR SVC classification accuracy on training set: 0.842\n",
      "LINEAR SVC classification accuracy on test set: 0.639\n",
      "RBF SVC classification accuracy on training set: 0.911\n",
      "RBF SVC classification accuracy on test set: 0.730\n",
      "POLY SVC classification accuracy on training set: 0.991\n",
      "POLY SVC classification accuracy on test set: 0.702\n"
     ]
    }
   ],
   "source": [
    "svm_li = SVC(kernel=\"linear\")\n",
    "svm_li.fit(X_tr_stand,y_tr)\n",
    "\n",
    "print('LINEAR SVC classification accuracy on training set: {:.3f}'.format(svm_li.score(X_tr_stand, y_tr)))\n",
    "print('LINEAR SVC classification accuracy on test set: {:.3f}'.format(svm_li.score(X_val_stand, y_val)))\n",
    "\n",
    "svm_rbf = SVC(kernel=\"rbf\")\n",
    "svm_rbf.fit(X_tr_stand,y_tr)\n",
    "\n",
    "print('RBF SVC classification accuracy on training set: {:.3f}'.format(svm_rbf.score(X_tr_stand, y_tr)))\n",
    "print('RBF SVC classification accuracy on test set: {:.3f}'.format(svm_rbf.score(X_val_stand, y_val)))\n",
    "\n",
    "svm_poly = SVC(kernel=\"poly\")\n",
    "svm_poly.fit(X_tr_stand,y_tr)\n",
    "\n",
    "print('POLY SVC classification accuracy on training set: {:.3f}'.format(svm_poly.score(X_tr_stand, y_tr)))\n",
    "print('POLY SVC classification accuracy on test set: {:.3f}'.format(svm_poly.score(X_val_stand, y_val)))"
   ]
  },
  {
   "cell_type": "markdown",
   "metadata": {},
   "source": [
    "### ========== Question 1.20 --- [3 marks] ==========\n",
    "At this point, we would like to get an idea of what kind of decision boundaries we can get with the three types of SVM kernels we introduced in the previous question. For visualisation, however, we can only make use of 2D input data. For this purpose, we select to use the 21st and 76th columns of our training features (*hint: remember that Python uses 0-based indexing*). \n",
    "\n",
    "Execute the cell below to define a useful function which we will be using to plot the decision boundaries *(it is also not a bad idea to try to understand what this functions does)*. \n",
    "\n",
    "Then train three distinct SVM classifiers by using the 2D input data mentioned above and default parameters:\n",
    "* a linear SVC\n",
    "* an RBF SVC \n",
    "* a polynomial SVC\n",
    "\n",
    "Finally, create a list containing the three classifiers you have just trained. Use this list as an input to the provided function along with the used training features and observe the outcome. You can use the additional `title` parameter to set the titles in the subplots. Comment on the shape of the boundaries and what this means for classification accuracy in 1-2 sentences.\n",
    "\n",
    "*(Acknowledgement: this Question has been heavily based on [this example](http://scikit-learn.org/0.17/auto_examples/svm/plot_iris.html) from scikit-learn's documentation.)*"
   ]
  },
  {
   "cell_type": "code",
   "execution_count": 59,
   "metadata": {
    "collapsed": true
   },
   "outputs": [],
   "source": [
    "def show_svc_decision_boundaries(clfs, X, title=None):\n",
    "    \"\"\"Plots decision boundaries for classifiers with 2D inputs.\n",
    "    \n",
    "    Parameters\n",
    "    ----------\n",
    "    clf : list\n",
    "        Classifiers for which decision boundaries will be displayed.\n",
    "    X : array\n",
    "        Input features used to train the classifiers.\n",
    "    title : list, optional\n",
    "        Titles for classifiers.\n",
    "    \n",
    "    \"\"\"\n",
    "    \n",
    "    assert X.shape[1] == 2 # Input should be 2D\n",
    "    if title is not None:\n",
    "        assert len(clfs) == len(title)\n",
    "    \n",
    "    h = .04 # step size in the mesh\n",
    "    x_min, x_max = X[:, 0].min() - 1, X[:, 0].max() + 1\n",
    "    y_min, y_max = X[:, 1].min() - 1, X[:, 1].max() + 1\n",
    "    xx, yy = np.meshgrid(np.arange(x_min, x_max, h),\n",
    "                         np.arange(y_min, y_max, h))\n",
    "    plt.figure(figsize=(15,5))\n",
    "    for i, clf in enumerate(clfs):\n",
    "        plt.subplot(1, len(clfs), i + 1)\n",
    "        plt.subplots_adjust(wspace=0.4, hspace=0.4)\n",
    "        Z = clf.predict(np.c_[xx.ravel(), yy.ravel()])\n",
    "        Z = Z.reshape(xx.shape)\n",
    "        plt.contourf(xx, yy, Z, cmap=plt.cm.Paired, alpha=0.8)\n",
    "        # Training points\n",
    "        plt.scatter(X[:, 0], X[:, 1], c=y_tr, cmap=plt.cm.Paired)\n",
    "        plt.xlabel('Feature 1')\n",
    "        plt.ylabel('Feature 2')\n",
    "        plt.xlim(xx.min(), xx.max())\n",
    "        plt.ylim(yy.min(), yy.max())\n",
    "        plt.xticks(())\n",
    "        plt.yticks(())\n",
    "        if title is not None:\n",
    "            plt.title(title[i])"
   ]
  },
  {
   "cell_type": "code",
   "execution_count": 60,
   "metadata": {
    "collapsed": false
   },
   "outputs": [
    {
     "data": {
      "text/plain": [
       "SVC(C=1.0, cache_size=200, class_weight=None, coef0=0.0,\n",
       "  decision_function_shape=None, degree=3, gamma='auto', kernel='poly',\n",
       "  max_iter=-1, probability=False, random_state=None, shrinking=True,\n",
       "  tol=0.001, verbose=False)"
      ]
     },
     "execution_count": 60,
     "metadata": {},
     "output_type": "execute_result"
    }
   ],
   "source": [
    "svm_X_input = X_tr_stand[[X_col[20], X_col[75]]]\n",
    "\n",
    "svm_li = SVC(kernel=\"linear\")\n",
    "svm_li.fit(svm_X_input,y_tr)\n",
    "\n",
    "svm_rbf = SVC(kernel=\"rbf\")\n",
    "svm_rbf.fit(svm_X_input,y_tr)\n",
    "\n",
    "svm_poly = SVC(kernel=\"poly\")\n",
    "svm_poly.fit(svm_X_input,y_tr)"
   ]
  },
  {
   "cell_type": "code",
   "execution_count": 61,
   "metadata": {
    "collapsed": false,
    "scrolled": true
   },
   "outputs": [
    {
     "data": {
      "image/png": "[encoded data removed]",
      "text/plain": [
       "<matplotlib.figure.Figure at 0x1e2ceb162b0>"
      ]
     },
     "metadata": {},
     "output_type": "display_data"
    }
   ],
   "source": [
    "svm_cl = [svm_li,svm_rbf,svm_poly]\n",
    "\n",
    "#svm_X_input = np.array([X_tr_stand[X_col[20]].values, X_tr_stand[X_col[75]].values])\n",
    "#svm_X_input = svm_X_input.reshape(2093,2)\n",
    "\n",
    "               \n",
    "show_svc_decision_boundaries(svm_cl, svm_X_input.values,[\"Linear\",\"RBF\",\"Poly\"])"
   ]
  },
  {
   "cell_type": "markdown",
   "metadata": {},
   "source": [
    "The shapes of the decision boundaries of linear, rbf and poly are as expected to their basis functions. \n",
    "\n",
    "The RBF and Poly kernals shift the decision boundary such that it can accomodate a different distribution of class points relative to linear. This allows it to better fit its training set. It seems as if Poly has overfit the training set, not performing as well as RBF."
   ]
  },
  {
   "cell_type": "markdown",
   "metadata": {},
   "source": [
    "### ========== Question 1.21 --- [5 marks] ==========\n",
    "So far we have used default parameters for training the SVM classifiers. Now we want to tune the parameters by using cross-validation. \n",
    "\n",
    "By using the `K-fold` iterator from Question 1.11 and training data only, estimate the classification accuracy of an SVM classifier with RBF kernel, while you vary the penalty parameter `C` in a logarithmic range `np.logspace(-2, 3, 10)`. Set the kernel coefficient parameter `gamma` to `auto` for this question. \n",
    "\n",
    "Plot the mean cross-validated classification accuracy against the regularisation parameter `C` by using a log-scale for the x-axis. Display the highest obtained mean accuracy score and the value of `C` which yielded it. Label axes appropriately. \n",
    "\n",
    "Finally, train a classifier by using the optimal value for this parameter (without using cross-validation at this stage) and report the classification accuracy on the training and validation sets. "
   ]
  },
  {
   "cell_type": "code",
   "execution_count": 62,
   "metadata": {
    "collapsed": false
   },
   "outputs": [],
   "source": [
    "range_c = np.logspace(-2, 3, 10)\n",
    "score_array = []\n",
    "i=0\n",
    "for train_index, test_index in kf:\n",
    "    score_array.append([])\n",
    "    for c in range_c:\n",
    "        svm_rbf = SVC(kernel=\"rbf\", C=c,gamma=\"auto\")\n",
    "        svm_rbf.fit(X_tr_stand.iloc[train_index], y_tr[train_index])\n",
    "        score_array[i].append(svm_rbf.score(X_tr_stand.iloc[test_index],y_tr[test_index]))\n",
    "    i+= 1\n"
   ]
  },
  {
   "cell_type": "code",
   "execution_count": 63,
   "metadata": {
    "collapsed": false
   },
   "outputs": [
    {
     "name": "stdout",
     "output_type": "stream",
     "text": [
      "Best C:  1.6681005372 with a mean score of :  0.715230644637\n"
     ]
    }
   ],
   "source": [
    "score_array = pd.DataFrame(score_array)\n",
    "mean_score = score_array.mean(axis=0)\n",
    "\n",
    "X = np.logspace(-2,3,10)\n",
    "highest_mean_score = mean_score.max()\n",
    "highest_c =  X[mean_score[mean_score==mean_score.max()].index[0]]\n",
    "print(\"Best C: \",highest_c, \"with a mean score of : \", highest_mean_score )"
   ]
  },
  {
   "cell_type": "code",
   "execution_count": 64,
   "metadata": {
    "collapsed": false
   },
   "outputs": [
    {
     "data": {
      "text/plain": [
       "<matplotlib.text.Text at 0x1e2cec588d0>"
      ]
     },
     "execution_count": 64,
     "metadata": {},
     "output_type": "execute_result"
    },
    {
     "data": {
      "text/plain": [
       "<matplotlib.figure.Figure at 0x1e2cec13b70>"
      ]
     },
     "metadata": {},
     "output_type": "display_data"
    },
    {
     "data": {
      "image/png": "[encoded data removed]",
      "text/plain": [
       "<matplotlib.figure.Figure at 0x1e2ceb03390>"
      ]
     },
     "metadata": {},
     "output_type": "display_data"
    }
   ],
   "source": [
    "fig = plt.figure() \n",
    "df = pd.DataFrame(mean_score)\n",
    "df.set_index(X)\n",
    "df.plot(logx=True,title=\"Mean classfication score for C\")\n",
    "plt.xlabel(\"C\")\n",
    "plt.ylabel(\"Mean Classification Score\")"
   ]
  },
  {
   "cell_type": "code",
   "execution_count": 65,
   "metadata": {
    "collapsed": false
   },
   "outputs": [
    {
     "name": "stdout",
     "output_type": "stream",
     "text": [
      "Classification Score on training set:  0.974677496417\n",
      "Classification Score on validation set:  0.727762803235\n"
     ]
    }
   ],
   "source": [
    "svm_rbf = SVC(kernel=\"rbf\", C=highest_c,gamma=\"auto\")\n",
    "svm_rbf.fit(X_tr_stand, y_tr)\n",
    "\n",
    "print(\"Classification Score on training set: \" , svm_rbf.score(X_tr_stand,y_tr))\n",
    "print(\"Classification Score on validation set: \" , svm_rbf.score(X_val_stand,y_val))"
   ]
  },
  {
   "cell_type": "markdown",
   "metadata": {},
   "source": [
    "### ========== Question 1.22 --- [5 marks] ==========\n",
    "Now we turn to the kernel coefficient `gamma` parameter. By using the same procedure as in the previous question, estimate the classification accuracy of an SVM classifier with RBF kernel while you vary the `gamma` parameter in a logarithmic range `logspace(-5, 0, 10)`. Fix the penalty parameter `C=1.0`.\n",
    "\n",
    "Plot the mean cross-validated classification accuracy against the parameter `gamma` by using a log-scale for the x-axis. Display the highest obtained mean accuracy score and the value of `gamma` which yielded it.  Label axes appropriately.\n",
    "\n",
    "Finally, train a classifier by using the optimal value for this parameter (without using cross-validation at this stage) and report the classification accuracy on the training and validation sets. "
   ]
  },
  {
   "cell_type": "code",
   "execution_count": 66,
   "metadata": {
    "collapsed": false
   },
   "outputs": [],
   "source": [
    "i = 0\n",
    "score_array = []\n",
    "X = np.logspace(-5,0,10)\n",
    "for train_index, test_index in kf:\n",
    "    score_array.append([])\n",
    "    for gam in X:\n",
    "        svm_rbf = SVC(C=1.0, kernel=\"rbf\", gamma=gam)\n",
    "        svm_rbf.fit(X_tr_stand.iloc[train_index],y_tr[train_index])\n",
    "        \n",
    "        score_array[i].append(svm_rbf.score(X_tr_stand.iloc[test_index],y_tr[test_index]))\n",
    "    i+=1\n"
   ]
  },
  {
   "cell_type": "code",
   "execution_count": 67,
   "metadata": {
    "collapsed": false
   },
   "outputs": [
    {
     "name": "stdout",
     "output_type": "stream",
     "text": [
      "Best gamma:  0.0016681005372 with a mean score of :  0.716185754475\n"
     ]
    }
   ],
   "source": [
    "score_array = pd.DataFrame(score_array)\n",
    "mean_score = score_array.mean(axis=0)\n",
    "\n",
    "X = np.logspace(-5,0,10)\n",
    "highest_mean_score = mean_score.max()\n",
    "highest_g =  X[mean_score[mean_score==mean_score.max()].index[0]]\n",
    "print(\"Best gamma: \",highest_g, \"with a mean score of : \", highest_mean_score )"
   ]
  },
  {
   "cell_type": "code",
   "execution_count": 68,
   "metadata": {
    "collapsed": false,
    "scrolled": true
   },
   "outputs": [
    {
     "data": {
      "text/plain": [
       "<matplotlib.text.Text at 0x1e2cfb49898>"
      ]
     },
     "execution_count": 68,
     "metadata": {},
     "output_type": "execute_result"
    },
    {
     "data": {
      "text/plain": [
       "<matplotlib.figure.Figure at 0x1e2cf391b38>"
      ]
     },
     "metadata": {},
     "output_type": "display_data"
    },
    {
     "data": {
      "image/png": "[encoded data removed]",
      "text/plain": [
       "<matplotlib.figure.Figure at 0x1e2cf371e80>"
      ]
     },
     "metadata": {},
     "output_type": "display_data"
    }
   ],
   "source": [
    "fig = plt.figure() \n",
    "df = pd.DataFrame(mean_score)\n",
    "df.set_index(X)\n",
    "df.plot(logx=True,title=\"Mean classfication score for gamma\")\n",
    "plt.xlabel(\"gamma\")\n",
    "plt.ylabel(\"Mean Classification Score\")"
   ]
  },
  {
   "cell_type": "code",
   "execution_count": 69,
   "metadata": {
    "collapsed": false
   },
   "outputs": [
    {
     "name": "stdout",
     "output_type": "stream",
     "text": [
      "Classification Score on training set:  0.891065456283\n",
      "Classification Score on validation set:  0.726864330638\n"
     ]
    }
   ],
   "source": [
    "svm_rbf = SVC(kernel=\"rbf\", C=1.0,gamma=highest_g)\n",
    "svm_rbf.fit(X_tr_stand, y_tr)\n",
    "\n",
    "print(\"Classification Score on training set: \" , svm_rbf.score(X_tr_stand,y_tr))\n",
    "print(\"Classification Score on validation set: \" , svm_rbf.score(X_val_stand,y_val))"
   ]
  },
  {
   "cell_type": "markdown",
   "metadata": {},
   "source": [
    "### ========== Question 1.23 --- [7 marks] ==========\n",
    "Now we wish to tune both the `C` and `gamma` parameters simultaneously. To save computational time, we will now constrain the parameter search space. Define a `4 X 4` grid for the two parameters, as follows:\n",
    "* `C`: `np.logspace(-2, 1, 4)`\n",
    "* `gamma`: `np.logspace(-4, -1, 4)`\n",
    "\n",
    "Estimate the mean cross-validated classification accuracy by using training data only and all possible configurations for the two parameters. \n",
    "\n",
    "Use a [heatmap](https://seaborn.github.io/generated/seaborn.heatmap.html?highlight=heatmap#seaborn.heatmap) to visualise the mean cross-validated classification accuracy for all `C`-`gamma` pairs. Label axes appropriately and display the values for `C` and `gamma` for the best performing configuration. \n",
    "\n",
    "Finally, by using the optimal configuration, train a classifier (without using cross-validation) and report the classification accuracy on the training and validation sets."
   ]
  },
  {
   "cell_type": "code",
   "execution_count": 70,
   "metadata": {
    "collapsed": false
   },
   "outputs": [
    {
     "data": {
      "text/plain": [
       "<matplotlib.text.Text at 0x1e2cfd8de80>"
      ]
     },
     "execution_count": 70,
     "metadata": {},
     "output_type": "execute_result"
    },
    {
     "data": {
      "image/png": "[encoded data removed]",
      "text/plain": [
       "<matplotlib.figure.Figure at 0x1e2cf9acef0>"
      ]
     },
     "metadata": {},
     "output_type": "display_data"
    }
   ],
   "source": [
    "score_array = []\n",
    "i = 0\n",
    "X_c = np.logspace(-2, 1, 4)\n",
    "X_g = np.logspace(-4, -1, 4)\n",
    "for train_index, test_index in kf:\n",
    "    score_array.append([])\n",
    "    t=0\n",
    "    \n",
    "    for c in X_c:\n",
    "        score_array[i].append([])\n",
    "        for g in X_g:\n",
    "            svm_rbf = SVC(kernel=\"rbf\", C=c,gamma=g)\n",
    "            svm_rbf.fit(X_tr_stand.iloc[train_index],y_tr[train_index])\n",
    "            score_array[i][t].append(svm_rbf.score(X_tr_stand.iloc[test_index],y_tr[test_index]))\n",
    "        \n",
    "        t+=1\n",
    "    i+=1\n",
    "\n",
    "\n",
    "def get_score(score_array,row,col):\n",
    "    ans = 0\n",
    "    for instance_index, instance in enumerate(score_array):\n",
    "        ans += score_array[instance_index][row][col]\n",
    "    return ans/len(score_array)\n",
    "\n",
    "mean_score = []\n",
    "i=0\n",
    "for c_index, c in enumerate(X_c):\n",
    "    mean_score.append([])\n",
    "    for g_index, g in enumerate(X_g):\n",
    "        \n",
    "        mean_score[i].append(get_score(score_array,c_index,g_index))\n",
    "    i+=1\n",
    "\n",
    "\n",
    "fig = plt.figure()\n",
    "df = pd.DataFrame(mean_score)\n",
    "df.columns= X_g\n",
    "df.set_index(X_c,inplace=True)\n",
    "\n",
    "sns.heatmap(data=df)\n",
    "plt.title(\"Classification scores varying C and gamma\")\n",
    "plt.xlabel(\"gamma\")\n",
    "plt.ylabel(\"C\")"
   ]
  },
  {
   "cell_type": "code",
   "execution_count": 71,
   "metadata": {
    "collapsed": false
   },
   "outputs": [
    {
     "name": "stdout",
     "output_type": "stream",
     "text": [
      "Best classification score: 0.712362574494 with c:  1.0 and g:  0.001\n"
     ]
    }
   ],
   "source": [
    "best_score = df.max().max()\n",
    "s = df.stack()\n",
    "t = s[s==best_score]\n",
    "highest_c = t.index.tolist()[0][0]\n",
    "highest_g =   t.index.tolist()[0][1]\n",
    "\n",
    "print(\"Best classification score:\" ,best_score,\"with c: \" , highest_c, \"and g: \", highest_g)\n"
   ]
  },
  {
   "cell_type": "code",
   "execution_count": 72,
   "metadata": {
    "collapsed": false
   },
   "outputs": [
    {
     "name": "stdout",
     "output_type": "stream",
     "text": [
      "Classification Score on training set:  0.834687052078\n",
      "Classification Score on validation set:  0.721473495058\n"
     ]
    }
   ],
   "source": [
    "svm_rbf = SVC(kernel=\"rbf\", C=highest_c,gamma=highest_g)\n",
    "svm_rbf.fit(X_tr_stand, y_tr)\n",
    "\n",
    "print(\"Classification Score on training set: \" , svm_rbf.score(X_tr_stand,y_tr))\n",
    "print(\"Classification Score on validation set: \" , svm_rbf.score(X_val_stand,y_val))"
   ]
  },
  {
   "cell_type": "markdown",
   "metadata": {},
   "source": [
    "### ========== Question 1.24 --- [3 marks] ==========\n",
    "Is the classification accuracy on the validation set higher than in previous questions (1.22-1.23)? If not, can you explain why? Can you think of a way of further improving the performance of the classifier? You don't need to implement your suggestion at this stage. Would there be any associated problems with your suggested approach? "
   ]
  },
  {
   "cell_type": "markdown",
   "metadata": {},
   "source": [
    "No. It is lower. yes, by running through more parameters/combinations of C and gamma to get better parameters. I believe that the classification score actually decreased because we tried fewer parameters of C as compared to previously.\n",
    "\n",
    "Yes. Computing time would be much higher"
   ]
  },
  {
   "cell_type": "markdown",
   "metadata": {},
   "source": [
    "### ========== Question 1.25 --- [5 marks] ==========\n",
    "Now we want to evaluate the performance of an SVM classifier with polynomial kernel. Once again, we will tune the `degree` parameter by using cross-validation (similarly to what we did in Questions 1.21 and 1.22).\n",
    "\n",
    "By using the `K-fold` iterator from Question 1.11 and training data only, estimate the classification accuracy of polynomial SVM classifier, while you vary the `degree` parameter in the range `np.arange(1,8)`. \n",
    "\n",
    "Plot the mean cross-validated classification accuracy against the polynomial degree. Display the highest obtained mean accuracy score and the value of the `degree` parameter which yielded it. Label axes appropriately. \n",
    "\n",
    "Finally, train a classifier by using the optimal value for this parameter (without using cross-validation at this stage) and report the classification accuracy on the training and validation sets. "
   ]
  },
  {
   "cell_type": "code",
   "execution_count": 73,
   "metadata": {
    "collapsed": true
   },
   "outputs": [],
   "source": [
    "i = 0\n",
    "score_array = []\n",
    "X = np.arange(1,8)\n",
    "for train_index, test_index in kf:\n",
    "    score_array.append([])\n",
    "    for deg in X:\n",
    "        svm_poly = SVC( kernel=\"poly\", degree=deg)\n",
    "        svm_poly.fit(X_tr_stand.iloc[train_index],y_tr[train_index])\n",
    "        \n",
    "        score_array[i].append(svm_poly.score(X_tr_stand.iloc[test_index],y_tr[test_index]))\n",
    "    i+=1\n"
   ]
  },
  {
   "cell_type": "code",
   "execution_count": 74,
   "metadata": {
    "collapsed": false
   },
   "outputs": [
    {
     "name": "stdout",
     "output_type": "stream",
     "text": [
      "Best degree:  1 with a mean score of :  0.702810105802\n"
     ]
    }
   ],
   "source": [
    "score_array = pd.DataFrame(score_array)\n",
    "mean_score = score_array.mean(axis=0)\n",
    "\n",
    "highest_mean_score = mean_score.max()\n",
    "highest_g =  X[mean_score[mean_score==mean_score.max()].index[0]]\n",
    "print(\"Best degree: \",highest_g, \"with a mean score of : \", highest_mean_score )"
   ]
  },
  {
   "cell_type": "code",
   "execution_count": 75,
   "metadata": {
    "collapsed": false
   },
   "outputs": [
    {
     "data": {
      "text/plain": [
       "<matplotlib.figure.Figure at 0x1e2cfe60c88>"
      ]
     },
     "metadata": {},
     "output_type": "display_data"
    },
    {
     "data": {
      "image/png": "[encoded data removed]",
      "text/plain": [
       "<matplotlib.figure.Figure at 0x1e2cfe70c88>"
      ]
     },
     "metadata": {},
     "output_type": "display_data"
    }
   ],
   "source": [
    "fig = plt.figure() \n",
    "df = pd.DataFrame(mean_score)\n",
    "df.set_index(X)\n",
    "df.plot(title=\"Mean classfication score for degree\")\n",
    "plt.xlabel(\"degree\")\n",
    "plt.ylabel(\"Mean Classification Score\")\n",
    "plt.show()"
   ]
  },
  {
   "cell_type": "code",
   "execution_count": 76,
   "metadata": {
    "collapsed": false,
    "scrolled": true
   },
   "outputs": [
    {
     "name": "stdout",
     "output_type": "stream",
     "text": [
      "Classification Score on training set:  0.783564261825\n",
      "Classification Score on validation set:  0.689128481581\n"
     ]
    }
   ],
   "source": [
    "svm_poly = SVC( kernel=\"poly\", degree=highest_g)\n",
    "svm_poly.fit(X_tr_stand,y_tr)\n",
    "\n",
    "print(\"Classification Score on training set: \" , svm_poly.score(X_tr_stand,y_tr))\n",
    "print(\"Classification Score on validation set: \" , svm_poly.score(X_val_stand,y_val))"
   ]
  },
  {
   "cell_type": "markdown",
   "metadata": {},
   "source": [
    "### ========== Question 1.26 --- [4 marks] ==========\n",
    "\n",
    "You might have noticted that so far, we have used cross-validation for optimising the various tuning parameters (e.g. regularisation parameter in logistic regression, SVM kernel parameters) rather than hold-out validation, although we did have access to a validation set. Why do you think this is a good/bad idea? Give one advantage and one disadvantage of the two different approaches. Which one would you trust more in practice?"
   ]
  },
  {
   "cell_type": "markdown",
   "metadata": {},
   "source": [
    "Hold-out validation:\n",
    "advantage - lower computing time as you only need to run the model once\n",
    "\n",
    "disadvantage - performance evaluation is subject to higher variance due to a \"smaller\" data set\n",
    "\n",
    "cross-validation:\n",
    "advantage - lower variance on performance evaluation\n",
    "\n",
    "disadvantage - much higher computing costs, harder to debug\n",
    "\n",
    "i would trust cross-validation more to come up with my parameters due to its advantage of lower variance on performance evaluation"
   ]
  },
  {
   "cell_type": "markdown",
   "metadata": {},
   "source": [
    "### ========== Question 1.27 --- [6 marks] ==========\n",
    "\n",
    "Reload the full training and validation data that contain all indicator variables for all object categories. Remove the `imgId` attribute but keep all of the class indicator variables in the dataset this time. Your training features should include all attributes except `is_person` which should be your target variable. \n",
    "\n",
    "Once again, use a [StandardScaler](http://scikit-learn.org/0.17/modules/generated/sklearn.preprocessing.StandardScaler.html) to standardise your training and validation features. Then train a Random Forest Classifier by using the entropy `criterion`, 500 `n_estimators`, and also set the `random_state` to 31. Report the classification accuracy on the training and validation sets.\n",
    "\n",
    "Similarly to what we did in Question 1.18, order the features by decreasing importance and display the 50 most important features. \n",
    "\n",
    "Finally, answer the following questions:\n",
    "* What do you notice by looking at the list of the best 50 features?\n",
    "* How does the performance differ with respect to the case when the additional class indicator variables are not present (Question 1.16)? Relate your observations to the observed feature ranking.\n",
    "* Would it be easy to make use of the results in practice? Briey explain your reasoning.\n",
    "\n",
    "*(Hint: you might want to look at some of the [images](http://www.inf.ed.ac.uk/teaching/courses/iaml/2014/assts/asst3/images.html) to justify your explanations.)*"
   ]
  },
  {
   "cell_type": "code",
   "execution_count": 77,
   "metadata": {
    "collapsed": false
   },
   "outputs": [
    {
     "name": "stdout",
     "output_type": "stream",
     "text": [
      "train_A | Number of instances: 2093, number of attributes: 520\n",
      "valid_A | Number of instances: 1113, number of attributes: 520\n"
     ]
    }
   ],
   "source": [
    "data_path = os.path.join(os.getcwd(), 'datasets', 'train_images_partA.csv')\n",
    "train_A = pd.read_csv(data_path, delimiter = ',')\n",
    "print('train_A | Number of instances: {}, number of attributes: {}'.format(train_A.shape[0], train_A.shape[1]))\n",
    "\n",
    "data_path = os.path.join(os.getcwd(), 'datasets', 'valid_images_partA.csv')\n",
    "valid_A = pd.read_csv(data_path, delimiter = ',')\n",
    "print('valid_A | Number of instances: {}, number of attributes: {}'.format(valid_A.shape[0], valid_A.shape[1]))\n"
   ]
  },
  {
   "cell_type": "code",
   "execution_count": 78,
   "metadata": {
    "collapsed": true
   },
   "outputs": [],
   "source": [
    "train_A_indexed = train_A.drop(\"imgId\",axis=1)\n",
    "valid_A_indexed = valid_A.drop(\"imgId\",axis=1)\n",
    "\n",
    "X_tr = train_A_indexed.drop(\"is_person\",axis=1)\n",
    "X_val = valid_A_indexed.drop(\"is_person\",axis=1)\n",
    "y_tr = train_A_indexed[\"is_person\"]\n",
    "y_val = valid_A_indexed[\"is_person\"]\n",
    "\n"
   ]
  },
  {
   "cell_type": "code",
   "execution_count": 79,
   "metadata": {
    "collapsed": false
   },
   "outputs": [],
   "source": [
    "X_col = X_tr.columns.values.tolist()\n",
    "ss = StandardScaler()\n",
    "ss.fit(X_tr)\n",
    "X_tr_stand = ss.transform(X_tr)\n",
    "X_tr_stand = pd.DataFrame(data=X_tr_stand, columns=X_col)\n",
    "\n",
    "X_val_stand = ss.transform(X_val)\n",
    "X_val_stand = pd.DataFrame(data=X_val_stand, columns=X_col)\n"
   ]
  },
  {
   "cell_type": "code",
   "execution_count": 80,
   "metadata": {
    "collapsed": false
   },
   "outputs": [
    {
     "name": "stdout",
     "output_type": "stream",
     "text": [
      "Classification score with training set:  1.0\n",
      "Classifcation score with test set:  0.711590296496\n"
     ]
    }
   ],
   "source": [
    "rfc = RandomForestClassifier(criterion=\"entropy\", n_estimators=500,random_state=31)\n",
    "rfc.fit(X=X_tr_stand,y=y_tr)\n",
    "print(\"Classification score with training set: \" , rfc.score(X_tr_stand,y_tr))\n",
    "print(\"Classifcation score with test set: \" , rfc.score(X_val_stand,y_val))"
   ]
  },
  {
   "cell_type": "code",
   "execution_count": 81,
   "metadata": {
    "collapsed": false
   },
   "outputs": [
    {
     "name": "stdout",
     "output_type": "stream",
     "text": [
      "is_cat : 0.009378660464170746\n",
      "is_bird : 0.008730905617523231\n",
      "dim21 : 0.008030268242118669\n",
      "dim51 : 0.005924593779591833\n",
      "dim360 : 0.005463270730147453\n",
      "dim4 : 0.005325463573024001\n",
      "dim76 : 0.005271109427699043\n",
      "dim398 : 0.005254291293471388\n",
      "dim283 : 0.004982521468726957\n",
      "dim479 : 0.004941770916921759\n",
      "dim263 : 0.004733840538947801\n",
      "dim343 : 0.004609191127087782\n",
      "dim423 : 0.004433294145917714\n",
      "dim485 : 0.004244690009363214\n",
      "dim254 : 0.004188582305401224\n",
      "dim461 : 0.004157503978723529\n",
      "dim222 : 0.004134377135817939\n",
      "dim356 : 0.0039138875860249295\n",
      "dim74 : 0.0038603367481714335\n",
      "dim288 : 0.003850365683691205\n",
      "dim214 : 0.0037915869326592007\n",
      "dim348 : 0.0037810959049539117\n",
      "dim330 : 0.003712548531421811\n",
      "dim217 : 0.003683426786554175\n",
      "dim483 : 0.00363277470755832\n",
      "dim90 : 0.0036258903666367714\n",
      "dim274 : 0.0035970303119618125\n",
      "dim347 : 0.0035330997133573776\n",
      "dim17 : 0.003447608315671807\n",
      "dim427 : 0.0033773881272774462\n",
      "dim35 : 0.003305822073970323\n",
      "dim326 : 0.0032983574618096344\n",
      "dim73 : 0.0032667142601207795\n",
      "dim312 : 0.003193307798588004\n",
      "dim48 : 0.0031604102046429577\n",
      "dim25 : 0.003155158711859702\n",
      "dim315 : 0.0031460858483183824\n",
      "dim322 : 0.0031284246543865123\n",
      "dim329 : 0.0031011368033754525\n",
      "dim500 : 0.003085219875273966\n",
      "dim134 : 0.0030344063454050578\n",
      "dim206 : 0.003016559143181971\n",
      "is_aeroplane : 0.002997903559230447\n",
      "dim96 : 0.002967897165470811\n",
      "dim353 : 0.0029649800394587265\n",
      "dim442 : 0.002951999868036438\n",
      "dim77 : 0.002942898487940923\n",
      "dim440 : 0.002927260769000772\n",
      "dim171 : 0.002910362501292478\n",
      "dim154 : 0.002877028898719401\n"
     ]
    }
   ],
   "source": [
    "feature_impt= {}\n",
    "x=0\n",
    "for i in rfc.feature_importances_.tolist():\n",
    "    feature_impt[x] = i\n",
    "    x += 1\n",
    "\n",
    "t = range(0,50)\n",
    "\n",
    "for i in t:\n",
    "    z = 0\n",
    "    index = 50000\n",
    "    for key,value in feature_impt.items():\n",
    "        \n",
    "        if (value > z):\n",
    "            index = key\n",
    "            z = value\n",
    "    print(X_col[index] , \":\", z)\n",
    "    del feature_impt[index]"
   ]
  },
  {
   "cell_type": "markdown",
   "metadata": {},
   "source": [
    "What do you notice by looking at the list of the best 50 features?\n",
    "\n",
    "The top two features are not visual bags of words, but whether there exists a cat (is_cat) or bird (is_bird)\n",
    "\n",
    "How does the performance differ with respect to the case when the additional class indicator variables are not present (Question 1.16)? Relate your observations to the observed feature ranking.\n",
    "\n",
    "It performs better with a score with the test set of 0.711 compared to 0.692722371968. This is expected as the top two features of \"is_person\" in the random forest generator are the new features that were added.\n",
    "\n",
    "Would it be easy to make use of the results in practice? Briey explain your reasoning.\n",
    "\n",
    "In practice, one would have to identify if pictures had an cat/bird/other item in a data set for these features to be available. You would either have a human do this or another model (with its own accuracy). Also using these as features causes the model to base its predictions on the existance of another entity rather than the visual cues in the image itself. As such the practicality of using these as featuers is not high."
   ]
  },
  {
   "cell_type": "markdown",
   "metadata": {},
   "source": [
    "## Mini challenge [30%]"
   ]
  },
  {
   "cell_type": "markdown",
   "metadata": {},
   "source": [
    "*Important: You are allowed to write up to a maximum of 600 words in this part of the assignment. The thoroughness of the exploration and the quality of the resulting discussion is just as important as the final classification performance of your chosen method(s) and credit will be divided accordingly.*"
   ]
  },
  {
   "cell_type": "markdown",
   "metadata": {},
   "source": [
    "In this final part of the assignment we will have a mini object-recognition challenge. Using the data provided you are asked to find the best classiffier for the person/no person classification task. You can apply any preprocessing steps to the data that you think fit and employ any classifier you like (with the provison that you can explain what the classifier is/preprocessing steps are doing). You can also employ any lessons learnt during the course, either from previous Assignments, the Labs or the lecture material to try and squeeze out as much performance as you possibly can. The only restriction is that all steps must be performed in `Python` by using the `numpy`, `pandas` and `sklearn` packages. You can also make use of `matplotlib` and `seaborn` for visualisation. "
   ]
  },
  {
   "cell_type": "markdown",
   "metadata": {},
   "source": [
    "**Important:** The classification performance metric that we will use for this part is the *cross-entropy* or *logarithmic loss* (see Lab 4). You should familiarise yourself with the metric by reading the `sklearn` [user guide](http://scikit-learn.org/0.17/modules/model_evaluation.html#log-loss) and [documentation](http://scikit-learn.org/0.17/modules/generated/sklearn.metrics.log_loss.html#sklearn.metrics.log_loss). To estimate this metric you will need to evaluate probability outputs, as opposed to discrete predictions which we have used so far to compute classification accuracies. Most models in `sklearn` implement a `predict_proba()` method which returns the probabilities for each class. For instance, if your test set consists of `N` datapoints and there are `K` classes, the method will return a `N` x `K` matrix."
   ]
  },
  {
   "cell_type": "markdown",
   "metadata": {},
   "source": [
    "We provide you with three new data sets: a training set (`train_images_partB.csv`), a validation set (`valid_images_partB.csv`), and a test set (`test_images_partB.csv`). You must use the former two for training and evaluating your models (as you see fit). Once you have chosen your favourite model (and pre-processing steps) you should apply it to the test set (for which no labels are provided). Estimate the posterior proabilities for the data points in the test set and submit your results as part of your answer. Your results will be evaluated in terms of the logarithmic loss metric. You also need to submit a brief description of the approaches you considered, your suggested final approach, and a short explanation of why you chose it. The thoroughness of the exploration and the quality of the resulting discussion is just as important as the final score of your chosen method(s) and credit will be divided accordingly.\n",
    "\n",
    "*Hint: Feature engineering, feature combination, model combination and model parameter optimization can significantly improve performance.*"
   ]
  },
  {
   "cell_type": "markdown",
   "metadata": {},
   "source": [
    "**How to submit your results**: Store the estimated probabilities for the data points in the test set in a 2D numpy array. Then execute the provided cell at the end of this notebook which uses a provided `save_predictions` function to export your results into a `.txt` file (the function will return an error if the provided array has not the right shape). The `.txt` file will be saved where your notebook lives. Submit this file along with your notebook as detailed at the top of this file."
   ]
  },
  {
   "cell_type": "markdown",
   "metadata": {},
   "source": [
    "*Your answer goes here (max. 600 words)*\n",
    "\n"
   ]
  },
  {
   "cell_type": "code",
   "execution_count": 113,
   "metadata": {
    "collapsed": false,
    "scrolled": true
   },
   "outputs": [
    {
     "name": "stdout",
     "output_type": "stream",
     "text": [
      "train_B | Number of instances: 2093, number of attributes: 520\n",
      "valid_B | Number of instances: 1113, number of attributes: 520\n",
      "test_B | Number of instances: 1113, number of attributes: 520\n"
     ]
    }
   ],
   "source": [
    "data_path = os.path.join(os.getcwd(), 'datasets', 'train_images_partB.csv')\n",
    "train_B = pd.read_csv(data_path, delimiter = ',')\n",
    "print('train_B | Number of instances: {}, number of attributes: {}'.format(train_A.shape[0], train_A.shape[1]))\n",
    "\n",
    "data_path = os.path.join(os.getcwd(), 'datasets', 'valid_images_partB.csv')\n",
    "valid_B = pd.read_csv(data_path, delimiter = ',')\n",
    "print('valid_B | Number of instances: {}, number of attributes: {}'.format(valid_A.shape[0], valid_A.shape[1]))\n",
    "\n",
    "\n",
    "data_path = os.path.join(os.getcwd(), 'datasets', 'test_images_partB.csv')\n",
    "test_B = pd.read_csv(data_path, delimiter = ',')\n",
    "print('test_B | Number of instances: {}, number of attributes: {}'.format(valid_A.shape[0], valid_A.shape[1]))"
   ]
  },
  {
   "cell_type": "code",
   "execution_count": 114,
   "metadata": {
    "collapsed": false
   },
   "outputs": [],
   "source": [
    "#creating X_col, list of feature names used\n",
    "X_col = train_B.drop(\"imgId\", axis=1).columns.values.tolist()\n",
    "X_col = X_col[:500]"
   ]
  },
  {
   "cell_type": "code",
   "execution_count": 123,
   "metadata": {
    "collapsed": true
   },
   "outputs": [],
   "source": [
    "#creating training and validation inputs\n",
    "X_tr = train_B[X_col]\n",
    "X_val = valid_B[X_col]\n",
    "X_test = test_B[X_col]\n",
    "\n",
    "y_tr = train_B[\"is_person\"]\n",
    "y_val = valid_B[\"is_person\"]"
   ]
  },
  {
   "cell_type": "markdown",
   "metadata": {},
   "source": [
    "Here im going with using less data (removing the  \"is_something\" features ) to determine \"is_person\" as I would like my model to be based on visual cues in an image rather than the presence of another entity/object. From here I start exploring the data..."
   ]
  },
  {
   "cell_type": "code",
   "execution_count": 116,
   "metadata": {
    "collapsed": false
   },
   "outputs": [
    {
     "name": "stdout",
     "output_type": "stream",
     "text": [
      "feature mean, mean:  0.048840763630856356\n",
      "feature std, mean:  0.5528484210911909\n",
      "feature max, mean:  9.505181348\n",
      "feature mean, std:  0.006192086683722825\n",
      "feature std, std:  0.057406488869649885\n",
      "feature max, std:  0.4944422841263389\n",
      "feature max, std:  0.0\n"
     ]
    }
   ],
   "source": [
    "print(\"feature mean, mean: \", X_tr.mean().mean())\n",
    "print(\"feature std, mean: \", X_tr.std().mean())\n",
    "print(\"feature max, mean: \", X_tr.max().mean())\n",
    "\n",
    "print(\"feature mean, std: \", X_tr.mean().std())\n",
    "print(\"feature std, std: \", X_tr.std().std())\n",
    "print(\"feature max, std: \", X_tr.max().std())\n",
    "print(\"feature max, std: \", X_tr.min().std())"
   ]
  },
  {
   "cell_type": "code",
   "execution_count": 117,
   "metadata": {
    "collapsed": false
   },
   "outputs": [
    {
     "data": {
      "image/png": "[encoded data removed]",
      "text/plain": [
       "<matplotlib.figure.Figure at 0x1e2ced61908>"
      ]
     },
     "metadata": {},
     "output_type": "display_data"
    }
   ],
   "source": [
    "fig, ax = plt.subplots(2,2,figsize=(7,7))\n",
    "ax[0,0].hist(X_tr.mean())\n",
    "ax[0,0].set_title(\"distribution of feature mean\")\n",
    "ax[0,1].hist(X_tr.max())\n",
    "ax[0,1].set_title(\"distribution of feature max\")\n",
    "ax[1,0].hist(X_tr.std())\n",
    "ax[1,0].set_title(\"distribution of feature std\")\n",
    "\n",
    "ax[1,1].hist(X_tr[\"dim100\"])\n",
    "ax[1,1].set_title(\"Distribution of dim100\")\n",
    "plt.show()\n"
   ]
  },
  {
   "cell_type": "markdown",
   "metadata": {},
   "source": [
    "Taking a look at how similar the features are to one another in the dataset. I notice that thier means and std are somewhat similar. however it seems that thier max's are quite high indicating a skewed distribution - not a good input into any model. first i want to fix individual feature distribution."
   ]
  },
  {
   "cell_type": "code",
   "execution_count": 124,
   "metadata": {
    "collapsed": false
   },
   "outputs": [
    {
     "data": {
      "image/png": "[encoded data removed]",
      "text/plain": [
       "<matplotlib.figure.Figure at 0x1e2ce4ca1d0>"
      ]
     },
     "metadata": {},
     "output_type": "display_data"
    }
   ],
   "source": [
    "X_tr_log = np.log10(X_tr +0.000001)\n",
    "X_val_log = np.log10(X_val+0.000001)\n",
    "X_test_log =  np.log10(X_test+0.000001)\n",
    "fig, ax = plt.subplots(2,2,figsize=(7,7))\n",
    "ax[0,0].hist(X_tr_log.mean())\n",
    "ax[0,0].set_title(\"distribution of feature mean\")\n",
    "ax[0,1].hist(X_tr_log.max())\n",
    "ax[0,1].set_title(\"distribution of feature max\")\n",
    "ax[1,0].hist(X_tr_log.std())\n",
    "ax[1,0].set_title(\"distribution of feature std\")\n",
    "\n",
    "ax[1,1].hist(X_tr_log[\"dim100\"])\n",
    "ax[1,1].set_title(\"Distribution of dim100\")\n",
    "plt.show()\n"
   ]
  },
  {
   "cell_type": "markdown",
   "metadata": {},
   "source": [
    "Much better (distribution of dim100). A small amount is added to each value to allow for the transformation. Next lets next standardise because we want each attribute to matter equally in our classifiers also for gradient decent to run faster..."
   ]
  },
  {
   "cell_type": "code",
   "execution_count": 125,
   "metadata": {
    "collapsed": true
   },
   "outputs": [],
   "source": [
    "ss = StandardScaler()\n",
    "ss.fit(X_tr_log)\n",
    "\n",
    "X_tr_stand = ss.transform(X_tr_log)\n",
    "X_val_stand = ss.transform(X_val_log)\n",
    "X_test_stand = ss.transform(X_test_log)\n",
    "X_tr_stand = pd.DataFrame(X_tr_stand,columns=X_col)\n",
    "X_val_stand = pd.DataFrame(X_val_stand,columns=X_col)\n"
   ]
  },
  {
   "cell_type": "markdown",
   "metadata": {},
   "source": [
    "Now becuase the cost method is log loss..."
   ]
  },
  {
   "cell_type": "code",
   "execution_count": 120,
   "metadata": {
    "collapsed": false
   },
   "outputs": [
    {
     "data": {
      "text/plain": [
       "<matplotlib.figure.Figure at 0x1e2ce7b6d68>"
      ]
     },
     "metadata": {},
     "output_type": "display_data"
    },
    {
     "data": {
      "image/png": "[encoded data removed]",
      "text/plain": [
       "<matplotlib.figure.Figure at 0x1e2ce7047f0>"
      ]
     },
     "metadata": {},
     "output_type": "display_data"
    }
   ],
   "source": [
    "test_y = np.arange(0.0,1.0,0.1)\n",
    "score_array= []\n",
    "for i in test_y:\n",
    "    y_true = [1]\n",
    "    y_pred = [[i,1.0-i]]\n",
    "    score_array.append(log_loss(y_true,y_pred,labels=[0,1]))\n",
    "    \n",
    "fig = plt.figure()\n",
    "df = pd.DataFrame(score_array)\n",
    "df = df.set_index(test_y)\n",
    "df.plot()\n",
    "plt.title(\"log_loss cost across probability wrong\")\n",
    "plt.show()"
   ]
  },
  {
   "cell_type": "markdown",
   "metadata": {},
   "source": [
    "And it increases exponentially the more \"wrong\" you are with regards to a sample. I predict that a logistic regression model would best suit the cost function. This is because relative to other classifiers, (to my knowledge) like SVMs or random forest, logistic regression takes into account confidence and probabilities of every point as compared to an SVM which ultimately only considers the support vectors, generalizing other input points. "
   ]
  },
  {
   "cell_type": "code",
   "execution_count": 121,
   "metadata": {
    "collapsed": false
   },
   "outputs": [
    {
     "data": {
      "text/html": [
       "<div>\n",
       "<table border=\"1\" class=\"dataframe\">\n",
       "  <thead>\n",
       "    <tr style=\"text-align: right;\">\n",
       "      <th></th>\n",
       "      <th>dim1</th>\n",
       "      <th>dim2</th>\n",
       "      <th>dim3</th>\n",
       "      <th>dim4</th>\n",
       "      <th>dim5</th>\n",
       "      <th>dim6</th>\n",
       "      <th>dim7</th>\n",
       "      <th>dim8</th>\n",
       "      <th>dim9</th>\n",
       "      <th>dim10</th>\n",
       "      <th>...</th>\n",
       "      <th>dim491</th>\n",
       "      <th>dim492</th>\n",
       "      <th>dim493</th>\n",
       "      <th>dim494</th>\n",
       "      <th>dim495</th>\n",
       "      <th>dim496</th>\n",
       "      <th>dim497</th>\n",
       "      <th>dim498</th>\n",
       "      <th>dim499</th>\n",
       "      <th>dim500</th>\n",
       "    </tr>\n",
       "  </thead>\n",
       "  <tbody>\n",
       "    <tr>\n",
       "      <th>0</th>\n",
       "      <td>0.372072</td>\n",
       "      <td>0.667646</td>\n",
       "      <td>0.150663</td>\n",
       "      <td>-0.111078</td>\n",
       "      <td>0.078602</td>\n",
       "      <td>0.199113</td>\n",
       "      <td>0.489052</td>\n",
       "      <td>0.394310</td>\n",
       "      <td>0.554860</td>\n",
       "      <td>0.690377</td>\n",
       "      <td>...</td>\n",
       "      <td>-0.020413</td>\n",
       "      <td>0.886792</td>\n",
       "      <td>0.541661</td>\n",
       "      <td>0.170548</td>\n",
       "      <td>0.313099</td>\n",
       "      <td>-0.230942</td>\n",
       "      <td>0.728900</td>\n",
       "      <td>0.153837</td>\n",
       "      <td>0.083164</td>\n",
       "      <td>-0.531366</td>\n",
       "    </tr>\n",
       "    <tr>\n",
       "      <th>1</th>\n",
       "      <td>0.194055</td>\n",
       "      <td>0.568110</td>\n",
       "      <td>0.557385</td>\n",
       "      <td>0.585730</td>\n",
       "      <td>0.532445</td>\n",
       "      <td>0.685918</td>\n",
       "      <td>0.615545</td>\n",
       "      <td>0.411951</td>\n",
       "      <td>0.274015</td>\n",
       "      <td>0.097433</td>\n",
       "      <td>...</td>\n",
       "      <td>0.239137</td>\n",
       "      <td>-0.884539</td>\n",
       "      <td>0.677802</td>\n",
       "      <td>0.191630</td>\n",
       "      <td>0.646213</td>\n",
       "      <td>0.605581</td>\n",
       "      <td>0.134810</td>\n",
       "      <td>-4.272544</td>\n",
       "      <td>0.391825</td>\n",
       "      <td>0.524090</td>\n",
       "    </tr>\n",
       "    <tr>\n",
       "      <th>2</th>\n",
       "      <td>-0.354510</td>\n",
       "      <td>-1.106663</td>\n",
       "      <td>-3.148304</td>\n",
       "      <td>-0.004766</td>\n",
       "      <td>0.041861</td>\n",
       "      <td>0.747378</td>\n",
       "      <td>0.119019</td>\n",
       "      <td>0.369418</td>\n",
       "      <td>0.557230</td>\n",
       "      <td>0.605291</td>\n",
       "      <td>...</td>\n",
       "      <td>0.269031</td>\n",
       "      <td>-0.884539</td>\n",
       "      <td>-0.181299</td>\n",
       "      <td>-0.157295</td>\n",
       "      <td>-0.092482</td>\n",
       "      <td>-3.675001</td>\n",
       "      <td>-2.787503</td>\n",
       "      <td>-0.617205</td>\n",
       "      <td>0.468083</td>\n",
       "      <td>-3.671090</td>\n",
       "    </tr>\n",
       "    <tr>\n",
       "      <th>3</th>\n",
       "      <td>0.515831</td>\n",
       "      <td>1.056087</td>\n",
       "      <td>0.346031</td>\n",
       "      <td>-0.504305</td>\n",
       "      <td>-0.726241</td>\n",
       "      <td>0.267130</td>\n",
       "      <td>-2.234901</td>\n",
       "      <td>0.578378</td>\n",
       "      <td>-3.165109</td>\n",
       "      <td>0.166563</td>\n",
       "      <td>...</td>\n",
       "      <td>0.113002</td>\n",
       "      <td>-0.884539</td>\n",
       "      <td>0.871228</td>\n",
       "      <td>-0.003997</td>\n",
       "      <td>-0.287978</td>\n",
       "      <td>-0.291132</td>\n",
       "      <td>-0.434722</td>\n",
       "      <td>0.125352</td>\n",
       "      <td>-3.589250</td>\n",
       "      <td>0.065554</td>\n",
       "    </tr>\n",
       "    <tr>\n",
       "      <th>4</th>\n",
       "      <td>0.124187</td>\n",
       "      <td>0.529018</td>\n",
       "      <td>-0.148257</td>\n",
       "      <td>-0.547879</td>\n",
       "      <td>-0.033031</td>\n",
       "      <td>0.220813</td>\n",
       "      <td>0.689575</td>\n",
       "      <td>-2.385233</td>\n",
       "      <td>0.525135</td>\n",
       "      <td>0.384021</td>\n",
       "      <td>...</td>\n",
       "      <td>0.258900</td>\n",
       "      <td>0.941657</td>\n",
       "      <td>-2.132853</td>\n",
       "      <td>0.255377</td>\n",
       "      <td>-0.507966</td>\n",
       "      <td>0.534015</td>\n",
       "      <td>0.790846</td>\n",
       "      <td>0.532594</td>\n",
       "      <td>-0.362793</td>\n",
       "      <td>0.020353</td>\n",
       "    </tr>\n",
       "    <tr>\n",
       "      <th>5</th>\n",
       "      <td>-3.482766</td>\n",
       "      <td>1.348105</td>\n",
       "      <td>-0.686153</td>\n",
       "      <td>-0.504305</td>\n",
       "      <td>-0.726241</td>\n",
       "      <td>-0.644841</td>\n",
       "      <td>0.252827</td>\n",
       "      <td>0.862577</td>\n",
       "      <td>-0.477589</td>\n",
       "      <td>-0.760325</td>\n",
       "      <td>...</td>\n",
       "      <td>-0.529470</td>\n",
       "      <td>1.531068</td>\n",
       "      <td>-0.070363</td>\n",
       "      <td>-2.854078</td>\n",
       "      <td>-4.536440</td>\n",
       "      <td>-3.675001</td>\n",
       "      <td>-2.787503</td>\n",
       "      <td>-0.172832</td>\n",
       "      <td>-0.659866</td>\n",
       "      <td>-0.732159</td>\n",
       "    </tr>\n",
       "    <tr>\n",
       "      <th>6</th>\n",
       "      <td>-0.567364</td>\n",
       "      <td>-1.106663</td>\n",
       "      <td>0.341537</td>\n",
       "      <td>-0.547879</td>\n",
       "      <td>-0.404454</td>\n",
       "      <td>0.780518</td>\n",
       "      <td>0.479225</td>\n",
       "      <td>0.465159</td>\n",
       "      <td>0.477287</td>\n",
       "      <td>0.627384</td>\n",
       "      <td>...</td>\n",
       "      <td>-0.250760</td>\n",
       "      <td>-0.884539</td>\n",
       "      <td>0.370034</td>\n",
       "      <td>0.255377</td>\n",
       "      <td>-0.211255</td>\n",
       "      <td>-0.337843</td>\n",
       "      <td>0.698059</td>\n",
       "      <td>0.268796</td>\n",
       "      <td>0.256736</td>\n",
       "      <td>-0.232882</td>\n",
       "    </tr>\n",
       "    <tr>\n",
       "      <th>7</th>\n",
       "      <td>-0.117879</td>\n",
       "      <td>1.056087</td>\n",
       "      <td>-0.805397</td>\n",
       "      <td>-0.643627</td>\n",
       "      <td>-0.292501</td>\n",
       "      <td>-3.662579</td>\n",
       "      <td>-0.115286</td>\n",
       "      <td>0.790209</td>\n",
       "      <td>-3.165109</td>\n",
       "      <td>-3.827422</td>\n",
       "      <td>...</td>\n",
       "      <td>-0.341701</td>\n",
       "      <td>1.274581</td>\n",
       "      <td>0.467955</td>\n",
       "      <td>-2.854078</td>\n",
       "      <td>-4.536440</td>\n",
       "      <td>-0.230942</td>\n",
       "      <td>-2.787503</td>\n",
       "      <td>-0.981051</td>\n",
       "      <td>-0.801739</td>\n",
       "      <td>0.396873</td>\n",
       "    </tr>\n",
       "    <tr>\n",
       "      <th>8</th>\n",
       "      <td>0.403734</td>\n",
       "      <td>0.917012</td>\n",
       "      <td>0.372284</td>\n",
       "      <td>-0.015598</td>\n",
       "      <td>0.508607</td>\n",
       "      <td>0.014431</td>\n",
       "      <td>0.371008</td>\n",
       "      <td>0.611313</td>\n",
       "      <td>0.525135</td>\n",
       "      <td>0.025004</td>\n",
       "      <td>...</td>\n",
       "      <td>0.070943</td>\n",
       "      <td>0.941657</td>\n",
       "      <td>0.634219</td>\n",
       "      <td>0.255377</td>\n",
       "      <td>-0.015494</td>\n",
       "      <td>0.302943</td>\n",
       "      <td>0.480893</td>\n",
       "      <td>0.178710</td>\n",
       "      <td>0.380945</td>\n",
       "      <td>0.187431</td>\n",
       "    </tr>\n",
       "    <tr>\n",
       "      <th>9</th>\n",
       "      <td>-0.019627</td>\n",
       "      <td>0.529018</td>\n",
       "      <td>0.499287</td>\n",
       "      <td>0.232276</td>\n",
       "      <td>-0.033031</td>\n",
       "      <td>0.529551</td>\n",
       "      <td>-2.234901</td>\n",
       "      <td>0.611313</td>\n",
       "      <td>-3.165109</td>\n",
       "      <td>0.329415</td>\n",
       "      <td>...</td>\n",
       "      <td>0.330477</td>\n",
       "      <td>-0.884539</td>\n",
       "      <td>0.333275</td>\n",
       "      <td>0.496366</td>\n",
       "      <td>0.387336</td>\n",
       "      <td>0.302943</td>\n",
       "      <td>-0.196124</td>\n",
       "      <td>0.415462</td>\n",
       "      <td>0.090202</td>\n",
       "      <td>0.312044</td>\n",
       "    </tr>\n",
       "    <tr>\n",
       "      <th>10</th>\n",
       "      <td>0.124187</td>\n",
       "      <td>-1.106663</td>\n",
       "      <td>0.232486</td>\n",
       "      <td>0.232276</td>\n",
       "      <td>0.555268</td>\n",
       "      <td>0.573928</td>\n",
       "      <td>-2.234901</td>\n",
       "      <td>-0.034280</td>\n",
       "      <td>-3.165109</td>\n",
       "      <td>0.558167</td>\n",
       "      <td>...</td>\n",
       "      <td>0.258900</td>\n",
       "      <td>-0.884539</td>\n",
       "      <td>-2.132853</td>\n",
       "      <td>-0.340790</td>\n",
       "      <td>0.465048</td>\n",
       "      <td>0.302943</td>\n",
       "      <td>-0.470361</td>\n",
       "      <td>0.346613</td>\n",
       "      <td>0.695462</td>\n",
       "      <td>0.565506</td>\n",
       "    </tr>\n",
       "    <tr>\n",
       "      <th>11</th>\n",
       "      <td>0.641521</td>\n",
       "      <td>0.591439</td>\n",
       "      <td>0.722995</td>\n",
       "      <td>0.569579</td>\n",
       "      <td>-0.066774</td>\n",
       "      <td>0.688320</td>\n",
       "      <td>0.302868</td>\n",
       "      <td>0.626547</td>\n",
       "      <td>0.312517</td>\n",
       "      <td>0.315511</td>\n",
       "      <td>...</td>\n",
       "      <td>0.175054</td>\n",
       "      <td>0.810713</td>\n",
       "      <td>0.440073</td>\n",
       "      <td>0.448113</td>\n",
       "      <td>0.517879</td>\n",
       "      <td>0.648930</td>\n",
       "      <td>-2.787503</td>\n",
       "      <td>0.608148</td>\n",
       "      <td>0.673838</td>\n",
       "      <td>0.676955</td>\n",
       "    </tr>\n",
       "    <tr>\n",
       "      <th>12</th>\n",
       "      <td>0.480344</td>\n",
       "      <td>-1.106663</td>\n",
       "      <td>0.742789</td>\n",
       "      <td>0.423981</td>\n",
       "      <td>-0.073530</td>\n",
       "      <td>0.500366</td>\n",
       "      <td>-2.234901</td>\n",
       "      <td>-0.390668</td>\n",
       "      <td>0.157927</td>\n",
       "      <td>-0.035051</td>\n",
       "      <td>...</td>\n",
       "      <td>0.253865</td>\n",
       "      <td>-0.884539</td>\n",
       "      <td>0.785666</td>\n",
       "      <td>-2.854078</td>\n",
       "      <td>-0.189093</td>\n",
       "      <td>0.278720</td>\n",
       "      <td>-0.588959</td>\n",
       "      <td>0.004424</td>\n",
       "      <td>0.233317</td>\n",
       "      <td>0.584331</td>\n",
       "    </tr>\n",
       "    <tr>\n",
       "      <th>13</th>\n",
       "      <td>0.403734</td>\n",
       "      <td>0.836325</td>\n",
       "      <td>0.476788</td>\n",
       "      <td>0.124158</td>\n",
       "      <td>-0.187185</td>\n",
       "      <td>-0.690552</td>\n",
       "      <td>0.479225</td>\n",
       "      <td>0.545646</td>\n",
       "      <td>0.607815</td>\n",
       "      <td>-0.449287</td>\n",
       "      <td>...</td>\n",
       "      <td>-0.062576</td>\n",
       "      <td>1.135739</td>\n",
       "      <td>0.745441</td>\n",
       "      <td>0.131399</td>\n",
       "      <td>0.191820</td>\n",
       "      <td>-0.130378</td>\n",
       "      <td>0.240186</td>\n",
       "      <td>-0.462744</td>\n",
       "      <td>0.090202</td>\n",
       "      <td>0.531237</td>\n",
       "    </tr>\n",
       "    <tr>\n",
       "      <th>14</th>\n",
       "      <td>-0.019627</td>\n",
       "      <td>-1.106663</td>\n",
       "      <td>-0.055720</td>\n",
       "      <td>0.395816</td>\n",
       "      <td>0.183975</td>\n",
       "      <td>0.127849</td>\n",
       "      <td>0.218486</td>\n",
       "      <td>0.215572</td>\n",
       "      <td>-0.205045</td>\n",
       "      <td>0.688348</td>\n",
       "      <td>...</td>\n",
       "      <td>-0.571100</td>\n",
       "      <td>1.055188</td>\n",
       "      <td>0.370034</td>\n",
       "      <td>0.429904</td>\n",
       "      <td>-0.507966</td>\n",
       "      <td>0.130695</td>\n",
       "      <td>0.604132</td>\n",
       "      <td>-0.057851</td>\n",
       "      <td>-0.704238</td>\n",
       "      <td>-0.776675</td>\n",
       "    </tr>\n",
       "    <tr>\n",
       "      <th>15</th>\n",
       "      <td>-0.019627</td>\n",
       "      <td>1.111214</td>\n",
       "      <td>0.596387</td>\n",
       "      <td>0.517792</td>\n",
       "      <td>-3.899325</td>\n",
       "      <td>0.220813</td>\n",
       "      <td>0.689575</td>\n",
       "      <td>0.545646</td>\n",
       "      <td>-0.205045</td>\n",
       "      <td>0.329415</td>\n",
       "      <td>...</td>\n",
       "      <td>0.447008</td>\n",
       "      <td>-0.884539</td>\n",
       "      <td>0.662573</td>\n",
       "      <td>0.351289</td>\n",
       "      <td>0.130513</td>\n",
       "      <td>0.431414</td>\n",
       "      <td>0.354391</td>\n",
       "      <td>-0.865922</td>\n",
       "      <td>0.180444</td>\n",
       "      <td>0.857187</td>\n",
       "    </tr>\n",
       "    <tr>\n",
       "      <th>16</th>\n",
       "      <td>0.124187</td>\n",
       "      <td>-1.106663</td>\n",
       "      <td>0.453002</td>\n",
       "      <td>-0.015598</td>\n",
       "      <td>-0.033031</td>\n",
       "      <td>-0.690552</td>\n",
       "      <td>0.739686</td>\n",
       "      <td>0.579925</td>\n",
       "      <td>0.109542</td>\n",
       "      <td>0.384021</td>\n",
       "      <td>...</td>\n",
       "      <td>0.447008</td>\n",
       "      <td>0.748397</td>\n",
       "      <td>0.027617</td>\n",
       "      <td>0.553776</td>\n",
       "      <td>0.500226</td>\n",
       "      <td>0.224033</td>\n",
       "      <td>0.737798</td>\n",
       "      <td>-4.272544</td>\n",
       "      <td>0.523220</td>\n",
       "      <td>-0.776675</td>\n",
       "    </tr>\n",
       "    <tr>\n",
       "      <th>17</th>\n",
       "      <td>0.403734</td>\n",
       "      <td>-1.106663</td>\n",
       "      <td>0.476788</td>\n",
       "      <td>-0.547879</td>\n",
       "      <td>0.674813</td>\n",
       "      <td>-0.132177</td>\n",
       "      <td>0.631562</td>\n",
       "      <td>0.640186</td>\n",
       "      <td>-3.165109</td>\n",
       "      <td>0.119488</td>\n",
       "      <td>...</td>\n",
       "      <td>0.392305</td>\n",
       "      <td>-0.884539</td>\n",
       "      <td>0.688599</td>\n",
       "      <td>0.553776</td>\n",
       "      <td>0.061973</td>\n",
       "      <td>0.224033</td>\n",
       "      <td>0.354391</td>\n",
       "      <td>0.346613</td>\n",
       "      <td>-0.019896</td>\n",
       "      <td>0.110889</td>\n",
       "    </tr>\n",
       "    <tr>\n",
       "      <th>18</th>\n",
       "      <td>0.235444</td>\n",
       "      <td>-1.106663</td>\n",
       "      <td>-0.267873</td>\n",
       "      <td>0.124158</td>\n",
       "      <td>0.266615</td>\n",
       "      <td>1.005672</td>\n",
       "      <td>-0.041147</td>\n",
       "      <td>0.215572</td>\n",
       "      <td>0.607815</td>\n",
       "      <td>0.558167</td>\n",
       "      <td>...</td>\n",
       "      <td>0.392305</td>\n",
       "      <td>-0.884539</td>\n",
       "      <td>-0.314087</td>\n",
       "      <td>0.131399</td>\n",
       "      <td>-0.340674</td>\n",
       "      <td>0.756722</td>\n",
       "      <td>0.079280</td>\n",
       "      <td>-0.057851</td>\n",
       "      <td>0.322638</td>\n",
       "      <td>-0.090103</td>\n",
       "    </tr>\n",
       "    <tr>\n",
       "      <th>19</th>\n",
       "      <td>0.470329</td>\n",
       "      <td>-1.106663</td>\n",
       "      <td>0.400994</td>\n",
       "      <td>0.395816</td>\n",
       "      <td>0.337999</td>\n",
       "      <td>0.299407</td>\n",
       "      <td>0.562942</td>\n",
       "      <td>0.215572</td>\n",
       "      <td>0.607815</td>\n",
       "      <td>0.025004</td>\n",
       "      <td>...</td>\n",
       "      <td>0.258900</td>\n",
       "      <td>-0.884539</td>\n",
       "      <td>0.333275</td>\n",
       "      <td>0.604571</td>\n",
       "      <td>0.247119</td>\n",
       "      <td>0.431414</td>\n",
       "      <td>0.240186</td>\n",
       "      <td>0.346613</td>\n",
       "      <td>0.090202</td>\n",
       "      <td>0.312044</td>\n",
       "    </tr>\n",
       "    <tr>\n",
       "      <th>20</th>\n",
       "      <td>0.449101</td>\n",
       "      <td>0.554175</td>\n",
       "      <td>-0.230101</td>\n",
       "      <td>0.028534</td>\n",
       "      <td>-0.355536</td>\n",
       "      <td>0.174262</td>\n",
       "      <td>0.252827</td>\n",
       "      <td>-2.385233</td>\n",
       "      <td>0.465103</td>\n",
       "      <td>0.525465</td>\n",
       "      <td>...</td>\n",
       "      <td>0.216505</td>\n",
       "      <td>-0.884539</td>\n",
       "      <td>-0.286114</td>\n",
       "      <td>0.170548</td>\n",
       "      <td>0.037280</td>\n",
       "      <td>-3.675001</td>\n",
       "      <td>0.843231</td>\n",
       "      <td>0.530088</td>\n",
       "      <td>0.301631</td>\n",
       "      <td>-0.732159</td>\n",
       "    </tr>\n",
       "    <tr>\n",
       "      <th>21</th>\n",
       "      <td>0.425928</td>\n",
       "      <td>0.541092</td>\n",
       "      <td>0.038674</td>\n",
       "      <td>0.590540</td>\n",
       "      <td>0.290405</td>\n",
       "      <td>-0.668614</td>\n",
       "      <td>0.579827</td>\n",
       "      <td>-0.267556</td>\n",
       "      <td>-0.001004</td>\n",
       "      <td>0.542804</td>\n",
       "      <td>...</td>\n",
       "      <td>0.601085</td>\n",
       "      <td>-0.884539</td>\n",
       "      <td>0.131019</td>\n",
       "      <td>-0.322238</td>\n",
       "      <td>-0.482315</td>\n",
       "      <td>0.508036</td>\n",
       "      <td>0.096713</td>\n",
       "      <td>-0.200130</td>\n",
       "      <td>0.202508</td>\n",
       "      <td>0.433644</td>\n",
       "    </tr>\n",
       "    <tr>\n",
       "      <th>22</th>\n",
       "      <td>-3.482766</td>\n",
       "      <td>-1.106663</td>\n",
       "      <td>0.188650</td>\n",
       "      <td>0.460533</td>\n",
       "      <td>-0.774304</td>\n",
       "      <td>0.481089</td>\n",
       "      <td>-0.041147</td>\n",
       "      <td>-2.385233</td>\n",
       "      <td>0.477287</td>\n",
       "      <td>-0.806783</td>\n",
       "      <td>...</td>\n",
       "      <td>0.617665</td>\n",
       "      <td>-0.884539</td>\n",
       "      <td>0.775162</td>\n",
       "      <td>-0.043339</td>\n",
       "      <td>0.500226</td>\n",
       "      <td>-0.337843</td>\n",
       "      <td>0.807080</td>\n",
       "      <td>0.178710</td>\n",
       "      <td>-0.362793</td>\n",
       "      <td>0.494537</td>\n",
       "    </tr>\n",
       "    <tr>\n",
       "      <th>23</th>\n",
       "      <td>0.235444</td>\n",
       "      <td>0.917012</td>\n",
       "      <td>0.020129</td>\n",
       "      <td>0.460533</td>\n",
       "      <td>0.266615</td>\n",
       "      <td>0.427362</td>\n",
       "      <td>0.371008</td>\n",
       "      <td>-2.385233</td>\n",
       "      <td>0.109542</td>\n",
       "      <td>0.478379</td>\n",
       "      <td>...</td>\n",
       "      <td>0.174235</td>\n",
       "      <td>-0.884539</td>\n",
       "      <td>0.027617</td>\n",
       "      <td>0.429904</td>\n",
       "      <td>0.675990</td>\n",
       "      <td>-3.675001</td>\n",
       "      <td>-0.035023</td>\n",
       "      <td>-0.057851</td>\n",
       "      <td>0.322638</td>\n",
       "      <td>0.777596</td>\n",
       "    </tr>\n",
       "    <tr>\n",
       "      <th>24</th>\n",
       "      <td>0.403734</td>\n",
       "      <td>-1.106663</td>\n",
       "      <td>0.645355</td>\n",
       "      <td>-0.015598</td>\n",
       "      <td>-0.033031</td>\n",
       "      <td>0.481089</td>\n",
       "      <td>0.371008</td>\n",
       "      <td>-0.283073</td>\n",
       "      <td>0.293340</td>\n",
       "      <td>0.658718</td>\n",
       "      <td>...</td>\n",
       "      <td>0.258900</td>\n",
       "      <td>-0.884539</td>\n",
       "      <td>0.507768</td>\n",
       "      <td>0.255377</td>\n",
       "      <td>0.675990</td>\n",
       "      <td>0.485357</td>\n",
       "      <td>0.167706</td>\n",
       "      <td>0.268796</td>\n",
       "      <td>0.090202</td>\n",
       "      <td>0.411565</td>\n",
       "    </tr>\n",
       "    <tr>\n",
       "      <th>25</th>\n",
       "      <td>0.403734</td>\n",
       "      <td>1.073850</td>\n",
       "      <td>0.453002</td>\n",
       "      <td>0.232276</td>\n",
       "      <td>0.508607</td>\n",
       "      <td>0.014431</td>\n",
       "      <td>0.371008</td>\n",
       "      <td>0.736817</td>\n",
       "      <td>-0.205045</td>\n",
       "      <td>0.025004</td>\n",
       "      <td>...</td>\n",
       "      <td>-0.062576</td>\n",
       "      <td>0.748397</td>\n",
       "      <td>0.603027</td>\n",
       "      <td>0.255377</td>\n",
       "      <td>0.344335</td>\n",
       "      <td>0.371106</td>\n",
       "      <td>0.301461</td>\n",
       "      <td>0.268796</td>\n",
       "      <td>-3.589250</td>\n",
       "      <td>0.020353</td>\n",
       "    </tr>\n",
       "    <tr>\n",
       "      <th>26</th>\n",
       "      <td>0.403734</td>\n",
       "      <td>0.529018</td>\n",
       "      <td>0.520569</td>\n",
       "      <td>0.395816</td>\n",
       "      <td>0.598189</td>\n",
       "      <td>-0.338809</td>\n",
       "      <td>0.562942</td>\n",
       "      <td>0.986669</td>\n",
       "      <td>0.644168</td>\n",
       "      <td>-0.090269</td>\n",
       "      <td>...</td>\n",
       "      <td>-0.250760</td>\n",
       "      <td>-0.884539</td>\n",
       "      <td>0.243634</td>\n",
       "      <td>0.553776</td>\n",
       "      <td>0.564959</td>\n",
       "      <td>0.371106</td>\n",
       "      <td>-0.035023</td>\n",
       "      <td>-0.865922</td>\n",
       "      <td>-0.362793</td>\n",
       "      <td>0.020353</td>\n",
       "    </tr>\n",
       "    <tr>\n",
       "      <th>27</th>\n",
       "      <td>-3.482766</td>\n",
       "      <td>0.582067</td>\n",
       "      <td>-3.148304</td>\n",
       "      <td>0.077320</td>\n",
       "      <td>-0.672953</td>\n",
       "      <td>0.225292</td>\n",
       "      <td>-2.234901</td>\n",
       "      <td>-0.214895</td>\n",
       "      <td>1.488323</td>\n",
       "      <td>0.914236</td>\n",
       "      <td>...</td>\n",
       "      <td>0.262979</td>\n",
       "      <td>-0.884539</td>\n",
       "      <td>-2.132853</td>\n",
       "      <td>-0.259278</td>\n",
       "      <td>0.408821</td>\n",
       "      <td>-3.675001</td>\n",
       "      <td>1.038735</td>\n",
       "      <td>0.053640</td>\n",
       "      <td>-0.268374</td>\n",
       "      <td>-0.682803</td>\n",
       "    </tr>\n",
       "    <tr>\n",
       "      <th>28</th>\n",
       "      <td>-0.567364</td>\n",
       "      <td>0.917012</td>\n",
       "      <td>0.232486</td>\n",
       "      <td>0.232276</td>\n",
       "      <td>-0.774304</td>\n",
       "      <td>-0.690552</td>\n",
       "      <td>-0.041147</td>\n",
       "      <td>-0.283073</td>\n",
       "      <td>0.210549</td>\n",
       "      <td>-0.239275</td>\n",
       "      <td>...</td>\n",
       "      <td>0.714008</td>\n",
       "      <td>0.941657</td>\n",
       "      <td>1.073870</td>\n",
       "      <td>-2.854078</td>\n",
       "      <td>0.297757</td>\n",
       "      <td>0.016820</td>\n",
       "      <td>0.443109</td>\n",
       "      <td>-4.272544</td>\n",
       "      <td>-0.362793</td>\n",
       "      <td>-0.090103</td>\n",
       "    </tr>\n",
       "    <tr>\n",
       "      <th>29</th>\n",
       "      <td>0.515831</td>\n",
       "      <td>0.748208</td>\n",
       "      <td>-0.230101</td>\n",
       "      <td>0.659411</td>\n",
       "      <td>0.449866</td>\n",
       "      <td>0.267130</td>\n",
       "      <td>-0.007406</td>\n",
       "      <td>0.394310</td>\n",
       "      <td>0.251883</td>\n",
       "      <td>0.072176</td>\n",
       "      <td>...</td>\n",
       "      <td>0.216505</td>\n",
       "      <td>0.773512</td>\n",
       "      <td>0.215146</td>\n",
       "      <td>0.643745</td>\n",
       "      <td>0.300034</td>\n",
       "      <td>0.666032</td>\n",
       "      <td>-0.159852</td>\n",
       "      <td>0.530088</td>\n",
       "      <td>0.425914</td>\n",
       "      <td>0.357159</td>\n",
       "    </tr>\n",
       "    <tr>\n",
       "      <th>...</th>\n",
       "      <td>...</td>\n",
       "      <td>...</td>\n",
       "      <td>...</td>\n",
       "      <td>...</td>\n",
       "      <td>...</td>\n",
       "      <td>...</td>\n",
       "      <td>...</td>\n",
       "      <td>...</td>\n",
       "      <td>...</td>\n",
       "      <td>...</td>\n",
       "      <td>...</td>\n",
       "      <td>...</td>\n",
       "      <td>...</td>\n",
       "      <td>...</td>\n",
       "      <td>...</td>\n",
       "      <td>...</td>\n",
       "      <td>...</td>\n",
       "      <td>...</td>\n",
       "      <td>...</td>\n",
       "      <td>...</td>\n",
       "      <td>...</td>\n",
       "    </tr>\n",
       "    <tr>\n",
       "      <th>2083</th>\n",
       "      <td>0.529251</td>\n",
       "      <td>0.529018</td>\n",
       "      <td>0.427849</td>\n",
       "      <td>0.395816</td>\n",
       "      <td>0.508607</td>\n",
       "      <td>0.367296</td>\n",
       "      <td>0.950155</td>\n",
       "      <td>0.916692</td>\n",
       "      <td>0.423794</td>\n",
       "      <td>-0.449287</td>\n",
       "      <td>...</td>\n",
       "      <td>0.174235</td>\n",
       "      <td>-0.884539</td>\n",
       "      <td>0.432570</td>\n",
       "      <td>0.429904</td>\n",
       "      <td>-0.105176</td>\n",
       "      <td>0.371106</td>\n",
       "      <td>0.443109</td>\n",
       "      <td>0.072152</td>\n",
       "      <td>-0.162211</td>\n",
       "      <td>0.411565</td>\n",
       "    </tr>\n",
       "    <tr>\n",
       "      <th>2084</th>\n",
       "      <td>-0.222322</td>\n",
       "      <td>-1.106663</td>\n",
       "      <td>0.520569</td>\n",
       "      <td>-0.212574</td>\n",
       "      <td>-0.033031</td>\n",
       "      <td>-0.338809</td>\n",
       "      <td>0.371008</td>\n",
       "      <td>-0.283073</td>\n",
       "      <td>0.477287</td>\n",
       "      <td>-0.090269</td>\n",
       "      <td>...</td>\n",
       "      <td>-0.062576</td>\n",
       "      <td>-0.884539</td>\n",
       "      <td>0.755675</td>\n",
       "      <td>0.131399</td>\n",
       "      <td>0.344335</td>\n",
       "      <td>-0.337843</td>\n",
       "      <td>0.079280</td>\n",
       "      <td>0.178710</td>\n",
       "      <td>-0.162211</td>\n",
       "      <td>-0.090103</td>\n",
       "    </tr>\n",
       "    <tr>\n",
       "      <th>2085</th>\n",
       "      <td>0.403734</td>\n",
       "      <td>0.529018</td>\n",
       "      <td>0.232486</td>\n",
       "      <td>0.232276</td>\n",
       "      <td>0.183975</td>\n",
       "      <td>0.720535</td>\n",
       "      <td>-0.041147</td>\n",
       "      <td>0.361550</td>\n",
       "      <td>0.709067</td>\n",
       "      <td>0.384021</td>\n",
       "      <td>...</td>\n",
       "      <td>0.817505</td>\n",
       "      <td>-0.884539</td>\n",
       "      <td>0.507768</td>\n",
       "      <td>0.604571</td>\n",
       "      <td>0.130513</td>\n",
       "      <td>0.485357</td>\n",
       "      <td>-0.470361</td>\n",
       "      <td>0.532594</td>\n",
       "      <td>0.750530</td>\n",
       "      <td>1.052252</td>\n",
       "    </tr>\n",
       "    <tr>\n",
       "      <th>2086</th>\n",
       "      <td>-0.243342</td>\n",
       "      <td>-1.106663</td>\n",
       "      <td>-3.148304</td>\n",
       "      <td>0.745246</td>\n",
       "      <td>0.063681</td>\n",
       "      <td>0.199113</td>\n",
       "      <td>0.202669</td>\n",
       "      <td>-0.298184</td>\n",
       "      <td>0.624857</td>\n",
       "      <td>1.053303</td>\n",
       "      <td>...</td>\n",
       "      <td>0.051072</td>\n",
       "      <td>-0.884539</td>\n",
       "      <td>-2.132853</td>\n",
       "      <td>-0.061460</td>\n",
       "      <td>-0.532417</td>\n",
       "      <td>-3.675001</td>\n",
       "      <td>0.062268</td>\n",
       "      <td>-0.890410</td>\n",
       "      <td>0.612564</td>\n",
       "      <td>-0.253751</td>\n",
       "    </tr>\n",
       "    <tr>\n",
       "      <th>2087</th>\n",
       "      <td>0.449101</td>\n",
       "      <td>1.367257</td>\n",
       "      <td>0.121987</td>\n",
       "      <td>0.331500</td>\n",
       "      <td>0.195673</td>\n",
       "      <td>-0.473564</td>\n",
       "      <td>0.531798</td>\n",
       "      <td>0.119912</td>\n",
       "      <td>-3.165109</td>\n",
       "      <td>-0.586247</td>\n",
       "      <td>...</td>\n",
       "      <td>0.135809</td>\n",
       "      <td>0.867617</td>\n",
       "      <td>0.034572</td>\n",
       "      <td>-2.854078</td>\n",
       "      <td>-0.897516</td>\n",
       "      <td>0.088332</td>\n",
       "      <td>-2.787503</td>\n",
       "      <td>0.023789</td>\n",
       "      <td>0.534141</td>\n",
       "      <td>0.322960</td>\n",
       "    </tr>\n",
       "    <tr>\n",
       "      <th>2088</th>\n",
       "      <td>-0.567364</td>\n",
       "      <td>0.979432</td>\n",
       "      <td>-0.055720</td>\n",
       "      <td>0.395816</td>\n",
       "      <td>-0.033031</td>\n",
       "      <td>0.014431</td>\n",
       "      <td>0.562942</td>\n",
       "      <td>0.215572</td>\n",
       "      <td>0.210549</td>\n",
       "      <td>-0.449287</td>\n",
       "      <td>...</td>\n",
       "      <td>-3.277789</td>\n",
       "      <td>0.941657</td>\n",
       "      <td>0.432570</td>\n",
       "      <td>0.553776</td>\n",
       "      <td>-0.507966</td>\n",
       "      <td>0.130695</td>\n",
       "      <td>0.773922</td>\n",
       "      <td>-0.225897</td>\n",
       "      <td>-0.704238</td>\n",
       "      <td>-0.232882</td>\n",
       "    </tr>\n",
       "    <tr>\n",
       "      <th>2089</th>\n",
       "      <td>-0.222322</td>\n",
       "      <td>-1.106663</td>\n",
       "      <td>-0.148257</td>\n",
       "      <td>0.395816</td>\n",
       "      <td>-0.774304</td>\n",
       "      <td>0.780518</td>\n",
       "      <td>0.218486</td>\n",
       "      <td>-2.385233</td>\n",
       "      <td>0.709067</td>\n",
       "      <td>0.792294</td>\n",
       "      <td>...</td>\n",
       "      <td>0.258900</td>\n",
       "      <td>-0.884539</td>\n",
       "      <td>0.186743</td>\n",
       "      <td>0.351289</td>\n",
       "      <td>-0.340674</td>\n",
       "      <td>-0.691003</td>\n",
       "      <td>0.301461</td>\n",
       "      <td>-0.462744</td>\n",
       "      <td>0.665536</td>\n",
       "      <td>-0.090103</td>\n",
       "    </tr>\n",
       "    <tr>\n",
       "      <th>2090</th>\n",
       "      <td>3.850715</td>\n",
       "      <td>3.296394</td>\n",
       "      <td>3.436860</td>\n",
       "      <td>3.731245</td>\n",
       "      <td>4.032439</td>\n",
       "      <td>4.243992</td>\n",
       "      <td>3.140792</td>\n",
       "      <td>2.904726</td>\n",
       "      <td>4.089438</td>\n",
       "      <td>4.139463</td>\n",
       "      <td>...</td>\n",
       "      <td>4.199303</td>\n",
       "      <td>3.539044</td>\n",
       "      <td>2.781674</td>\n",
       "      <td>2.577846</td>\n",
       "      <td>3.574743</td>\n",
       "      <td>4.464054</td>\n",
       "      <td>2.672342</td>\n",
       "      <td>3.376040</td>\n",
       "      <td>3.989128</td>\n",
       "      <td>4.229723</td>\n",
       "    </tr>\n",
       "    <tr>\n",
       "      <th>2091</th>\n",
       "      <td>0.146121</td>\n",
       "      <td>0.541092</td>\n",
       "      <td>0.578676</td>\n",
       "      <td>0.145473</td>\n",
       "      <td>-0.163549</td>\n",
       "      <td>-0.668614</td>\n",
       "      <td>0.756467</td>\n",
       "      <td>0.231388</td>\n",
       "      <td>-0.184812</td>\n",
       "      <td>0.142589</td>\n",
       "      <td>...</td>\n",
       "      <td>0.351082</td>\n",
       "      <td>0.760450</td>\n",
       "      <td>0.769547</td>\n",
       "      <td>0.449125</td>\n",
       "      <td>0.648948</td>\n",
       "      <td>-0.107808</td>\n",
       "      <td>0.319101</td>\n",
       "      <td>-0.032221</td>\n",
       "      <td>0.455026</td>\n",
       "      <td>-0.210990</td>\n",
       "    </tr>\n",
       "    <tr>\n",
       "      <th>2092</th>\n",
       "      <td>-0.019627</td>\n",
       "      <td>0.722603</td>\n",
       "      <td>-0.267873</td>\n",
       "      <td>0.124158</td>\n",
       "      <td>-0.033031</td>\n",
       "      <td>0.299407</td>\n",
       "      <td>-0.041147</td>\n",
       "      <td>-2.385233</td>\n",
       "      <td>0.816357</td>\n",
       "      <td>0.519866</td>\n",
       "      <td>...</td>\n",
       "      <td>0.495938</td>\n",
       "      <td>0.748397</td>\n",
       "      <td>0.484707</td>\n",
       "      <td>0.650005</td>\n",
       "      <td>-0.015494</td>\n",
       "      <td>-0.337843</td>\n",
       "      <td>0.240186</td>\n",
       "      <td>0.072152</td>\n",
       "      <td>0.256736</td>\n",
       "      <td>-0.090103</td>\n",
       "    </tr>\n",
       "    <tr>\n",
       "      <th>2093</th>\n",
       "      <td>0.326637</td>\n",
       "      <td>-1.106663</td>\n",
       "      <td>0.341537</td>\n",
       "      <td>0.320895</td>\n",
       "      <td>0.183975</td>\n",
       "      <td>0.299407</td>\n",
       "      <td>0.784023</td>\n",
       "      <td>0.736817</td>\n",
       "      <td>-0.205045</td>\n",
       "      <td>-0.239275</td>\n",
       "      <td>...</td>\n",
       "      <td>0.258900</td>\n",
       "      <td>1.198055</td>\n",
       "      <td>0.765585</td>\n",
       "      <td>0.496366</td>\n",
       "      <td>0.297757</td>\n",
       "      <td>0.302943</td>\n",
       "      <td>0.301461</td>\n",
       "      <td>0.178710</td>\n",
       "      <td>0.180444</td>\n",
       "      <td>0.411565</td>\n",
       "    </tr>\n",
       "    <tr>\n",
       "      <th>2094</th>\n",
       "      <td>0.470329</td>\n",
       "      <td>0.529018</td>\n",
       "      <td>-0.267873</td>\n",
       "      <td>0.517792</td>\n",
       "      <td>-0.033031</td>\n",
       "      <td>0.573928</td>\n",
       "      <td>0.689575</td>\n",
       "      <td>-0.034280</td>\n",
       "      <td>0.293340</td>\n",
       "      <td>0.329415</td>\n",
       "      <td>...</td>\n",
       "      <td>0.714008</td>\n",
       "      <td>-0.884539</td>\n",
       "      <td>-2.132853</td>\n",
       "      <td>0.351289</td>\n",
       "      <td>0.247119</td>\n",
       "      <td>-0.130378</td>\n",
       "      <td>0.167706</td>\n",
       "      <td>-0.462744</td>\n",
       "      <td>0.380945</td>\n",
       "      <td>-0.776675</td>\n",
       "    </tr>\n",
       "    <tr>\n",
       "      <th>2095</th>\n",
       "      <td>3.358916</td>\n",
       "      <td>3.120602</td>\n",
       "      <td>3.415740</td>\n",
       "      <td>2.996074</td>\n",
       "      <td>4.109359</td>\n",
       "      <td>3.360921</td>\n",
       "      <td>3.730382</td>\n",
       "      <td>2.956150</td>\n",
       "      <td>3.908750</td>\n",
       "      <td>4.262389</td>\n",
       "      <td>...</td>\n",
       "      <td>4.141141</td>\n",
       "      <td>3.456883</td>\n",
       "      <td>2.776838</td>\n",
       "      <td>4.030583</td>\n",
       "      <td>4.797303</td>\n",
       "      <td>3.414139</td>\n",
       "      <td>3.421859</td>\n",
       "      <td>4.558212</td>\n",
       "      <td>4.199194</td>\n",
       "      <td>4.145331</td>\n",
       "    </tr>\n",
       "    <tr>\n",
       "      <th>2096</th>\n",
       "      <td>0.718470</td>\n",
       "      <td>-1.106663</td>\n",
       "      <td>-0.686153</td>\n",
       "      <td>0.028534</td>\n",
       "      <td>0.449866</td>\n",
       "      <td>0.661038</td>\n",
       "      <td>0.405181</td>\n",
       "      <td>0.248237</td>\n",
       "      <td>-0.163612</td>\n",
       "      <td>0.605291</td>\n",
       "      <td>...</td>\n",
       "      <td>0.434549</td>\n",
       "      <td>-0.884539</td>\n",
       "      <td>-2.132853</td>\n",
       "      <td>0.802179</td>\n",
       "      <td>0.300034</td>\n",
       "      <td>-3.675001</td>\n",
       "      <td>0.390555</td>\n",
       "      <td>-0.004916</td>\n",
       "      <td>0.795480</td>\n",
       "      <td>0.065554</td>\n",
       "    </tr>\n",
       "    <tr>\n",
       "      <th>2097</th>\n",
       "      <td>-3.482766</td>\n",
       "      <td>0.979432</td>\n",
       "      <td>0.453002</td>\n",
       "      <td>0.124158</td>\n",
       "      <td>0.086226</td>\n",
       "      <td>0.614748</td>\n",
       "      <td>-2.234901</td>\n",
       "      <td>0.417140</td>\n",
       "      <td>0.477287</td>\n",
       "      <td>0.384021</td>\n",
       "      <td>...</td>\n",
       "      <td>0.392305</td>\n",
       "      <td>1.055188</td>\n",
       "      <td>0.507768</td>\n",
       "      <td>-0.043339</td>\n",
       "      <td>-0.105176</td>\n",
       "      <td>-0.691003</td>\n",
       "      <td>0.629794</td>\n",
       "      <td>0.415462</td>\n",
       "      <td>0.090202</td>\n",
       "      <td>-0.090103</td>\n",
       "    </tr>\n",
       "    <tr>\n",
       "      <th>2098</th>\n",
       "      <td>0.403734</td>\n",
       "      <td>0.529018</td>\n",
       "      <td>0.084253</td>\n",
       "      <td>0.395816</td>\n",
       "      <td>0.457649</td>\n",
       "      <td>0.614748</td>\n",
       "      <td>0.631562</td>\n",
       "      <td>0.295795</td>\n",
       "      <td>0.525135</td>\n",
       "      <td>-0.090269</td>\n",
       "      <td>...</td>\n",
       "      <td>0.070943</td>\n",
       "      <td>1.135739</td>\n",
       "      <td>-0.314087</td>\n",
       "      <td>0.351289</td>\n",
       "      <td>0.387336</td>\n",
       "      <td>0.534015</td>\n",
       "      <td>0.515492</td>\n",
       "      <td>0.477045</td>\n",
       "      <td>-0.362793</td>\n",
       "      <td>0.364368</td>\n",
       "    </tr>\n",
       "    <tr>\n",
       "      <th>2099</th>\n",
       "      <td>-0.567364</td>\n",
       "      <td>-1.106663</td>\n",
       "      <td>-0.436463</td>\n",
       "      <td>0.320895</td>\n",
       "      <td>-3.899325</td>\n",
       "      <td>0.573928</td>\n",
       "      <td>-2.234901</td>\n",
       "      <td>-2.385233</td>\n",
       "      <td>0.363334</td>\n",
       "      <td>0.935375</td>\n",
       "      <td>...</td>\n",
       "      <td>0.495938</td>\n",
       "      <td>-0.884539</td>\n",
       "      <td>-2.132853</td>\n",
       "      <td>-0.340790</td>\n",
       "      <td>-0.743749</td>\n",
       "      <td>-0.337843</td>\n",
       "      <td>-0.196124</td>\n",
       "      <td>-0.057851</td>\n",
       "      <td>0.750530</td>\n",
       "      <td>-0.434118</td>\n",
       "    </tr>\n",
       "    <tr>\n",
       "      <th>2100</th>\n",
       "      <td>0.169489</td>\n",
       "      <td>0.748208</td>\n",
       "      <td>-0.398504</td>\n",
       "      <td>-0.504305</td>\n",
       "      <td>0.506308</td>\n",
       "      <td>0.174262</td>\n",
       "      <td>0.665751</td>\n",
       "      <td>-0.001373</td>\n",
       "      <td>0.609593</td>\n",
       "      <td>0.525465</td>\n",
       "      <td>...</td>\n",
       "      <td>0.216505</td>\n",
       "      <td>0.773512</td>\n",
       "      <td>0.145597</td>\n",
       "      <td>0.294430</td>\n",
       "      <td>-1.092957</td>\n",
       "      <td>-3.675001</td>\n",
       "      <td>0.915657</td>\n",
       "      <td>-0.172832</td>\n",
       "      <td>0.301631</td>\n",
       "      <td>0.065554</td>\n",
       "    </tr>\n",
       "    <tr>\n",
       "      <th>2101</th>\n",
       "      <td>-0.019627</td>\n",
       "      <td>0.529018</td>\n",
       "      <td>0.540873</td>\n",
       "      <td>-3.381017</td>\n",
       "      <td>0.401157</td>\n",
       "      <td>-0.132177</td>\n",
       "      <td>0.562942</td>\n",
       "      <td>-0.034280</td>\n",
       "      <td>0.109542</td>\n",
       "      <td>0.519866</td>\n",
       "      <td>...</td>\n",
       "      <td>0.540074</td>\n",
       "      <td>0.941657</td>\n",
       "      <td>0.586152</td>\n",
       "      <td>0.351289</td>\n",
       "      <td>0.623120</td>\n",
       "      <td>0.016820</td>\n",
       "      <td>0.301461</td>\n",
       "      <td>0.415462</td>\n",
       "      <td>-0.704238</td>\n",
       "      <td>0.020353</td>\n",
       "    </tr>\n",
       "    <tr>\n",
       "      <th>2102</th>\n",
       "      <td>0.025786</td>\n",
       "      <td>1.056087</td>\n",
       "      <td>-0.686153</td>\n",
       "      <td>0.439904</td>\n",
       "      <td>0.603981</td>\n",
       "      <td>0.345656</td>\n",
       "      <td>0.665751</td>\n",
       "      <td>-0.250741</td>\n",
       "      <td>0.649074</td>\n",
       "      <td>-0.192222</td>\n",
       "      <td>...</td>\n",
       "      <td>-0.208390</td>\n",
       "      <td>0.773512</td>\n",
       "      <td>0.055949</td>\n",
       "      <td>0.390538</td>\n",
       "      <td>0.300034</td>\n",
       "      <td>-0.083896</td>\n",
       "      <td>0.734162</td>\n",
       "      <td>0.321808</td>\n",
       "      <td>0.225405</td>\n",
       "      <td>0.155997</td>\n",
       "    </tr>\n",
       "    <tr>\n",
       "      <th>2103</th>\n",
       "      <td>-0.019627</td>\n",
       "      <td>0.529018</td>\n",
       "      <td>0.188650</td>\n",
       "      <td>0.124158</td>\n",
       "      <td>0.266615</td>\n",
       "      <td>0.014431</td>\n",
       "      <td>-2.234901</td>\n",
       "      <td>0.295795</td>\n",
       "      <td>-0.205045</td>\n",
       "      <td>0.025004</td>\n",
       "      <td>...</td>\n",
       "      <td>0.330477</td>\n",
       "      <td>-0.884539</td>\n",
       "      <td>0.507768</td>\n",
       "      <td>-0.043339</td>\n",
       "      <td>0.675990</td>\n",
       "      <td>0.016820</td>\n",
       "      <td>0.807080</td>\n",
       "      <td>-0.865922</td>\n",
       "      <td>-0.019896</td>\n",
       "      <td>-0.434118</td>\n",
       "    </tr>\n",
       "    <tr>\n",
       "      <th>2104</th>\n",
       "      <td>-0.567364</td>\n",
       "      <td>-1.106663</td>\n",
       "      <td>0.139643</td>\n",
       "      <td>-0.015598</td>\n",
       "      <td>0.086226</td>\n",
       "      <td>0.014431</td>\n",
       "      <td>0.562942</td>\n",
       "      <td>0.361550</td>\n",
       "      <td>-0.021023</td>\n",
       "      <td>0.519866</td>\n",
       "      <td>...</td>\n",
       "      <td>-0.250760</td>\n",
       "      <td>0.748397</td>\n",
       "      <td>0.432570</td>\n",
       "      <td>-0.043339</td>\n",
       "      <td>0.130513</td>\n",
       "      <td>0.016820</td>\n",
       "      <td>0.576697</td>\n",
       "      <td>0.178710</td>\n",
       "      <td>0.090202</td>\n",
       "      <td>0.627586</td>\n",
       "    </tr>\n",
       "    <tr>\n",
       "      <th>2105</th>\n",
       "      <td>0.025786</td>\n",
       "      <td>1.004976</td>\n",
       "      <td>-0.110578</td>\n",
       "      <td>0.028534</td>\n",
       "      <td>0.449866</td>\n",
       "      <td>0.174262</td>\n",
       "      <td>0.513313</td>\n",
       "      <td>0.394310</td>\n",
       "      <td>0.020206</td>\n",
       "      <td>-0.192222</td>\n",
       "      <td>...</td>\n",
       "      <td>-0.208390</td>\n",
       "      <td>1.161113</td>\n",
       "      <td>0.145597</td>\n",
       "      <td>0.689138</td>\n",
       "      <td>0.440243</td>\n",
       "      <td>0.177294</td>\n",
       "      <td>0.712682</td>\n",
       "      <td>0.399781</td>\n",
       "      <td>-0.117271</td>\n",
       "      <td>0.357159</td>\n",
       "    </tr>\n",
       "    <tr>\n",
       "      <th>2106</th>\n",
       "      <td>0.581954</td>\n",
       "      <td>-1.106663</td>\n",
       "      <td>-0.267873</td>\n",
       "      <td>0.460533</td>\n",
       "      <td>0.598189</td>\n",
       "      <td>0.427362</td>\n",
       "      <td>-2.234901</td>\n",
       "      <td>-2.385233</td>\n",
       "      <td>0.644168</td>\n",
       "      <td>0.768179</td>\n",
       "      <td>...</td>\n",
       "      <td>0.330477</td>\n",
       "      <td>-0.884539</td>\n",
       "      <td>-0.314087</td>\n",
       "      <td>-0.043339</td>\n",
       "      <td>-0.211255</td>\n",
       "      <td>0.016820</td>\n",
       "      <td>-0.470361</td>\n",
       "      <td>0.178710</td>\n",
       "      <td>0.562845</td>\n",
       "      <td>0.312044</td>\n",
       "    </tr>\n",
       "    <tr>\n",
       "      <th>2107</th>\n",
       "      <td>0.124187</td>\n",
       "      <td>-1.106663</td>\n",
       "      <td>-0.723447</td>\n",
       "      <td>-0.547879</td>\n",
       "      <td>0.637813</td>\n",
       "      <td>0.573928</td>\n",
       "      <td>0.479225</td>\n",
       "      <td>-0.283073</td>\n",
       "      <td>0.525135</td>\n",
       "      <td>0.433276</td>\n",
       "      <td>...</td>\n",
       "      <td>0.174235</td>\n",
       "      <td>-0.884539</td>\n",
       "      <td>-0.314087</td>\n",
       "      <td>0.429904</td>\n",
       "      <td>-0.211255</td>\n",
       "      <td>0.534015</td>\n",
       "      <td>0.354391</td>\n",
       "      <td>0.630249</td>\n",
       "      <td>0.433099</td>\n",
       "      <td>0.187431</td>\n",
       "    </tr>\n",
       "    <tr>\n",
       "      <th>2108</th>\n",
       "      <td>0.772337</td>\n",
       "      <td>0.541092</td>\n",
       "      <td>0.539063</td>\n",
       "      <td>0.482205</td>\n",
       "      <td>-0.009520</td>\n",
       "      <td>0.552222</td>\n",
       "      <td>0.579827</td>\n",
       "      <td>0.231388</td>\n",
       "      <td>0.129455</td>\n",
       "      <td>-0.426197</td>\n",
       "      <td>...</td>\n",
       "      <td>0.413010</td>\n",
       "      <td>-0.884539</td>\n",
       "      <td>0.737789</td>\n",
       "      <td>0.449125</td>\n",
       "      <td>0.323563</td>\n",
       "      <td>-0.107808</td>\n",
       "      <td>0.319101</td>\n",
       "      <td>-0.840776</td>\n",
       "      <td>0.112407</td>\n",
       "      <td>0.042631</td>\n",
       "    </tr>\n",
       "    <tr>\n",
       "      <th>2109</th>\n",
       "      <td>0.627348</td>\n",
       "      <td>1.169767</td>\n",
       "      <td>-0.017852</td>\n",
       "      <td>0.168181</td>\n",
       "      <td>0.821210</td>\n",
       "      <td>-0.085881</td>\n",
       "      <td>0.405181</td>\n",
       "      <td>-0.250741</td>\n",
       "      <td>0.020206</td>\n",
       "      <td>0.166563</td>\n",
       "      <td>...</td>\n",
       "      <td>0.216505</td>\n",
       "      <td>1.223556</td>\n",
       "      <td>-2.132853</td>\n",
       "      <td>-0.302135</td>\n",
       "      <td>-0.455139</td>\n",
       "      <td>0.177294</td>\n",
       "      <td>0.001071</td>\n",
       "      <td>0.990641</td>\n",
       "      <td>0.301631</td>\n",
       "      <td>0.456727</td>\n",
       "    </tr>\n",
       "    <tr>\n",
       "      <th>2110</th>\n",
       "      <td>0.403734</td>\n",
       "      <td>0.529018</td>\n",
       "      <td>0.764960</td>\n",
       "      <td>0.232276</td>\n",
       "      <td>-0.033031</td>\n",
       "      <td>0.220813</td>\n",
       "      <td>-0.041147</td>\n",
       "      <td>0.361550</td>\n",
       "      <td>0.765836</td>\n",
       "      <td>0.384021</td>\n",
       "      <td>...</td>\n",
       "      <td>0.070943</td>\n",
       "      <td>-0.884539</td>\n",
       "      <td>0.586152</td>\n",
       "      <td>0.496366</td>\n",
       "      <td>0.623120</td>\n",
       "      <td>0.888678</td>\n",
       "      <td>0.737798</td>\n",
       "      <td>-0.462744</td>\n",
       "      <td>0.480143</td>\n",
       "      <td>0.110889</td>\n",
       "    </tr>\n",
       "    <tr>\n",
       "      <th>2111</th>\n",
       "      <td>0.862256</td>\n",
       "      <td>0.748208</td>\n",
       "      <td>0.057919</td>\n",
       "      <td>0.776543</td>\n",
       "      <td>0.821210</td>\n",
       "      <td>0.060612</td>\n",
       "      <td>0.252827</td>\n",
       "      <td>0.394310</td>\n",
       "      <td>0.150670</td>\n",
       "      <td>0.315511</td>\n",
       "      <td>...</td>\n",
       "      <td>0.372597</td>\n",
       "      <td>-0.884539</td>\n",
       "      <td>0.145597</td>\n",
       "      <td>0.767692</td>\n",
       "      <td>0.300034</td>\n",
       "      <td>0.417678</td>\n",
       "      <td>0.115285</td>\n",
       "      <td>0.636563</td>\n",
       "      <td>0.425914</td>\n",
       "      <td>0.610627</td>\n",
       "    </tr>\n",
       "    <tr>\n",
       "      <th>2112</th>\n",
       "      <td>-0.222322</td>\n",
       "      <td>-1.106663</td>\n",
       "      <td>0.139643</td>\n",
       "      <td>0.696421</td>\n",
       "      <td>0.183975</td>\n",
       "      <td>0.014431</td>\n",
       "      <td>-0.041147</td>\n",
       "      <td>0.361550</td>\n",
       "      <td>0.293340</td>\n",
       "      <td>0.025004</td>\n",
       "      <td>...</td>\n",
       "      <td>0.174235</td>\n",
       "      <td>-0.884539</td>\n",
       "      <td>0.459726</td>\n",
       "      <td>0.604571</td>\n",
       "      <td>-0.105176</td>\n",
       "      <td>0.578570</td>\n",
       "      <td>0.698059</td>\n",
       "      <td>-0.057851</td>\n",
       "      <td>-0.362793</td>\n",
       "      <td>0.655978</td>\n",
       "    </tr>\n",
       "  </tbody>\n",
       "</table>\n",
       "<p>2113 rows × 500 columns</p>\n",
       "</div>"
      ],
      "text/plain": [
       "          dim1      dim2      dim3      dim4      dim5      dim6      dim7  \\\n",
       "0     0.372072  0.667646  0.150663 -0.111078  0.078602  0.199113  0.489052   \n",
       "1     0.194055  0.568110  0.557385  0.585730  0.532445  0.685918  0.615545   \n",
       "2    -0.354510 -1.106663 -3.148304 -0.004766  0.041861  0.747378  0.119019   \n",
       "3     0.515831  1.056087  0.346031 -0.504305 -0.726241  0.267130 -2.234901   \n",
       "4     0.124187  0.529018 -0.148257 -0.547879 -0.033031  0.220813  0.689575   \n",
       "5    -3.482766  1.348105 -0.686153 -0.504305 -0.726241 -0.644841  0.252827   \n",
       "6    -0.567364 -1.106663  0.341537 -0.547879 -0.404454  0.780518  0.479225   \n",
       "7    -0.117879  1.056087 -0.805397 -0.643627 -0.292501 -3.662579 -0.115286   \n",
       "8     0.403734  0.917012  0.372284 -0.015598  0.508607  0.014431  0.371008   \n",
       "9    -0.019627  0.529018  0.499287  0.232276 -0.033031  0.529551 -2.234901   \n",
       "10    0.124187 -1.106663  0.232486  0.232276  0.555268  0.573928 -2.234901   \n",
       "11    0.641521  0.591439  0.722995  0.569579 -0.066774  0.688320  0.302868   \n",
       "12    0.480344 -1.106663  0.742789  0.423981 -0.073530  0.500366 -2.234901   \n",
       "13    0.403734  0.836325  0.476788  0.124158 -0.187185 -0.690552  0.479225   \n",
       "14   -0.019627 -1.106663 -0.055720  0.395816  0.183975  0.127849  0.218486   \n",
       "15   -0.019627  1.111214  0.596387  0.517792 -3.899325  0.220813  0.689575   \n",
       "16    0.124187 -1.106663  0.453002 -0.015598 -0.033031 -0.690552  0.739686   \n",
       "17    0.403734 -1.106663  0.476788 -0.547879  0.674813 -0.132177  0.631562   \n",
       "18    0.235444 -1.106663 -0.267873  0.124158  0.266615  1.005672 -0.041147   \n",
       "19    0.470329 -1.106663  0.400994  0.395816  0.337999  0.299407  0.562942   \n",
       "20    0.449101  0.554175 -0.230101  0.028534 -0.355536  0.174262  0.252827   \n",
       "21    0.425928  0.541092  0.038674  0.590540  0.290405 -0.668614  0.579827   \n",
       "22   -3.482766 -1.106663  0.188650  0.460533 -0.774304  0.481089 -0.041147   \n",
       "23    0.235444  0.917012  0.020129  0.460533  0.266615  0.427362  0.371008   \n",
       "24    0.403734 -1.106663  0.645355 -0.015598 -0.033031  0.481089  0.371008   \n",
       "25    0.403734  1.073850  0.453002  0.232276  0.508607  0.014431  0.371008   \n",
       "26    0.403734  0.529018  0.520569  0.395816  0.598189 -0.338809  0.562942   \n",
       "27   -3.482766  0.582067 -3.148304  0.077320 -0.672953  0.225292 -2.234901   \n",
       "28   -0.567364  0.917012  0.232486  0.232276 -0.774304 -0.690552 -0.041147   \n",
       "29    0.515831  0.748208 -0.230101  0.659411  0.449866  0.267130 -0.007406   \n",
       "...        ...       ...       ...       ...       ...       ...       ...   \n",
       "2083  0.529251  0.529018  0.427849  0.395816  0.508607  0.367296  0.950155   \n",
       "2084 -0.222322 -1.106663  0.520569 -0.212574 -0.033031 -0.338809  0.371008   \n",
       "2085  0.403734  0.529018  0.232486  0.232276  0.183975  0.720535 -0.041147   \n",
       "2086 -0.243342 -1.106663 -3.148304  0.745246  0.063681  0.199113  0.202669   \n",
       "2087  0.449101  1.367257  0.121987  0.331500  0.195673 -0.473564  0.531798   \n",
       "2088 -0.567364  0.979432 -0.055720  0.395816 -0.033031  0.014431  0.562942   \n",
       "2089 -0.222322 -1.106663 -0.148257  0.395816 -0.774304  0.780518  0.218486   \n",
       "2090  3.850715  3.296394  3.436860  3.731245  4.032439  4.243992  3.140792   \n",
       "2091  0.146121  0.541092  0.578676  0.145473 -0.163549 -0.668614  0.756467   \n",
       "2092 -0.019627  0.722603 -0.267873  0.124158 -0.033031  0.299407 -0.041147   \n",
       "2093  0.326637 -1.106663  0.341537  0.320895  0.183975  0.299407  0.784023   \n",
       "2094  0.470329  0.529018 -0.267873  0.517792 -0.033031  0.573928  0.689575   \n",
       "2095  3.358916  3.120602  3.415740  2.996074  4.109359  3.360921  3.730382   \n",
       "2096  0.718470 -1.106663 -0.686153  0.028534  0.449866  0.661038  0.405181   \n",
       "2097 -3.482766  0.979432  0.453002  0.124158  0.086226  0.614748 -2.234901   \n",
       "2098  0.403734  0.529018  0.084253  0.395816  0.457649  0.614748  0.631562   \n",
       "2099 -0.567364 -1.106663 -0.436463  0.320895 -3.899325  0.573928 -2.234901   \n",
       "2100  0.169489  0.748208 -0.398504 -0.504305  0.506308  0.174262  0.665751   \n",
       "2101 -0.019627  0.529018  0.540873 -3.381017  0.401157 -0.132177  0.562942   \n",
       "2102  0.025786  1.056087 -0.686153  0.439904  0.603981  0.345656  0.665751   \n",
       "2103 -0.019627  0.529018  0.188650  0.124158  0.266615  0.014431 -2.234901   \n",
       "2104 -0.567364 -1.106663  0.139643 -0.015598  0.086226  0.014431  0.562942   \n",
       "2105  0.025786  1.004976 -0.110578  0.028534  0.449866  0.174262  0.513313   \n",
       "2106  0.581954 -1.106663 -0.267873  0.460533  0.598189  0.427362 -2.234901   \n",
       "2107  0.124187 -1.106663 -0.723447 -0.547879  0.637813  0.573928  0.479225   \n",
       "2108  0.772337  0.541092  0.539063  0.482205 -0.009520  0.552222  0.579827   \n",
       "2109  0.627348  1.169767 -0.017852  0.168181  0.821210 -0.085881  0.405181   \n",
       "2110  0.403734  0.529018  0.764960  0.232276 -0.033031  0.220813 -0.041147   \n",
       "2111  0.862256  0.748208  0.057919  0.776543  0.821210  0.060612  0.252827   \n",
       "2112 -0.222322 -1.106663  0.139643  0.696421  0.183975  0.014431 -0.041147   \n",
       "\n",
       "          dim8      dim9     dim10    ...       dim491    dim492    dim493  \\\n",
       "0     0.394310  0.554860  0.690377    ...    -0.020413  0.886792  0.541661   \n",
       "1     0.411951  0.274015  0.097433    ...     0.239137 -0.884539  0.677802   \n",
       "2     0.369418  0.557230  0.605291    ...     0.269031 -0.884539 -0.181299   \n",
       "3     0.578378 -3.165109  0.166563    ...     0.113002 -0.884539  0.871228   \n",
       "4    -2.385233  0.525135  0.384021    ...     0.258900  0.941657 -2.132853   \n",
       "5     0.862577 -0.477589 -0.760325    ...    -0.529470  1.531068 -0.070363   \n",
       "6     0.465159  0.477287  0.627384    ...    -0.250760 -0.884539  0.370034   \n",
       "7     0.790209 -3.165109 -3.827422    ...    -0.341701  1.274581  0.467955   \n",
       "8     0.611313  0.525135  0.025004    ...     0.070943  0.941657  0.634219   \n",
       "9     0.611313 -3.165109  0.329415    ...     0.330477 -0.884539  0.333275   \n",
       "10   -0.034280 -3.165109  0.558167    ...     0.258900 -0.884539 -2.132853   \n",
       "11    0.626547  0.312517  0.315511    ...     0.175054  0.810713  0.440073   \n",
       "12   -0.390668  0.157927 -0.035051    ...     0.253865 -0.884539  0.785666   \n",
       "13    0.545646  0.607815 -0.449287    ...    -0.062576  1.135739  0.745441   \n",
       "14    0.215572 -0.205045  0.688348    ...    -0.571100  1.055188  0.370034   \n",
       "15    0.545646 -0.205045  0.329415    ...     0.447008 -0.884539  0.662573   \n",
       "16    0.579925  0.109542  0.384021    ...     0.447008  0.748397  0.027617   \n",
       "17    0.640186 -3.165109  0.119488    ...     0.392305 -0.884539  0.688599   \n",
       "18    0.215572  0.607815  0.558167    ...     0.392305 -0.884539 -0.314087   \n",
       "19    0.215572  0.607815  0.025004    ...     0.258900 -0.884539  0.333275   \n",
       "20   -2.385233  0.465103  0.525465    ...     0.216505 -0.884539 -0.286114   \n",
       "21   -0.267556 -0.001004  0.542804    ...     0.601085 -0.884539  0.131019   \n",
       "22   -2.385233  0.477287 -0.806783    ...     0.617665 -0.884539  0.775162   \n",
       "23   -2.385233  0.109542  0.478379    ...     0.174235 -0.884539  0.027617   \n",
       "24   -0.283073  0.293340  0.658718    ...     0.258900 -0.884539  0.507768   \n",
       "25    0.736817 -0.205045  0.025004    ...    -0.062576  0.748397  0.603027   \n",
       "26    0.986669  0.644168 -0.090269    ...    -0.250760 -0.884539  0.243634   \n",
       "27   -0.214895  1.488323  0.914236    ...     0.262979 -0.884539 -2.132853   \n",
       "28   -0.283073  0.210549 -0.239275    ...     0.714008  0.941657  1.073870   \n",
       "29    0.394310  0.251883  0.072176    ...     0.216505  0.773512  0.215146   \n",
       "...        ...       ...       ...    ...          ...       ...       ...   \n",
       "2083  0.916692  0.423794 -0.449287    ...     0.174235 -0.884539  0.432570   \n",
       "2084 -0.283073  0.477287 -0.090269    ...    -0.062576 -0.884539  0.755675   \n",
       "2085  0.361550  0.709067  0.384021    ...     0.817505 -0.884539  0.507768   \n",
       "2086 -0.298184  0.624857  1.053303    ...     0.051072 -0.884539 -2.132853   \n",
       "2087  0.119912 -3.165109 -0.586247    ...     0.135809  0.867617  0.034572   \n",
       "2088  0.215572  0.210549 -0.449287    ...    -3.277789  0.941657  0.432570   \n",
       "2089 -2.385233  0.709067  0.792294    ...     0.258900 -0.884539  0.186743   \n",
       "2090  2.904726  4.089438  4.139463    ...     4.199303  3.539044  2.781674   \n",
       "2091  0.231388 -0.184812  0.142589    ...     0.351082  0.760450  0.769547   \n",
       "2092 -2.385233  0.816357  0.519866    ...     0.495938  0.748397  0.484707   \n",
       "2093  0.736817 -0.205045 -0.239275    ...     0.258900  1.198055  0.765585   \n",
       "2094 -0.034280  0.293340  0.329415    ...     0.714008 -0.884539 -2.132853   \n",
       "2095  2.956150  3.908750  4.262389    ...     4.141141  3.456883  2.776838   \n",
       "2096  0.248237 -0.163612  0.605291    ...     0.434549 -0.884539 -2.132853   \n",
       "2097  0.417140  0.477287  0.384021    ...     0.392305  1.055188  0.507768   \n",
       "2098  0.295795  0.525135 -0.090269    ...     0.070943  1.135739 -0.314087   \n",
       "2099 -2.385233  0.363334  0.935375    ...     0.495938 -0.884539 -2.132853   \n",
       "2100 -0.001373  0.609593  0.525465    ...     0.216505  0.773512  0.145597   \n",
       "2101 -0.034280  0.109542  0.519866    ...     0.540074  0.941657  0.586152   \n",
       "2102 -0.250741  0.649074 -0.192222    ...    -0.208390  0.773512  0.055949   \n",
       "2103  0.295795 -0.205045  0.025004    ...     0.330477 -0.884539  0.507768   \n",
       "2104  0.361550 -0.021023  0.519866    ...    -0.250760  0.748397  0.432570   \n",
       "2105  0.394310  0.020206 -0.192222    ...    -0.208390  1.161113  0.145597   \n",
       "2106 -2.385233  0.644168  0.768179    ...     0.330477 -0.884539 -0.314087   \n",
       "2107 -0.283073  0.525135  0.433276    ...     0.174235 -0.884539 -0.314087   \n",
       "2108  0.231388  0.129455 -0.426197    ...     0.413010 -0.884539  0.737789   \n",
       "2109 -0.250741  0.020206  0.166563    ...     0.216505  1.223556 -2.132853   \n",
       "2110  0.361550  0.765836  0.384021    ...     0.070943 -0.884539  0.586152   \n",
       "2111  0.394310  0.150670  0.315511    ...     0.372597 -0.884539  0.145597   \n",
       "2112  0.361550  0.293340  0.025004    ...     0.174235 -0.884539  0.459726   \n",
       "\n",
       "        dim494    dim495    dim496    dim497    dim498    dim499    dim500  \n",
       "0     0.170548  0.313099 -0.230942  0.728900  0.153837  0.083164 -0.531366  \n",
       "1     0.191630  0.646213  0.605581  0.134810 -4.272544  0.391825  0.524090  \n",
       "2    -0.157295 -0.092482 -3.675001 -2.787503 -0.617205  0.468083 -3.671090  \n",
       "3    -0.003997 -0.287978 -0.291132 -0.434722  0.125352 -3.589250  0.065554  \n",
       "4     0.255377 -0.507966  0.534015  0.790846  0.532594 -0.362793  0.020353  \n",
       "5    -2.854078 -4.536440 -3.675001 -2.787503 -0.172832 -0.659866 -0.732159  \n",
       "6     0.255377 -0.211255 -0.337843  0.698059  0.268796  0.256736 -0.232882  \n",
       "7    -2.854078 -4.536440 -0.230942 -2.787503 -0.981051 -0.801739  0.396873  \n",
       "8     0.255377 -0.015494  0.302943  0.480893  0.178710  0.380945  0.187431  \n",
       "9     0.496366  0.387336  0.302943 -0.196124  0.415462  0.090202  0.312044  \n",
       "10   -0.340790  0.465048  0.302943 -0.470361  0.346613  0.695462  0.565506  \n",
       "11    0.448113  0.517879  0.648930 -2.787503  0.608148  0.673838  0.676955  \n",
       "12   -2.854078 -0.189093  0.278720 -0.588959  0.004424  0.233317  0.584331  \n",
       "13    0.131399  0.191820 -0.130378  0.240186 -0.462744  0.090202  0.531237  \n",
       "14    0.429904 -0.507966  0.130695  0.604132 -0.057851 -0.704238 -0.776675  \n",
       "15    0.351289  0.130513  0.431414  0.354391 -0.865922  0.180444  0.857187  \n",
       "16    0.553776  0.500226  0.224033  0.737798 -4.272544  0.523220 -0.776675  \n",
       "17    0.553776  0.061973  0.224033  0.354391  0.346613 -0.019896  0.110889  \n",
       "18    0.131399 -0.340674  0.756722  0.079280 -0.057851  0.322638 -0.090103  \n",
       "19    0.604571  0.247119  0.431414  0.240186  0.346613  0.090202  0.312044  \n",
       "20    0.170548  0.037280 -3.675001  0.843231  0.530088  0.301631 -0.732159  \n",
       "21   -0.322238 -0.482315  0.508036  0.096713 -0.200130  0.202508  0.433644  \n",
       "22   -0.043339  0.500226 -0.337843  0.807080  0.178710 -0.362793  0.494537  \n",
       "23    0.429904  0.675990 -3.675001 -0.035023 -0.057851  0.322638  0.777596  \n",
       "24    0.255377  0.675990  0.485357  0.167706  0.268796  0.090202  0.411565  \n",
       "25    0.255377  0.344335  0.371106  0.301461  0.268796 -3.589250  0.020353  \n",
       "26    0.553776  0.564959  0.371106 -0.035023 -0.865922 -0.362793  0.020353  \n",
       "27   -0.259278  0.408821 -3.675001  1.038735  0.053640 -0.268374 -0.682803  \n",
       "28   -2.854078  0.297757  0.016820  0.443109 -4.272544 -0.362793 -0.090103  \n",
       "29    0.643745  0.300034  0.666032 -0.159852  0.530088  0.425914  0.357159  \n",
       "...        ...       ...       ...       ...       ...       ...       ...  \n",
       "2083  0.429904 -0.105176  0.371106  0.443109  0.072152 -0.162211  0.411565  \n",
       "2084  0.131399  0.344335 -0.337843  0.079280  0.178710 -0.162211 -0.090103  \n",
       "2085  0.604571  0.130513  0.485357 -0.470361  0.532594  0.750530  1.052252  \n",
       "2086 -0.061460 -0.532417 -3.675001  0.062268 -0.890410  0.612564 -0.253751  \n",
       "2087 -2.854078 -0.897516  0.088332 -2.787503  0.023789  0.534141  0.322960  \n",
       "2088  0.553776 -0.507966  0.130695  0.773922 -0.225897 -0.704238 -0.232882  \n",
       "2089  0.351289 -0.340674 -0.691003  0.301461 -0.462744  0.665536 -0.090103  \n",
       "2090  2.577846  3.574743  4.464054  2.672342  3.376040  3.989128  4.229723  \n",
       "2091  0.449125  0.648948 -0.107808  0.319101 -0.032221  0.455026 -0.210990  \n",
       "2092  0.650005 -0.015494 -0.337843  0.240186  0.072152  0.256736 -0.090103  \n",
       "2093  0.496366  0.297757  0.302943  0.301461  0.178710  0.180444  0.411565  \n",
       "2094  0.351289  0.247119 -0.130378  0.167706 -0.462744  0.380945 -0.776675  \n",
       "2095  4.030583  4.797303  3.414139  3.421859  4.558212  4.199194  4.145331  \n",
       "2096  0.802179  0.300034 -3.675001  0.390555 -0.004916  0.795480  0.065554  \n",
       "2097 -0.043339 -0.105176 -0.691003  0.629794  0.415462  0.090202 -0.090103  \n",
       "2098  0.351289  0.387336  0.534015  0.515492  0.477045 -0.362793  0.364368  \n",
       "2099 -0.340790 -0.743749 -0.337843 -0.196124 -0.057851  0.750530 -0.434118  \n",
       "2100  0.294430 -1.092957 -3.675001  0.915657 -0.172832  0.301631  0.065554  \n",
       "2101  0.351289  0.623120  0.016820  0.301461  0.415462 -0.704238  0.020353  \n",
       "2102  0.390538  0.300034 -0.083896  0.734162  0.321808  0.225405  0.155997  \n",
       "2103 -0.043339  0.675990  0.016820  0.807080 -0.865922 -0.019896 -0.434118  \n",
       "2104 -0.043339  0.130513  0.016820  0.576697  0.178710  0.090202  0.627586  \n",
       "2105  0.689138  0.440243  0.177294  0.712682  0.399781 -0.117271  0.357159  \n",
       "2106 -0.043339 -0.211255  0.016820 -0.470361  0.178710  0.562845  0.312044  \n",
       "2107  0.429904 -0.211255  0.534015  0.354391  0.630249  0.433099  0.187431  \n",
       "2108  0.449125  0.323563 -0.107808  0.319101 -0.840776  0.112407  0.042631  \n",
       "2109 -0.302135 -0.455139  0.177294  0.001071  0.990641  0.301631  0.456727  \n",
       "2110  0.496366  0.623120  0.888678  0.737798 -0.462744  0.480143  0.110889  \n",
       "2111  0.767692  0.300034  0.417678  0.115285  0.636563  0.425914  0.610627  \n",
       "2112  0.604571 -0.105176  0.578570  0.698059 -0.057851 -0.362793  0.655978  \n",
       "\n",
       "[2113 rows x 500 columns]"
      ]
     },
     "execution_count": 121,
     "metadata": {},
     "output_type": "execute_result"
    }
   ],
   "source": [
    "X_tr_stand"
   ]
  },
  {
   "cell_type": "code",
   "execution_count": 122,
   "metadata": {
    "collapsed": false
   },
   "outputs": [
    {
     "name": "stdout",
     "output_type": "stream",
     "text": [
      "Value of C: [ 0.00069519]\n",
      "Normal Classification score on training:  0.734027449124\n",
      "Normal Classification score on test:  0.674752920036\n",
      "Log loss score:  0.616736695899\n"
     ]
    }
   ],
   "source": [
    "lr = LogisticRegressionCV(Cs=20, cv=5, solver=\"lbfgs\", random_state=10)\n",
    "lr.fit(X_tr_stand,y_tr)\n",
    "\n",
    "print(\"Value of C:\", lr.C_)\n",
    "print(\"Normal Classification score on training: \", lr.score(X_tr_stand,y_tr))\n",
    "print(\"Normal Classification score on test: \", lr.score(X_val_stand,y_val))\n",
    "print(\"Log loss score: \", log_loss(y_val,lr.predict_proba(X_val_stand)))"
   ]
  },
  {
   "cell_type": "markdown",
   "metadata": {},
   "source": [
    "The log-loss score seems somewhat high... the classification score seems bad"
   ]
  },
  {
   "cell_type": "code",
   "execution_count": null,
   "metadata": {
    "collapsed": true
   },
   "outputs": [],
   "source": [
    "kf = KFold(n=X_tr.shape[0],n_folds=3)"
   ]
  },
  {
   "cell_type": "code",
   "execution_count": null,
   "metadata": {
    "collapsed": false,
    "scrolled": true
   },
   "outputs": [],
   "source": [
    "#for rbf\n",
    "score_array = []\n",
    "i = 0\n",
    "X_c = np.logspace(-2, 4, 10)\n",
    "X_g = np.logspace(-4, 0, 10)\n",
    "for train_index, test_index in kf:\n",
    "    score_array.append([])\n",
    "    t=0\n",
    "    \n",
    "    for c in X_c:\n",
    "        score_array[i].append([])\n",
    "        for g in X_g:\n",
    "            svm_rbf = SVC(kernel=\"rbf\", C=c,gamma=g,probability=True)\n",
    "            svm_rbf.fit(X_tr_stand.iloc[train_index],y_tr[train_index])\n",
    "            score_array[i][t].append(log_loss(y_tr[test_index],svm_rbf.predict_proba(X_tr_stand.iloc[test_index])))\n",
    "        \n",
    "        t+=1\n",
    "    i+=1\n",
    "\n",
    "\n",
    "def get_score(score_array,row,col):\n",
    "    ans = 0\n",
    "    for instance_index, instance in enumerate(score_array):\n",
    "        ans += score_array[instance_index][row][col]\n",
    "    return ans/len(score_array)\n",
    "\n",
    "mean_score = []\n",
    "i=0\n",
    "for c_index, c in enumerate(X_c):\n",
    "    mean_score.append([])\n",
    "    for g_index, g in enumerate(X_g):\n",
    "        \n",
    "        mean_score[i].append(get_score(score_array,c_index,g_index))\n",
    "    i+=1\n",
    "\n",
    "\n",
    "fig = plt.figure()\n",
    "df = pd.DataFrame(mean_score)\n",
    "df.columns= X_g\n",
    "df.set_index(X_c,inplace=True)\n",
    "\n",
    "sns.heatmap(data=df)\n",
    "plt.title(\"Log_loss scores varying C and gamma\")\n",
    "plt.xlabel(\"gamma\")\n",
    "plt.ylabel(\"C\")"
   ]
  },
  {
   "cell_type": "code",
   "execution_count": null,
   "metadata": {
    "collapsed": false
   },
   "outputs": [],
   "source": [
    "best_score = df.min().min()\n",
    "s = df.stack()\n",
    "t = s[s==best_score]\n",
    "highest_c = t.index.tolist()[0][0]\n",
    "highest_g =   t.index.tolist()[0][1]\n",
    "\n",
    "print(\"Best log_loss score:\" ,best_score,\"with c: \" , highest_c, \"and g: \", highest_g)"
   ]
  },
  {
   "cell_type": "code",
   "execution_count": null,
   "metadata": {
    "collapsed": false,
    "scrolled": true
   },
   "outputs": [],
   "source": [
    "svm_rbf = SVC(kernel=\"rbf\", C=highest_c,gamma=highest_g,probability=True)\n",
    "svm_rbf.fit(X_tr_stand, y_tr)\n",
    "\n",
    "print(\"Classification Score on training set: \" , svm_rbf.score(X_tr_stand,y_tr))\n",
    "print(\"Classification Score on validation set: \" , svm_rbf.score(X_val_stand,y_val))\n",
    "print(\"Log loss score: \", log_loss(y_val,svm_rbf.predict_proba(X_val_stand)))"
   ]
  },
  {
   "cell_type": "code",
   "execution_count": null,
   "metadata": {
    "collapsed": true
   },
   "outputs": [],
   "source": [
    "i = 0\n",
    "score_array = []\n",
    "X = np.arange(1,8)\n",
    "for train_index, test_index in kf:\n",
    "    score_array.append([])\n",
    "    for deg in X:\n",
    "        svm_poly = SVC( kernel=\"poly\", degree=deg)\n",
    "        svm_poly.fit(X_tr_stand.iloc[train_index],y_tr[train_index])\n",
    "        \n",
    "        score_array[i].append(log_loss(y_tr[test_index],svm_rbf.predict_proba(X_tr_stand.iloc[test_index])))\n",
    "    i+=1\n"
   ]
  },
  {
   "cell_type": "code",
   "execution_count": null,
   "metadata": {
    "collapsed": false
   },
   "outputs": [],
   "source": [
    "score_array = pd.DataFrame(score_array)\n",
    "mean_score = score_array.mean(axis=0)\n",
    "\n",
    "highest_mean_score = mean_score.min()\n",
    "highest_g =  X[mean_score[mean_score==mean_score.max()].index[0]]\n",
    "print(\"Best degree: \",highest_g, \"with a mean score of : \", highest_mean_score )"
   ]
  },
  {
   "cell_type": "code",
   "execution_count": null,
   "metadata": {
    "collapsed": false
   },
   "outputs": [],
   "source": [
    "fig = plt.figure() \n",
    "df = pd.DataFrame(mean_score)\n",
    "df.set_index(X)\n",
    "df.plot(title=\"Mean classfication score for degree\")\n",
    "plt.xlabel(\"degree\")\n",
    "plt.ylabel(\"Mean Classification Score\")\n",
    "plt.show()"
   ]
  },
  {
   "cell_type": "code",
   "execution_count": null,
   "metadata": {
    "collapsed": false
   },
   "outputs": [],
   "source": [
    "score_array"
   ]
  },
  {
   "cell_type": "code",
   "execution_count": 103,
   "metadata": {
    "collapsed": false
   },
   "outputs": [
    {
     "data": {
      "text/plain": [
       "(1113, 2)"
      ]
     },
     "execution_count": 103,
     "metadata": {},
     "output_type": "execute_result"
    }
   ],
   "source": []
  },
  {
   "cell_type": "code",
   "execution_count": 127,
   "metadata": {
    "collapsed": false
   },
   "outputs": [],
   "source": [
    "# Execute this cell to export your results\n",
    "from numpy import savetxt\n",
    "def save_predictions(pred_proba):\n",
    "    if pred_proba.shape != (1114,2):\n",
    "        raise ValueError('Predicted probabilities array is not the right shape.')\n",
    "    \n",
    "    savetxt('assignment_3_predictions.txt', pred_proba)\n",
    "\n",
    "# You need to replace \"test_images_partB_pred_proba\"\n",
    "# with the name of the array which contains the probability \n",
    "# estimates for the data in the test set.\n",
    "save_predictions(lr.predict_proba(X_test_stand))"
   ]
  },
  {
   "cell_type": "markdown",
   "metadata": {
    "collapsed": true
   },
   "source": [
    "# Appendix"
   ]
  },
  {
   "cell_type": "markdown",
   "metadata": {},
   "source": [
    "## More information about visual words"
   ]
  },
  {
   "cell_type": "markdown",
   "metadata": {},
   "source": [
    "Visual words are based on [Scale-invariant feature transforms (SIFT)](https://en.wikipedia.org/wiki/Scale-invariant_feature_transform). SIFT features are essentially local orientation histograms and capture the properties of small image regions. They possess attractive invariance properties which make them well suited for our task (you can read more about SIFT features in [D.Lowe, IJCV 60(2):91- 110, 2004](http://link.springer.com/article/10.1023/B:VISI.0000029664.99615.94), but the details don't matter for the purpose of this assignment). Each SIFT feature is a 128 dimensional vector. From each image many SIFT features are extracted, typically > 2500 per image (features are extracted at regular intervals using a 15 pixel grid and at 4 different scales). To obtain visual words a representative subset of all extracted SIFT features from all images is chosen and clustered with k-means using 500 centres (such use of the k-means algorithm will be discussed in detail during the lecture). These 500 cluster centres form our visual words. The representation of a single image is obtained by first assigning each SIFT feature extracted from the image to the appropriate cluster (i.e. we determine the visual word corresponding to each feature by picking the closest cluster centre). We then count the number of features from that image assigned to each cluster (i.e. we determine how often each visual word is present in the image). This results in a 500 dimensional count vector for each image (one dimension for each visual word). The normalized version of this count vector gives the final representation of the image (normalized means that we divide the count vector by the total number of visual words in the image, i.e. the normalized counts sum to 1 for each image)"
   ]
  }
 ],
 "metadata": {
  "anaconda-cloud": {},
  "kernelspec": {
   "display_name": "Python 3",
   "language": "python",
   "name": "python3"
  },
  "language_info": {
   "codemirror_mode": {
    "name": "ipython",
    "version": 3
   },
   "file_extension": ".py",
   "mimetype": "text/x-python",
   "name": "python",
   "nbconvert_exporter": "python",
   "pygments_lexer": "ipython3",
   "version": "3.6.0"
  }
 },
 "nbformat": 4,
 "nbformat_minor": 1
}
