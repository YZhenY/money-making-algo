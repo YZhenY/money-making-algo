{
 "cells": [
  {
   "cell_type": "code",
   "execution_count": 1,
   "metadata": {
    "collapsed": false,
    "scrolled": true
   },
   "outputs": [
    {
     "name": "stderr",
     "output_type": "stream",
     "text": [
      "C:\\ProgramData\\Anaconda3\\lib\\site-packages\\sklearn\\cross_validation.py:44: DeprecationWarning: This module was deprecated in version 0.18 in favor of the model_selection module into which all the refactored classes and functions are moved. Also note that the interface of the new CV iterators are different from that of this module. This module will be removed in 0.20.\n",
      "  \"This module will be removed in 0.20.\", DeprecationWarning)\n"
     ]
    }
   ],
   "source": [
    "import os\n",
    "import math\n",
    "import quandl\n",
    "import itertools\n",
    "import numpy as np \n",
    "import pandas as pd\n",
    "import matplotlib.pyplot as plt\n",
    "import seaborn as sns\n",
    "from sklearn.model_selection import train_test_split\n",
    "from sklearn.preprocessing import LabelEncoder\n",
    "from sklearn.preprocessing import StandardScaler\n",
    "from sklearn.linear_model import LogisticRegression\n",
    "from sklearn.cross_validation import KFold\n",
    "from sklearn.svm import LinearSVC, SVC\n",
    "from sklearn.linear_model import LogisticRegressionCV\n",
    "from sklearn.neighbors import KNeighborsClassifier\n",
    "from sklearn.ensemble import RandomForestClassifier\n",
    "from sklearn.metrics import log_loss\n",
    "KNeighboursClassifier = KNeighborsClassifier\n",
    "from sklearn.metrics import confusion_matrix, log_loss\n",
    "from sklearn.cluster import KMeans\n",
    "from sklearn.metrics import adjusted_rand_score\n",
    "from sklearn.decomposition import PCA\n",
    "from sklearn.metrics import confusion_matrix\n",
    "%matplotlib inline\n",
    "# Your code goes here"
   ]
  },
  {
   "cell_type": "code",
   "execution_count": 2,
   "metadata": {
    "collapsed": true
   },
   "outputs": [],
   "source": [
    "import requests"
   ]
  },
  {
   "cell_type": "code",
   "execution_count": 3,
   "metadata": {
    "collapsed": true
   },
   "outputs": [],
   "source": [
    "import json"
   ]
  },
  {
   "cell_type": "code",
   "execution_count": 4,
   "metadata": {
    "collapsed": false
   },
   "outputs": [
    {
     "data": {
      "text/html": [
       "<div>\n",
       "<table border=\"1\" class=\"dataframe\">\n",
       "  <thead>\n",
       "    <tr style=\"text-align: right;\">\n",
       "      <th></th>\n",
       "      <th>High</th>\n",
       "      <th>Low</th>\n",
       "      <th>Mid</th>\n",
       "      <th>Last</th>\n",
       "      <th>Bid</th>\n",
       "      <th>Ask</th>\n",
       "      <th>Volume</th>\n",
       "    </tr>\n",
       "    <tr>\n",
       "      <th>Date</th>\n",
       "      <th></th>\n",
       "      <th></th>\n",
       "      <th></th>\n",
       "      <th></th>\n",
       "      <th></th>\n",
       "      <th></th>\n",
       "      <th></th>\n",
       "    </tr>\n",
       "  </thead>\n",
       "  <tbody>\n",
       "    <tr>\n",
       "      <th>2017-11-30</th>\n",
       "      <td>9647.3</td>\n",
       "      <td>7596.798998</td>\n",
       "      <td>8243.85</td>\n",
       "      <td>8268.6</td>\n",
       "      <td>8241.0</td>\n",
       "      <td>8246.7</td>\n",
       "      <td>8856.520924</td>\n",
       "    </tr>\n",
       "    <tr>\n",
       "      <th>2017-12-31</th>\n",
       "      <td>9768.0</td>\n",
       "      <td>9033.100000</td>\n",
       "      <td>9768.25</td>\n",
       "      <td>9768.0</td>\n",
       "      <td>9767.8</td>\n",
       "      <td>9768.7</td>\n",
       "      <td>2370.582143</td>\n",
       "    </tr>\n",
       "  </tbody>\n",
       "</table>\n",
       "</div>"
      ],
      "text/plain": [
       "              High          Low      Mid    Last     Bid     Ask       Volume\n",
       "Date                                                                         \n",
       "2017-11-30  9647.3  7596.798998  8243.85  8268.6  8241.0  8246.7  8856.520924\n",
       "2017-12-31  9768.0  9033.100000  9768.25  9768.0  9767.8  9768.7  2370.582143"
      ]
     },
     "execution_count": 4,
     "metadata": {},
     "output_type": "execute_result"
    }
   ],
   "source": [
    "#quandl database query through API\n",
    "quandl.ApiConfig.api_key = 'gTmSNjbQR-8Q5U9pukHX'\n",
    "quandl.get('BITFINEX/BTCEUR',collapse=\"monthly\")\n"
   ]
  },
  {
   "cell_type": "code",
   "execution_count": 5,
   "metadata": {
    "collapsed": false
   },
   "outputs": [],
   "source": [
    "#downloaded dataset for daily price\n",
    "data_path = os.path.join(os.getcwd(), 'datasets', 'cryptocurrencyhistoricaldata','ethereum.csv')\n",
    "train_A = pd.read_csv(data_path, delimiter = ';')"
   ]
  },
  {
   "cell_type": "code",
   "execution_count": 6,
   "metadata": {
    "collapsed": false,
    "scrolled": false
   },
   "outputs": [],
   "source": [
    "#general coin informaiton from crypto compare\n",
    "response = requests.get(\"https://www.cryptocompare.com/api/data/coinlist/\")\n",
    "coinInfo = response.json()\n",
    "coinInfo = coinInfo['Data']\n",
    "json.dumps(coinInfo)\n",
    "coinInfo = pd.read_json(json.dumps(coinInfo),orient='index')"
   ]
  },
  {
   "cell_type": "code",
   "execution_count": 7,
   "metadata": {
    "collapsed": false,
    "scrolled": false
   },
   "outputs": [],
   "source": [
    "#retriving (eth) price from crypto compare\n",
    "parameters = {\"fsym\":\"ETH\",\"tsym\":\"BTC\"}\n",
    "response = requests.get(\"https://min-api.cryptocompare.com/data/histominute\",params=parameters)\n",
    "ethPriceByMin = response.json()\n",
    "ethPriceByMin = ethPriceByMin[\"Data\"]\n",
    "ethPriceByMin = pd.read_json(json.dumps(ethPriceByMin),orient=\"columns\")\n"
   ]
  },
  {
   "cell_type": "code",
   "execution_count": 33,
   "metadata": {
    "collapsed": false
   },
   "outputs": [],
   "source": [
    "# retriveing from GDAX using unofficial client package\n",
    "#importing GDAX package from local directory\n",
    "import sys\n",
    "\n",
    "\n",
    "\n",
    "sys.path.insert(0,'C:/Users/Yong Zhen Yu/Documents/gdax-python/gdax')\n",
    "sys.path.insert(0,'C:/Users/Yong Zhen Yu/Documents/gdax-python')\n",
    "\n",
    "import gdax\n",
    "\n",
    "public_client = gdax.PublicClient()\n",
    "\n",
    "len(public_client.get_product_historic_rates(\"ETH-USD\"))"
   ]
  },
  {
   "cell_type": "code",
   "execution_count": null,
   "metadata": {
    "collapsed": true
   },
   "outputs": [],
   "source": []
  }
 ],
 "metadata": {
  "kernelspec": {
   "display_name": "Python 3",
   "language": "python",
   "name": "python3"
  },
  "language_info": {
   "codemirror_mode": {
    "name": "ipython",
    "version": 3
   },
   "file_extension": ".py",
   "mimetype": "text/x-python",
   "name": "python",
   "nbconvert_exporter": "python",
   "pygments_lexer": "ipython3",
   "version": "3.6.0"
  }
 },
 "nbformat": 4,
 "nbformat_minor": 2
}
